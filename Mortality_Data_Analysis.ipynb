{
  "cells": [
    {
      "cell_type": "markdown",
      "id": "b4ca32ff-809a-47f5-aab4-37ea8ef3f7c2",
      "metadata": {
        "noteable": {
          "cell_type": "markdown"
        }
      },
      "source": [
        "# Mortality 2019 Data Analysis\n",
        "This notebook will perform an exploratory data analysis on the mortality data provided by the World Health Organization (WHO). The data file is named `Data2019_deaths_country.csv`.\n",
        "\n",
        "Engr. Ivan Ozono"
      ]
    },
    {
      "cell_type": "markdown",
      "id": "2ae30447",
      "metadata": {},
      "source": [
        "# Objective\n",
        "\n",
        "The primary objective of this analysis is to explore and understand the global patterns and distribution of mortality in the year 2019. Specifically, the analysis aims to:\n",
        "\n",
        "Analyze the Distribution of Deaths: Investigate the variation in the number of deaths across different countries, continents, and gender groups.\n",
        "\n",
        "Identify Leading Causes of Death: Examine the main categories of diseases and accidents to identify the most prominent causes of death.\n",
        "\n",
        "Examine Specific Conditions: Delve into specific conditions within broader categories to understand their contribution to global mortality.\n",
        "\n",
        "Provide Actionable Insights: Offer recommendations for targeted interventions, considering regional variations and gender differences.\n",
        "\n",
        "Set the Stage for Future Comparisons: Recognize the importance of the 2019 data as a baseline for comparison with subsequent years, including the unique circumstances of 2020 with the onset of the COVID-19 pandemic."
      ]
    },
    {
      "cell_type": "code",
      "execution_count": 1,
      "id": "67486c0d-98d9-4efd-9931-2f25a8179e6b",
      "metadata": {
        "ExecuteTime": {
          "end_time": "2023-08-04T03:28:05.544860+00:00",
          "start_time": "2023-08-04T03:28:04.597955+00:00"
        },
        "datalink": {
          "0715067c-7f60-43bc-a20b-4e65c11c0703": {
            "applied_filters": [],
            "dataframe_info": {
              "default_index_used": true,
              "orig_num_cols": 189,
              "orig_num_rows": 5,
              "orig_size_bytes": 7600,
              "truncated_num_cols": 100,
              "truncated_num_rows": 5,
              "truncated_size_bytes": 4040,
              "truncated_string_columns": []
            },
            "display_id": "0715067c-7f60-43bc-a20b-4e65c11c0703",
            "dx_settings": {
              "ALLOW_NOTEABLE_ATTRS": true,
              "COLUMN_SAMPLING_METHOD": "outer",
              "DB_LOCATION": ":memory:",
              "DEV_MODE": false,
              "DISPLAY_MAX_COLUMNS": 100,
              "DISPLAY_MAX_ROWS": 50000,
              "DISPLAY_MODE": "simple",
              "ENABLE_ASSIGNMENT": true,
              "ENABLE_DATALINK": true,
              "FLATTEN_COLUMN_VALUES": true,
              "FLATTEN_INDEX_VALUES": false,
              "GENERATE_DEX_METADATA": false,
              "HTML_TABLE_SCHEMA": false,
              "LOG_LEVEL": 30,
              "MAX_RENDER_SIZE_BYTES": 104857600,
              "MAX_STRING_LENGTH": 250,
              "NUM_PAST_SAMPLES_TRACKED": 3,
              "RANDOM_STATE": 12648430,
              "RESET_INDEX_VALUES": false,
              "ROW_SAMPLING_METHOD": "random",
              "SAMPLING_FACTOR": 0.1,
              "SAMPLING_METHOD": "random",
              "STRINGIFY_COLUMN_VALUES": true,
              "STRINGIFY_INDEX_VALUES": false
            },
            "sample_history": [],
            "sampling_time": "2023-07-27T18:28:36.643527",
            "user_variable_name": null,
            "variable_name": "unk_dataframe_66c7bb6a4d3e4005b1e3089b3a341870"
          },
          "102d05d7-214f-4dc5-8d8e-78bbbe98bb01": {
            "applied_filters": [],
            "dataframe_info": {
              "default_index_used": true,
              "orig_num_cols": 189,
              "orig_num_rows": 5,
              "orig_size_bytes": 7600,
              "truncated_num_cols": 100,
              "truncated_num_rows": 5,
              "truncated_size_bytes": 4040,
              "truncated_string_columns": []
            },
            "display_id": "102d05d7-214f-4dc5-8d8e-78bbbe98bb01",
            "dx_settings": {
              "ALLOW_NOTEABLE_ATTRS": true,
              "COLUMN_SAMPLING_METHOD": "outer",
              "DB_LOCATION": ":memory:",
              "DEV_MODE": false,
              "DISPLAY_MAX_COLUMNS": 100,
              "DISPLAY_MAX_ROWS": 50000,
              "DISPLAY_MODE": "simple",
              "ENABLE_ASSIGNMENT": true,
              "ENABLE_DATALINK": true,
              "FLATTEN_COLUMN_VALUES": true,
              "FLATTEN_INDEX_VALUES": false,
              "GENERATE_DEX_METADATA": false,
              "HTML_TABLE_SCHEMA": false,
              "LOG_LEVEL": 30,
              "MAX_RENDER_SIZE_BYTES": 104857600,
              "MAX_STRING_LENGTH": 250,
              "NUM_PAST_SAMPLES_TRACKED": 3,
              "RANDOM_STATE": 12648430,
              "RESET_INDEX_VALUES": false,
              "ROW_SAMPLING_METHOD": "random",
              "SAMPLING_FACTOR": 0.1,
              "SAMPLING_METHOD": "random",
              "STRINGIFY_COLUMN_VALUES": true,
              "STRINGIFY_INDEX_VALUES": false
            },
            "sample_history": [],
            "sampling_time": "2023-08-04T03:28:05.354494",
            "user_variable_name": null,
            "variable_name": "unk_dataframe_fb6839a25feb4afb9fbc7cca5f151d45"
          },
          "104e3c09-00dd-46b2-84c9-257fbd7c7af9": {
            "applied_filters": [],
            "dataframe_info": {
              "default_index_used": true,
              "orig_num_cols": 189,
              "orig_num_rows": 5,
              "orig_size_bytes": 7600,
              "truncated_num_cols": 100,
              "truncated_num_rows": 5,
              "truncated_size_bytes": 4040,
              "truncated_string_columns": []
            },
            "display_id": "104e3c09-00dd-46b2-84c9-257fbd7c7af9",
            "dx_settings": {
              "ALLOW_NOTEABLE_ATTRS": true,
              "COLUMN_SAMPLING_METHOD": "outer",
              "DB_LOCATION": ":memory:",
              "DEV_MODE": false,
              "DISPLAY_MAX_COLUMNS": 100,
              "DISPLAY_MAX_ROWS": 50000,
              "DISPLAY_MODE": "simple",
              "ENABLE_ASSIGNMENT": true,
              "ENABLE_DATALINK": true,
              "FLATTEN_COLUMN_VALUES": true,
              "FLATTEN_INDEX_VALUES": false,
              "GENERATE_DEX_METADATA": false,
              "HTML_TABLE_SCHEMA": false,
              "LOG_LEVEL": 30,
              "MAX_RENDER_SIZE_BYTES": 104857600,
              "MAX_STRING_LENGTH": 250,
              "NUM_PAST_SAMPLES_TRACKED": 3,
              "RANDOM_STATE": 12648430,
              "RESET_INDEX_VALUES": false,
              "ROW_SAMPLING_METHOD": "random",
              "SAMPLING_FACTOR": 0.1,
              "SAMPLING_METHOD": "random",
              "STRINGIFY_COLUMN_VALUES": true,
              "STRINGIFY_INDEX_VALUES": false
            },
            "sample_history": [],
            "sampling_time": "2023-07-28T00:58:06.821971",
            "user_variable_name": null,
            "variable_name": "unk_dataframe_1eeb6068140b41d1b1f7d493bfb1cec5"
          },
          "474580ed-41c8-452d-8e6e-8fa6d082eff6": {
            "applied_filters": [],
            "dataframe_info": {
              "default_index_used": true,
              "orig_num_cols": 189,
              "orig_num_rows": 5,
              "orig_size_bytes": 7600,
              "truncated_num_cols": 100,
              "truncated_num_rows": 5,
              "truncated_size_bytes": 4040,
              "truncated_string_columns": []
            },
            "display_id": "474580ed-41c8-452d-8e6e-8fa6d082eff6",
            "dx_settings": {
              "ALLOW_NOTEABLE_ATTRS": true,
              "COLUMN_SAMPLING_METHOD": "outer",
              "DB_LOCATION": ":memory:",
              "DEV_MODE": false,
              "DISPLAY_MAX_COLUMNS": 100,
              "DISPLAY_MAX_ROWS": 50000,
              "DISPLAY_MODE": "simple",
              "ENABLE_ASSIGNMENT": true,
              "ENABLE_DATALINK": true,
              "FLATTEN_COLUMN_VALUES": true,
              "FLATTEN_INDEX_VALUES": false,
              "GENERATE_DEX_METADATA": false,
              "HTML_TABLE_SCHEMA": false,
              "LOG_LEVEL": 30,
              "MAX_RENDER_SIZE_BYTES": 104857600,
              "MAX_STRING_LENGTH": 250,
              "NUM_PAST_SAMPLES_TRACKED": 3,
              "RANDOM_STATE": 12648430,
              "RESET_INDEX_VALUES": false,
              "ROW_SAMPLING_METHOD": "random",
              "SAMPLING_FACTOR": 0.1,
              "SAMPLING_METHOD": "random",
              "STRINGIFY_COLUMN_VALUES": true,
              "STRINGIFY_INDEX_VALUES": false
            },
            "sample_history": [],
            "sampling_time": "2023-07-24T21:56:20.241986",
            "user_variable_name": null,
            "variable_name": "unk_dataframe_5b4bcd69e8cd4d8fad2b0b5dedb400df"
          },
          "68d39643-c8aa-4f08-8dfb-5c22b8b7820c": {
            "applied_filters": [],
            "dataframe_info": {
              "default_index_used": true,
              "orig_num_cols": 189,
              "orig_num_rows": 5,
              "orig_size_bytes": 7600,
              "truncated_num_cols": 100,
              "truncated_num_rows": 5,
              "truncated_size_bytes": 4040,
              "truncated_string_columns": []
            },
            "display_id": "68d39643-c8aa-4f08-8dfb-5c22b8b7820c",
            "dx_settings": {
              "ALLOW_NOTEABLE_ATTRS": true,
              "COLUMN_SAMPLING_METHOD": "outer",
              "DB_LOCATION": ":memory:",
              "DEV_MODE": false,
              "DISPLAY_MAX_COLUMNS": 100,
              "DISPLAY_MAX_ROWS": 50000,
              "DISPLAY_MODE": "simple",
              "ENABLE_ASSIGNMENT": true,
              "ENABLE_DATALINK": true,
              "FLATTEN_COLUMN_VALUES": true,
              "FLATTEN_INDEX_VALUES": false,
              "GENERATE_DEX_METADATA": false,
              "HTML_TABLE_SCHEMA": false,
              "LOG_LEVEL": 30,
              "MAX_RENDER_SIZE_BYTES": 104857600,
              "MAX_STRING_LENGTH": 250,
              "NUM_PAST_SAMPLES_TRACKED": 3,
              "RANDOM_STATE": 12648430,
              "RESET_INDEX_VALUES": false,
              "ROW_SAMPLING_METHOD": "random",
              "SAMPLING_FACTOR": 0.1,
              "SAMPLING_METHOD": "random",
              "STRINGIFY_COLUMN_VALUES": true,
              "STRINGIFY_INDEX_VALUES": false
            },
            "sample_history": [],
            "sampling_time": "2023-07-25T06:23:22.627394",
            "user_variable_name": null,
            "variable_name": "unk_dataframe_b2d0d2178e3244d6b97ffb55c5e557d5"
          },
          "699a4bf2-8d3e-4631-9cdc-ddf71f9f5ed7": {
            "applied_filters": [],
            "dataframe_info": {
              "default_index_used": true,
              "orig_num_cols": 189,
              "orig_num_rows": 5,
              "orig_size_bytes": 7600,
              "truncated_num_cols": 100,
              "truncated_num_rows": 5,
              "truncated_size_bytes": 4040,
              "truncated_string_columns": []
            },
            "display_id": "699a4bf2-8d3e-4631-9cdc-ddf71f9f5ed7",
            "dx_settings": {
              "ALLOW_NOTEABLE_ATTRS": true,
              "COLUMN_SAMPLING_METHOD": "outer",
              "DB_LOCATION": ":memory:",
              "DEV_MODE": false,
              "DISPLAY_MAX_COLUMNS": 100,
              "DISPLAY_MAX_ROWS": 50000,
              "DISPLAY_MODE": "simple",
              "ENABLE_ASSIGNMENT": true,
              "ENABLE_DATALINK": true,
              "FLATTEN_COLUMN_VALUES": true,
              "FLATTEN_INDEX_VALUES": false,
              "GENERATE_DEX_METADATA": false,
              "HTML_TABLE_SCHEMA": false,
              "LOG_LEVEL": 30,
              "MAX_RENDER_SIZE_BYTES": 104857600,
              "MAX_STRING_LENGTH": 250,
              "NUM_PAST_SAMPLES_TRACKED": 3,
              "RANDOM_STATE": 12648430,
              "RESET_INDEX_VALUES": false,
              "ROW_SAMPLING_METHOD": "random",
              "SAMPLING_FACTOR": 0.1,
              "SAMPLING_METHOD": "random",
              "STRINGIFY_COLUMN_VALUES": true,
              "STRINGIFY_INDEX_VALUES": false
            },
            "sample_history": [],
            "sampling_time": "2023-08-04T02:38:51.612530",
            "user_variable_name": null,
            "variable_name": "unk_dataframe_d7caeb8136484ecf94c3d59b01bb1f65"
          },
          "79888b4a-7211-44cc-9f99-2f0b4dd07ca7": {
            "applied_filters": [],
            "dataframe_info": {
              "default_index_used": true,
              "orig_num_cols": 189,
              "orig_num_rows": 5,
              "orig_size_bytes": 7600,
              "truncated_num_cols": 100,
              "truncated_num_rows": 5,
              "truncated_size_bytes": 4040,
              "truncated_string_columns": []
            },
            "display_id": "79888b4a-7211-44cc-9f99-2f0b4dd07ca7",
            "dx_settings": {
              "ALLOW_NOTEABLE_ATTRS": true,
              "COLUMN_SAMPLING_METHOD": "outer",
              "DB_LOCATION": ":memory:",
              "DEV_MODE": false,
              "DISPLAY_MAX_COLUMNS": 100,
              "DISPLAY_MAX_ROWS": 50000,
              "DISPLAY_MODE": "simple",
              "ENABLE_ASSIGNMENT": true,
              "ENABLE_DATALINK": true,
              "FLATTEN_COLUMN_VALUES": true,
              "FLATTEN_INDEX_VALUES": false,
              "GENERATE_DEX_METADATA": false,
              "HTML_TABLE_SCHEMA": false,
              "LOG_LEVEL": 30,
              "MAX_RENDER_SIZE_BYTES": 104857600,
              "MAX_STRING_LENGTH": 250,
              "NUM_PAST_SAMPLES_TRACKED": 3,
              "RANDOM_STATE": 12648430,
              "RESET_INDEX_VALUES": false,
              "ROW_SAMPLING_METHOD": "random",
              "SAMPLING_FACTOR": 0.1,
              "SAMPLING_METHOD": "random",
              "STRINGIFY_COLUMN_VALUES": true,
              "STRINGIFY_INDEX_VALUES": false
            },
            "sample_history": [],
            "sampling_time": "2023-07-24T20:43:19.205850",
            "user_variable_name": null,
            "variable_name": "unk_dataframe_4fc7bce29c994e87a6c89564100e192c"
          },
          "8a7a3276-cede-41cf-baae-153122fb60d6": {
            "applied_filters": [],
            "dataframe_info": {
              "default_index_used": true,
              "orig_num_cols": 189,
              "orig_num_rows": 5,
              "orig_size_bytes": 7600,
              "truncated_num_cols": 100,
              "truncated_num_rows": 5,
              "truncated_size_bytes": 4040,
              "truncated_string_columns": []
            },
            "display_id": "8a7a3276-cede-41cf-baae-153122fb60d6",
            "dx_settings": {
              "ALLOW_NOTEABLE_ATTRS": true,
              "COLUMN_SAMPLING_METHOD": "outer",
              "DB_LOCATION": ":memory:",
              "DEV_MODE": false,
              "DISPLAY_MAX_COLUMNS": 100,
              "DISPLAY_MAX_ROWS": 50000,
              "DISPLAY_MODE": "simple",
              "ENABLE_ASSIGNMENT": true,
              "ENABLE_DATALINK": true,
              "FLATTEN_COLUMN_VALUES": true,
              "FLATTEN_INDEX_VALUES": false,
              "GENERATE_DEX_METADATA": false,
              "HTML_TABLE_SCHEMA": false,
              "LOG_LEVEL": 30,
              "MAX_RENDER_SIZE_BYTES": 104857600,
              "MAX_STRING_LENGTH": 250,
              "NUM_PAST_SAMPLES_TRACKED": 3,
              "RANDOM_STATE": 12648430,
              "RESET_INDEX_VALUES": false,
              "ROW_SAMPLING_METHOD": "random",
              "SAMPLING_FACTOR": 0.1,
              "SAMPLING_METHOD": "random",
              "STRINGIFY_COLUMN_VALUES": true,
              "STRINGIFY_INDEX_VALUES": false
            },
            "sample_history": [],
            "sampling_time": "2023-07-24T19:25:26.543863",
            "user_variable_name": null,
            "variable_name": "unk_dataframe_7c909eaa8b81457aaf6d5a8ef6fe3734"
          },
          "ac5daefc-2193-480b-b31d-d034dc07c1e6": {
            "applied_filters": [],
            "dataframe_info": {
              "default_index_used": true,
              "orig_num_cols": 189,
              "orig_num_rows": 5,
              "orig_size_bytes": 7600,
              "truncated_num_cols": 100,
              "truncated_num_rows": 5,
              "truncated_size_bytes": 4040,
              "truncated_string_columns": []
            },
            "display_id": "ac5daefc-2193-480b-b31d-d034dc07c1e6",
            "dx_settings": {
              "ALLOW_NOTEABLE_ATTRS": true,
              "COLUMN_SAMPLING_METHOD": "outer",
              "DB_LOCATION": ":memory:",
              "DEV_MODE": false,
              "DISPLAY_MAX_COLUMNS": 100,
              "DISPLAY_MAX_ROWS": 50000,
              "DISPLAY_MODE": "simple",
              "ENABLE_ASSIGNMENT": true,
              "ENABLE_DATALINK": true,
              "FLATTEN_COLUMN_VALUES": true,
              "FLATTEN_INDEX_VALUES": false,
              "GENERATE_DEX_METADATA": false,
              "HTML_TABLE_SCHEMA": false,
              "LOG_LEVEL": 30,
              "MAX_RENDER_SIZE_BYTES": 104857600,
              "MAX_STRING_LENGTH": 250,
              "NUM_PAST_SAMPLES_TRACKED": 3,
              "RANDOM_STATE": 12648430,
              "RESET_INDEX_VALUES": false,
              "ROW_SAMPLING_METHOD": "random",
              "SAMPLING_FACTOR": 0.1,
              "SAMPLING_METHOD": "random",
              "STRINGIFY_COLUMN_VALUES": true,
              "STRINGIFY_INDEX_VALUES": false
            },
            "sample_history": [],
            "sampling_time": "2023-07-25T17:26:37.790219",
            "user_variable_name": null,
            "variable_name": "unk_dataframe_651c01e773fa428d80f18d66d1485a4c"
          },
          "cc3dac87-b33f-4676-9e23-856f9f1bc3da": {
            "applied_filters": [],
            "dataframe_info": {
              "default_index_used": true,
              "orig_num_cols": 189,
              "orig_num_rows": 5,
              "orig_size_bytes": 7600,
              "truncated_num_cols": 100,
              "truncated_num_rows": 5,
              "truncated_size_bytes": 4040,
              "truncated_string_columns": []
            },
            "display_id": "cc3dac87-b33f-4676-9e23-856f9f1bc3da",
            "dx_settings": {
              "ALLOW_NOTEABLE_ATTRS": true,
              "COLUMN_SAMPLING_METHOD": "outer",
              "DB_LOCATION": ":memory:",
              "DEV_MODE": false,
              "DISPLAY_MAX_COLUMNS": 100,
              "DISPLAY_MAX_ROWS": 50000,
              "DISPLAY_MODE": "simple",
              "ENABLE_ASSIGNMENT": true,
              "ENABLE_DATALINK": true,
              "FLATTEN_COLUMN_VALUES": true,
              "FLATTEN_INDEX_VALUES": false,
              "GENERATE_DEX_METADATA": false,
              "HTML_TABLE_SCHEMA": false,
              "LOG_LEVEL": 30,
              "MAX_RENDER_SIZE_BYTES": 104857600,
              "MAX_STRING_LENGTH": 250,
              "NUM_PAST_SAMPLES_TRACKED": 3,
              "RANDOM_STATE": 12648430,
              "RESET_INDEX_VALUES": false,
              "ROW_SAMPLING_METHOD": "random",
              "SAMPLING_FACTOR": 0.1,
              "SAMPLING_METHOD": "random",
              "STRINGIFY_COLUMN_VALUES": true,
              "STRINGIFY_INDEX_VALUES": false
            },
            "sample_history": [],
            "sampling_time": "2023-07-24T20:14:34.646087",
            "user_variable_name": null,
            "variable_name": "unk_dataframe_7270fc73888c41f9865e2a08bec2771e"
          },
          "d81e0963-b4fa-4472-b15a-45fd6a1eda7e": {
            "applied_filters": [],
            "dataframe_info": {
              "default_index_used": true,
              "orig_num_cols": 189,
              "orig_num_rows": 5,
              "orig_size_bytes": 7600,
              "truncated_num_cols": 100,
              "truncated_num_rows": 5,
              "truncated_size_bytes": 4040,
              "truncated_string_columns": []
            },
            "display_id": "d81e0963-b4fa-4472-b15a-45fd6a1eda7e",
            "dx_settings": {
              "ALLOW_NOTEABLE_ATTRS": true,
              "COLUMN_SAMPLING_METHOD": "outer",
              "DB_LOCATION": ":memory:",
              "DEV_MODE": false,
              "DISPLAY_MAX_COLUMNS": 100,
              "DISPLAY_MAX_ROWS": 50000,
              "DISPLAY_MODE": "simple",
              "ENABLE_ASSIGNMENT": true,
              "ENABLE_DATALINK": true,
              "FLATTEN_COLUMN_VALUES": true,
              "FLATTEN_INDEX_VALUES": false,
              "GENERATE_DEX_METADATA": false,
              "HTML_TABLE_SCHEMA": false,
              "LOG_LEVEL": 30,
              "MAX_RENDER_SIZE_BYTES": 104857600,
              "MAX_STRING_LENGTH": 250,
              "NUM_PAST_SAMPLES_TRACKED": 3,
              "RANDOM_STATE": 12648430,
              "RESET_INDEX_VALUES": false,
              "ROW_SAMPLING_METHOD": "random",
              "SAMPLING_FACTOR": 0.1,
              "SAMPLING_METHOD": "random",
              "STRINGIFY_COLUMN_VALUES": true,
              "STRINGIFY_INDEX_VALUES": false
            },
            "sample_history": [],
            "sampling_time": "2023-07-24T21:55:54.838938",
            "user_variable_name": null,
            "variable_name": "unk_dataframe_26e01ff0a1254dd49f95da20acfc5a6f"
          },
          "dee8ab09-67b0-4e35-a923-7e2de00ce098": {
            "applied_filters": [],
            "dataframe_info": {
              "default_index_used": true,
              "orig_num_cols": 189,
              "orig_num_rows": 5,
              "orig_size_bytes": 7600,
              "truncated_num_cols": 100,
              "truncated_num_rows": 5,
              "truncated_size_bytes": 4040,
              "truncated_string_columns": []
            },
            "display_id": "dee8ab09-67b0-4e35-a923-7e2de00ce098",
            "dx_settings": {
              "ALLOW_NOTEABLE_ATTRS": true,
              "COLUMN_SAMPLING_METHOD": "outer",
              "DB_LOCATION": ":memory:",
              "DEV_MODE": false,
              "DISPLAY_MAX_COLUMNS": 100,
              "DISPLAY_MAX_ROWS": 50000,
              "DISPLAY_MODE": "simple",
              "ENABLE_ASSIGNMENT": true,
              "ENABLE_DATALINK": true,
              "FLATTEN_COLUMN_VALUES": true,
              "FLATTEN_INDEX_VALUES": false,
              "GENERATE_DEX_METADATA": false,
              "HTML_TABLE_SCHEMA": false,
              "LOG_LEVEL": 30,
              "MAX_RENDER_SIZE_BYTES": 104857600,
              "MAX_STRING_LENGTH": 250,
              "NUM_PAST_SAMPLES_TRACKED": 3,
              "RANDOM_STATE": 12648430,
              "RESET_INDEX_VALUES": false,
              "ROW_SAMPLING_METHOD": "random",
              "SAMPLING_FACTOR": 0.1,
              "SAMPLING_METHOD": "random",
              "STRINGIFY_COLUMN_VALUES": true,
              "STRINGIFY_INDEX_VALUES": false
            },
            "sample_history": [],
            "sampling_time": "2023-07-24T21:58:09.514838",
            "user_variable_name": null,
            "variable_name": "unk_dataframe_52dec1142cdf496f926e160b408e9eeb"
          },
          "e2b3c25b-3f3e-4629-b60a-95d8663b1663": {
            "applied_filters": [],
            "dataframe_info": {
              "default_index_used": true,
              "orig_num_cols": 189,
              "orig_num_rows": 5,
              "orig_size_bytes": 7600,
              "truncated_num_cols": 100,
              "truncated_num_rows": 5,
              "truncated_size_bytes": 4040,
              "truncated_string_columns": []
            },
            "display_id": "e2b3c25b-3f3e-4629-b60a-95d8663b1663",
            "dx_settings": {
              "ALLOW_NOTEABLE_ATTRS": true,
              "COLUMN_SAMPLING_METHOD": "outer",
              "DB_LOCATION": ":memory:",
              "DEV_MODE": false,
              "DISPLAY_MAX_COLUMNS": 100,
              "DISPLAY_MAX_ROWS": 50000,
              "DISPLAY_MODE": "simple",
              "ENABLE_ASSIGNMENT": true,
              "ENABLE_DATALINK": true,
              "FLATTEN_COLUMN_VALUES": true,
              "FLATTEN_INDEX_VALUES": false,
              "GENERATE_DEX_METADATA": false,
              "HTML_TABLE_SCHEMA": false,
              "LOG_LEVEL": 30,
              "MAX_RENDER_SIZE_BYTES": 104857600,
              "MAX_STRING_LENGTH": 250,
              "NUM_PAST_SAMPLES_TRACKED": 3,
              "RANDOM_STATE": 12648430,
              "RESET_INDEX_VALUES": false,
              "ROW_SAMPLING_METHOD": "random",
              "SAMPLING_FACTOR": 0.1,
              "SAMPLING_METHOD": "random",
              "STRINGIFY_COLUMN_VALUES": true,
              "STRINGIFY_INDEX_VALUES": false
            },
            "sample_history": [],
            "sampling_time": "2023-07-24T20:25:36.342268",
            "user_variable_name": null,
            "variable_name": "unk_dataframe_f3565faef54a469eb98312ea4bb7975d"
          },
          "f7b6eb96-86dd-4e6a-8c02-df1d966a0316": {
            "applied_filters": [],
            "dataframe_info": {
              "default_index_used": true,
              "orig_num_cols": 189,
              "orig_num_rows": 5,
              "orig_size_bytes": 7600,
              "truncated_num_cols": 100,
              "truncated_num_rows": 5,
              "truncated_size_bytes": 4040,
              "truncated_string_columns": []
            },
            "display_id": "f7b6eb96-86dd-4e6a-8c02-df1d966a0316",
            "dx_settings": {
              "ALLOW_NOTEABLE_ATTRS": true,
              "COLUMN_SAMPLING_METHOD": "outer",
              "DB_LOCATION": ":memory:",
              "DEV_MODE": false,
              "DISPLAY_MAX_COLUMNS": 100,
              "DISPLAY_MAX_ROWS": 50000,
              "DISPLAY_MODE": "simple",
              "ENABLE_ASSIGNMENT": true,
              "ENABLE_DATALINK": true,
              "FLATTEN_COLUMN_VALUES": true,
              "FLATTEN_INDEX_VALUES": false,
              "GENERATE_DEX_METADATA": false,
              "HTML_TABLE_SCHEMA": false,
              "LOG_LEVEL": 30,
              "MAX_RENDER_SIZE_BYTES": 104857600,
              "MAX_STRING_LENGTH": 250,
              "NUM_PAST_SAMPLES_TRACKED": 3,
              "RANDOM_STATE": 12648430,
              "RESET_INDEX_VALUES": false,
              "ROW_SAMPLING_METHOD": "random",
              "SAMPLING_FACTOR": 0.1,
              "SAMPLING_METHOD": "random",
              "STRINGIFY_COLUMN_VALUES": true,
              "STRINGIFY_INDEX_VALUES": false
            },
            "sample_history": [],
            "sampling_time": "2023-08-03T16:55:51.357364",
            "user_variable_name": null,
            "variable_name": "unk_dataframe_287ce80e56ee467db7103b6da5f233a6"
          },
          "f977f370-3035-40c0-a7a1-96c13db39952": {
            "applied_filters": [],
            "dataframe_info": {
              "default_index_used": true,
              "orig_num_cols": 189,
              "orig_num_rows": 5,
              "orig_size_bytes": 7600,
              "truncated_num_cols": 100,
              "truncated_num_rows": 5,
              "truncated_size_bytes": 4040,
              "truncated_string_columns": []
            },
            "display_id": "f977f370-3035-40c0-a7a1-96c13db39952",
            "dx_settings": {
              "ALLOW_NOTEABLE_ATTRS": true,
              "COLUMN_SAMPLING_METHOD": "outer",
              "DB_LOCATION": ":memory:",
              "DEV_MODE": false,
              "DISPLAY_MAX_COLUMNS": 100,
              "DISPLAY_MAX_ROWS": 50000,
              "DISPLAY_MODE": "simple",
              "ENABLE_ASSIGNMENT": true,
              "ENABLE_DATALINK": true,
              "FLATTEN_COLUMN_VALUES": true,
              "FLATTEN_INDEX_VALUES": false,
              "GENERATE_DEX_METADATA": false,
              "HTML_TABLE_SCHEMA": false,
              "LOG_LEVEL": 30,
              "MAX_RENDER_SIZE_BYTES": 104857600,
              "MAX_STRING_LENGTH": 250,
              "NUM_PAST_SAMPLES_TRACKED": 3,
              "RANDOM_STATE": 12648430,
              "RESET_INDEX_VALUES": false,
              "ROW_SAMPLING_METHOD": "random",
              "SAMPLING_FACTOR": 0.1,
              "SAMPLING_METHOD": "random",
              "STRINGIFY_COLUMN_VALUES": true,
              "STRINGIFY_INDEX_VALUES": false
            },
            "sample_history": [],
            "sampling_time": "2023-08-03T20:31:35.572713",
            "user_variable_name": null,
            "variable_name": "unk_dataframe_5df3cfc164f54c88a0fd291334d8b3f3"
          },
          "fce5713f-d216-41db-84fa-e832fad27818": {
            "applied_filters": [],
            "dataframe_info": {
              "default_index_used": true,
              "orig_num_cols": 189,
              "orig_num_rows": 5,
              "orig_size_bytes": 7600,
              "truncated_num_cols": 100,
              "truncated_num_rows": 5,
              "truncated_size_bytes": 4040,
              "truncated_string_columns": []
            },
            "display_id": "fce5713f-d216-41db-84fa-e832fad27818",
            "dx_settings": {
              "ALLOW_NOTEABLE_ATTRS": true,
              "COLUMN_SAMPLING_METHOD": "outer",
              "DB_LOCATION": ":memory:",
              "DEV_MODE": false,
              "DISPLAY_MAX_COLUMNS": 100,
              "DISPLAY_MAX_ROWS": 50000,
              "DISPLAY_MODE": "simple",
              "ENABLE_ASSIGNMENT": true,
              "ENABLE_DATALINK": true,
              "FLATTEN_COLUMN_VALUES": true,
              "FLATTEN_INDEX_VALUES": false,
              "GENERATE_DEX_METADATA": false,
              "HTML_TABLE_SCHEMA": false,
              "LOG_LEVEL": 30,
              "MAX_RENDER_SIZE_BYTES": 104857600,
              "MAX_STRING_LENGTH": 250,
              "NUM_PAST_SAMPLES_TRACKED": 3,
              "RANDOM_STATE": 12648430,
              "RESET_INDEX_VALUES": false,
              "ROW_SAMPLING_METHOD": "random",
              "SAMPLING_FACTOR": 0.1,
              "SAMPLING_METHOD": "random",
              "STRINGIFY_COLUMN_VALUES": true,
              "STRINGIFY_INDEX_VALUES": false
            },
            "sample_history": [],
            "sampling_time": "2023-08-03T21:34:57.868368",
            "user_variable_name": null,
            "variable_name": "unk_dataframe_df2dc0dbf7214a5fb7ab7313358cff0c"
          }
        },
        "noteable": {
          "cell_type": "code",
          "output_collection_id": "6ae02879-c0c0-4ee5-89d3-e5289dd016dd"
        }
      },
      "outputs": [
        {
          "data": {
            "text/html": [
              "<div>\n",
              "<style scoped>\n",
              "    .dataframe tbody tr th:only-of-type {\n",
              "        vertical-align: middle;\n",
              "    }\n",
              "\n",
              "    .dataframe tbody tr th {\n",
              "        vertical-align: top;\n",
              "    }\n",
              "\n",
              "    .dataframe thead th {\n",
              "        text-align: right;\n",
              "    }\n",
              "</style>\n",
              "<table border=\"1\" class=\"dataframe\">\n",
              "  <thead>\n",
              "    <tr style=\"text-align: right;\">\n",
              "      <th></th>\n",
              "      <th>Sex</th>\n",
              "      <th>GHE code</th>\n",
              "      <th>GeneralCause</th>\n",
              "      <th>Disease_AccidentType</th>\n",
              "      <th>SpecificCondition</th>\n",
              "      <th>CauseDetail</th>\n",
              "      <th>Afghanistan</th>\n",
              "      <th>Albania</th>\n",
              "      <th>Algeria</th>\n",
              "      <th>Angola</th>\n",
              "      <th>...</th>\n",
              "      <th>United Republic of Tanzania</th>\n",
              "      <th>United States of America</th>\n",
              "      <th>Uruguay</th>\n",
              "      <th>Uzbekistan</th>\n",
              "      <th>Vanuatu</th>\n",
              "      <th>Venezuela (Bolivarian Republic of)</th>\n",
              "      <th>Viet Nam</th>\n",
              "      <th>Yemen</th>\n",
              "      <th>Zambia</th>\n",
              "      <th>Zimbabwe</th>\n",
              "    </tr>\n",
              "  </thead>\n",
              "  <tbody>\n",
              "    <tr>\n",
              "      <th>0</th>\n",
              "      <td>Males</td>\n",
              "      <td>30</td>\n",
              "      <td>Communicable, maternal, perinatal and nutritio...</td>\n",
              "      <td>Infectious and parasitic diseases</td>\n",
              "      <td>Tuberculosis</td>\n",
              "      <td>NaN</td>\n",
              "      <td>4.5</td>\n",
              "      <td>0</td>\n",
              "      <td>1.6</td>\n",
              "      <td>10</td>\n",
              "      <td>...</td>\n",
              "      <td>13.1</td>\n",
              "      <td>0.3</td>\n",
              "      <td>0.1</td>\n",
              "      <td>0.8</td>\n",
              "      <td>0</td>\n",
              "      <td>0.5</td>\n",
              "      <td>6.4</td>\n",
              "      <td>1</td>\n",
              "      <td>3.7</td>\n",
              "      <td>1.3</td>\n",
              "    </tr>\n",
              "    <tr>\n",
              "      <th>1</th>\n",
              "      <td>Males</td>\n",
              "      <td>50</td>\n",
              "      <td>Communicable, maternal, perinatal and nutritio...</td>\n",
              "      <td>Infectious and parasitic diseases</td>\n",
              "      <td>STDs excluding HIV</td>\n",
              "      <td>Syphilis</td>\n",
              "      <td>0.1</td>\n",
              "      <td>0</td>\n",
              "      <td>0</td>\n",
              "      <td>0.8</td>\n",
              "      <td>...</td>\n",
              "      <td>1.3</td>\n",
              "      <td>0</td>\n",
              "      <td>0</td>\n",
              "      <td>0</td>\n",
              "      <td>0</td>\n",
              "      <td>0</td>\n",
              "      <td>0.2</td>\n",
              "      <td>0.1</td>\n",
              "      <td>0.5</td>\n",
              "      <td>0.1</td>\n",
              "    </tr>\n",
              "    <tr>\n",
              "      <th>2</th>\n",
              "      <td>Males</td>\n",
              "      <td>60</td>\n",
              "      <td>Communicable, maternal, perinatal and nutritio...</td>\n",
              "      <td>Infectious and parasitic diseases</td>\n",
              "      <td>STDs excluding HIV</td>\n",
              "      <td>Chlamydia</td>\n",
              "      <td>.</td>\n",
              "      <td>.</td>\n",
              "      <td>.</td>\n",
              "      <td>.</td>\n",
              "      <td>...</td>\n",
              "      <td>.</td>\n",
              "      <td>.</td>\n",
              "      <td>.</td>\n",
              "      <td>.</td>\n",
              "      <td>.</td>\n",
              "      <td>.</td>\n",
              "      <td>.</td>\n",
              "      <td>.</td>\n",
              "      <td>.</td>\n",
              "      <td>.</td>\n",
              "    </tr>\n",
              "    <tr>\n",
              "      <th>3</th>\n",
              "      <td>Males</td>\n",
              "      <td>70</td>\n",
              "      <td>Communicable, maternal, perinatal and nutritio...</td>\n",
              "      <td>Infectious and parasitic diseases</td>\n",
              "      <td>STDs excluding HIV</td>\n",
              "      <td>Gonorrhoea</td>\n",
              "      <td>0</td>\n",
              "      <td>0</td>\n",
              "      <td>0</td>\n",
              "      <td>0</td>\n",
              "      <td>...</td>\n",
              "      <td>0</td>\n",
              "      <td>0</td>\n",
              "      <td>.</td>\n",
              "      <td>0</td>\n",
              "      <td>0</td>\n",
              "      <td>0</td>\n",
              "      <td>0</td>\n",
              "      <td>0</td>\n",
              "      <td>0</td>\n",
              "      <td>0</td>\n",
              "    </tr>\n",
              "    <tr>\n",
              "      <th>4</th>\n",
              "      <td>Males</td>\n",
              "      <td>80</td>\n",
              "      <td>Communicable, maternal, perinatal and nutritio...</td>\n",
              "      <td>Infectious and parasitic diseases</td>\n",
              "      <td>STDs excluding HIV</td>\n",
              "      <td>Trichomoniasis</td>\n",
              "      <td>.</td>\n",
              "      <td>.</td>\n",
              "      <td>.</td>\n",
              "      <td>.</td>\n",
              "      <td>...</td>\n",
              "      <td>.</td>\n",
              "      <td>.</td>\n",
              "      <td>.</td>\n",
              "      <td>.</td>\n",
              "      <td>.</td>\n",
              "      <td>.</td>\n",
              "      <td>.</td>\n",
              "      <td>.</td>\n",
              "      <td>.</td>\n",
              "      <td>.</td>\n",
              "    </tr>\n",
              "  </tbody>\n",
              "</table>\n",
              "<p>5 rows × 189 columns</p>\n",
              "</div>"
            ],
            "text/plain": [
              "     Sex  GHE code                                       GeneralCause  \\\n",
              "0  Males        30  Communicable, maternal, perinatal and nutritio...   \n",
              "1  Males        50  Communicable, maternal, perinatal and nutritio...   \n",
              "2  Males        60  Communicable, maternal, perinatal and nutritio...   \n",
              "3  Males        70  Communicable, maternal, perinatal and nutritio...   \n",
              "4  Males        80  Communicable, maternal, perinatal and nutritio...   \n",
              "\n",
              "                Disease_AccidentType   SpecificCondition     CauseDetail  \\\n",
              "0  Infectious and parasitic diseases        Tuberculosis             NaN   \n",
              "1  Infectious and parasitic diseases  STDs excluding HIV        Syphilis   \n",
              "2  Infectious and parasitic diseases  STDs excluding HIV       Chlamydia   \n",
              "3  Infectious and parasitic diseases  STDs excluding HIV      Gonorrhoea   \n",
              "4  Infectious and parasitic diseases  STDs excluding HIV  Trichomoniasis   \n",
              "\n",
              "  Afghanistan Albania Algeria Angola  ... United Republic of Tanzania  \\\n",
              "0         4.5       0     1.6     10  ...                        13.1   \n",
              "1         0.1       0       0    0.8  ...                         1.3   \n",
              "2           .       .       .      .  ...                           .   \n",
              "3           0       0       0      0  ...                           0   \n",
              "4           .       .       .      .  ...                           .   \n",
              "\n",
              "  United States of America Uruguay Uzbekistan Vanuatu  \\\n",
              "0                      0.3     0.1        0.8       0   \n",
              "1                        0       0          0       0   \n",
              "2                        .       .          .       .   \n",
              "3                        0       .          0       0   \n",
              "4                        .       .          .       .   \n",
              "\n",
              "  Venezuela (Bolivarian Republic of) Viet Nam Yemen Zambia Zimbabwe  \n",
              "0                                0.5      6.4     1    3.7      1.3  \n",
              "1                                  0      0.2   0.1    0.5      0.1  \n",
              "2                                  .        .     .      .        .  \n",
              "3                                  0        0     0      0        0  \n",
              "4                                  .        .     .      .        .  \n",
              "\n",
              "[5 rows x 189 columns]"
            ]
          },
          "execution_count": 1,
          "metadata": {},
          "output_type": "execute_result"
        }
      ],
      "source": [
        "import pandas as pd\n",
        "\n",
        "# Load the data\n",
        "data = pd.read_csv('Data2019_deaths_country.csv')\n",
        "\n",
        "# Display the first few rows of the data\n",
        "data.head()"
      ]
    },
    {
      "cell_type": "markdown",
      "id": "8697c19e-a646-4637-aad0-89b62481a406",
      "metadata": {
        "noteable": {
          "cell_type": "markdown"
        }
      },
      "source": [
        "The dataset contains the following columns:\n",
        "\n",
        "`Sex`: The gender of the individuals to which the data pertains.\n",
        "\n",
        "`GHE code`: A code representing the Global Health Estimate.\n",
        "\n",
        "`GeneralCause`: The general cause of death.\n",
        "\n",
        "`Disease_AccidentType`: The specific disease or type of accident causing death.\n",
        "\n",
        "`SpecificCondition`: More specific condition causing death.\n",
        "\n",
        "`CauseDetail`: Further details about the cause of death.\n",
        "\n",
        "Country columns: Each country has a column representing the mortality rate for that country.\\n\\nLet's continue with the data exploration."
      ]
    },
    {
      "cell_type": "code",
      "execution_count": 2,
      "id": "7edb5a55-007b-4f27-a5e1-b78867dbdbc8",
      "metadata": {
        "ExecuteTime": {
          "end_time": "2023-08-04T03:28:10.485023+00:00",
          "start_time": "2023-08-04T03:28:10.324721+00:00"
        },
        "noteable": {
          "cell_type": "code",
          "output_collection_id": "56ab8a27-8ad6-4f03-9e06-a567c7070469"
        }
      },
      "outputs": [
        {
          "data": {
            "text/plain": [
              "(340, 189)"
            ]
          },
          "execution_count": 2,
          "metadata": {},
          "output_type": "execute_result"
        }
      ],
      "source": [
        "# Check the shape of the data\n",
        "data.shape"
      ]
    },
    {
      "cell_type": "markdown",
      "id": "96d44d04-c888-43c7-b396-d0755aa1d671",
      "metadata": {
        "noteable": {
          "cell_type": "markdown"
        }
      },
      "source": [
        "The dataset contains 340 rows and 189 columns. Each row represents a specific condition and each column represents a country or a specific attribute of the condition."
      ]
    },
    {
      "cell_type": "code",
      "execution_count": 3,
      "id": "e59d5e39-433e-4972-bf6f-63e4a3b030da",
      "metadata": {
        "ExecuteTime": {
          "end_time": "2023-08-04T03:28:46.457662+00:00",
          "start_time": "2023-08-04T03:28:46.287342+00:00"
        },
        "noteable": {
          "cell_type": "code",
          "output_collection_id": "39aa4d26-50ca-48d7-9f6e-30518a0cee7f"
        }
      },
      "outputs": [
        {
          "data": {
            "text/plain": [
              "232"
            ]
          },
          "execution_count": 3,
          "metadata": {},
          "output_type": "execute_result"
        }
      ],
      "source": [
        "# Check for missing values\n",
        "data.isnull().sum().sum()"
      ]
    },
    {
      "cell_type": "markdown",
      "id": "c587ef2e-832e-4c28-b042-8dda18d2f008",
      "metadata": {
        "noteable": {
          "cell_type": "markdown"
        }
      },
      "source": [
        "The dataset contains 232 missing values. "
      ]
    },
    {
      "cell_type": "markdown",
      "id": "6b6393f6-9d4e-47a8-a731-6f95a67a5dd9",
      "metadata": {
        "noteable": {
          "cell_type": "markdown"
        }
      },
      "source": [
        "## Data Cleaning\n",
        "In this section, we will handle the missing values in the dataset. One common approach is to remove the rows with missing values. However, this could lead to loss of valuable information. Another approach is to impute the missing values, i.e., fill them with some value (Unknwon)."
      ]
    },
    {
      "cell_type": "code",
      "execution_count": 5,
      "id": "0ddebe0c-b682-4816-bf0d-9926ce380f54",
      "metadata": {
        "ExecuteTime": {
          "end_time": "2023-08-04T02:41:45.540706+00:00",
          "start_time": "2023-08-04T02:41:45.344409+00:00"
        },
        "datalink": {
          "02da8022-e730-45e9-927c-53b21bac8dd3": {
            "applied_filters": [],
            "dataframe_info": {
              "default_index_used": false,
              "orig_num_cols": 1,
              "orig_num_rows": 189,
              "orig_size_bytes": 3024,
              "truncated_num_cols": 1,
              "truncated_num_rows": 189,
              "truncated_size_bytes": 3024,
              "truncated_string_columns": []
            },
            "display_id": "02da8022-e730-45e9-927c-53b21bac8dd3",
            "dx_settings": {
              "ALLOW_NOTEABLE_ATTRS": true,
              "COLUMN_SAMPLING_METHOD": "outer",
              "DB_LOCATION": ":memory:",
              "DEV_MODE": false,
              "DISPLAY_MAX_COLUMNS": 100,
              "DISPLAY_MAX_ROWS": 50000,
              "DISPLAY_MODE": "simple",
              "ENABLE_ASSIGNMENT": true,
              "ENABLE_DATALINK": true,
              "FLATTEN_COLUMN_VALUES": true,
              "FLATTEN_INDEX_VALUES": false,
              "GENERATE_DEX_METADATA": false,
              "HTML_TABLE_SCHEMA": false,
              "LOG_LEVEL": 30,
              "MAX_RENDER_SIZE_BYTES": 104857600,
              "MAX_STRING_LENGTH": 250,
              "NUM_PAST_SAMPLES_TRACKED": 3,
              "RANDOM_STATE": 12648430,
              "RESET_INDEX_VALUES": false,
              "ROW_SAMPLING_METHOD": "random",
              "SAMPLING_FACTOR": 0.1,
              "SAMPLING_METHOD": "random",
              "STRINGIFY_COLUMN_VALUES": true,
              "STRINGIFY_INDEX_VALUES": false
            },
            "sample_history": [],
            "sampling_time": "2023-07-28T00:58:09.273200",
            "user_variable_name": null,
            "variable_name": "unk_dataframe_be292a7a09e042ddbf007aa19b636624"
          },
          "1902e8c6-8de1-4a65-b66b-f973de1c0f69": {
            "applied_filters": [],
            "dataframe_info": {
              "default_index_used": false,
              "orig_num_cols": 1,
              "orig_num_rows": 189,
              "orig_size_bytes": 3024,
              "truncated_num_cols": 1,
              "truncated_num_rows": 189,
              "truncated_size_bytes": 3024,
              "truncated_string_columns": []
            },
            "display_id": "1902e8c6-8de1-4a65-b66b-f973de1c0f69",
            "dx_settings": {
              "ALLOW_NOTEABLE_ATTRS": true,
              "COLUMN_SAMPLING_METHOD": "outer",
              "DB_LOCATION": ":memory:",
              "DEV_MODE": false,
              "DISPLAY_MAX_COLUMNS": 100,
              "DISPLAY_MAX_ROWS": 50000,
              "DISPLAY_MODE": "simple",
              "ENABLE_ASSIGNMENT": true,
              "ENABLE_DATALINK": true,
              "FLATTEN_COLUMN_VALUES": true,
              "FLATTEN_INDEX_VALUES": false,
              "GENERATE_DEX_METADATA": false,
              "HTML_TABLE_SCHEMA": false,
              "LOG_LEVEL": 30,
              "MAX_RENDER_SIZE_BYTES": 104857600,
              "MAX_STRING_LENGTH": 250,
              "NUM_PAST_SAMPLES_TRACKED": 3,
              "RANDOM_STATE": 12648430,
              "RESET_INDEX_VALUES": false,
              "ROW_SAMPLING_METHOD": "random",
              "SAMPLING_FACTOR": 0.1,
              "SAMPLING_METHOD": "random",
              "STRINGIFY_COLUMN_VALUES": true,
              "STRINGIFY_INDEX_VALUES": false
            },
            "sample_history": [],
            "sampling_time": "2023-07-24T20:25:49.005062",
            "user_variable_name": null,
            "variable_name": "unk_dataframe_05da78e44b95422082debfba3e129731"
          },
          "39ef8f29-d4c1-4d00-b798-07c7b024a836": {
            "applied_filters": [],
            "dataframe_info": {
              "default_index_used": false,
              "orig_num_cols": 1,
              "orig_num_rows": 189,
              "orig_size_bytes": 3024,
              "truncated_num_cols": 1,
              "truncated_num_rows": 189,
              "truncated_size_bytes": 3024,
              "truncated_string_columns": []
            },
            "display_id": "39ef8f29-d4c1-4d00-b798-07c7b024a836",
            "dx_settings": {
              "ALLOW_NOTEABLE_ATTRS": true,
              "COLUMN_SAMPLING_METHOD": "outer",
              "DB_LOCATION": ":memory:",
              "DEV_MODE": false,
              "DISPLAY_MAX_COLUMNS": 100,
              "DISPLAY_MAX_ROWS": 50000,
              "DISPLAY_MODE": "simple",
              "ENABLE_ASSIGNMENT": true,
              "ENABLE_DATALINK": true,
              "FLATTEN_COLUMN_VALUES": true,
              "FLATTEN_INDEX_VALUES": false,
              "GENERATE_DEX_METADATA": false,
              "HTML_TABLE_SCHEMA": false,
              "LOG_LEVEL": 30,
              "MAX_RENDER_SIZE_BYTES": 104857600,
              "MAX_STRING_LENGTH": 250,
              "NUM_PAST_SAMPLES_TRACKED": 3,
              "RANDOM_STATE": 12648430,
              "RESET_INDEX_VALUES": false,
              "ROW_SAMPLING_METHOD": "random",
              "SAMPLING_FACTOR": 0.1,
              "SAMPLING_METHOD": "random",
              "STRINGIFY_COLUMN_VALUES": true,
              "STRINGIFY_INDEX_VALUES": false
            },
            "sample_history": [],
            "sampling_time": "2023-07-27T18:28:38.766673",
            "user_variable_name": null,
            "variable_name": "unk_dataframe_a83d1c75b8834bae95d3db4eb98ac786"
          },
          "3da1944c-c51c-42d3-b1c6-b9753bf6aeb1": {
            "applied_filters": [],
            "dataframe_info": {
              "default_index_used": false,
              "orig_num_cols": 1,
              "orig_num_rows": 189,
              "orig_size_bytes": 3024,
              "truncated_num_cols": 1,
              "truncated_num_rows": 189,
              "truncated_size_bytes": 3024,
              "truncated_string_columns": []
            },
            "display_id": "3da1944c-c51c-42d3-b1c6-b9753bf6aeb1",
            "dx_settings": {
              "ALLOW_NOTEABLE_ATTRS": true,
              "COLUMN_SAMPLING_METHOD": "outer",
              "DB_LOCATION": ":memory:",
              "DEV_MODE": false,
              "DISPLAY_MAX_COLUMNS": 100,
              "DISPLAY_MAX_ROWS": 50000,
              "DISPLAY_MODE": "simple",
              "ENABLE_ASSIGNMENT": true,
              "ENABLE_DATALINK": true,
              "FLATTEN_COLUMN_VALUES": true,
              "FLATTEN_INDEX_VALUES": false,
              "GENERATE_DEX_METADATA": false,
              "HTML_TABLE_SCHEMA": false,
              "LOG_LEVEL": 30,
              "MAX_RENDER_SIZE_BYTES": 104857600,
              "MAX_STRING_LENGTH": 250,
              "NUM_PAST_SAMPLES_TRACKED": 3,
              "RANDOM_STATE": 12648430,
              "RESET_INDEX_VALUES": false,
              "ROW_SAMPLING_METHOD": "random",
              "SAMPLING_FACTOR": 0.1,
              "SAMPLING_METHOD": "random",
              "STRINGIFY_COLUMN_VALUES": true,
              "STRINGIFY_INDEX_VALUES": false
            },
            "sample_history": [],
            "sampling_time": "2023-07-25T06:23:23.691411",
            "user_variable_name": null,
            "variable_name": "unk_dataframe_3dd8b028c793483f9d178ddf2cfe5665"
          },
          "631447be-b0ae-4d7d-9111-dc8aaf93f4a6": {
            "applied_filters": [],
            "dataframe_info": {
              "default_index_used": false,
              "orig_num_cols": 1,
              "orig_num_rows": 189,
              "orig_size_bytes": 3024,
              "truncated_num_cols": 1,
              "truncated_num_rows": 189,
              "truncated_size_bytes": 3024,
              "truncated_string_columns": []
            },
            "display_id": "631447be-b0ae-4d7d-9111-dc8aaf93f4a6",
            "dx_settings": {
              "ALLOW_NOTEABLE_ATTRS": true,
              "COLUMN_SAMPLING_METHOD": "outer",
              "DB_LOCATION": ":memory:",
              "DEV_MODE": false,
              "DISPLAY_MAX_COLUMNS": 100,
              "DISPLAY_MAX_ROWS": 50000,
              "DISPLAY_MODE": "simple",
              "ENABLE_ASSIGNMENT": true,
              "ENABLE_DATALINK": true,
              "FLATTEN_COLUMN_VALUES": true,
              "FLATTEN_INDEX_VALUES": false,
              "GENERATE_DEX_METADATA": false,
              "HTML_TABLE_SCHEMA": false,
              "LOG_LEVEL": 30,
              "MAX_RENDER_SIZE_BYTES": 104857600,
              "MAX_STRING_LENGTH": 250,
              "NUM_PAST_SAMPLES_TRACKED": 3,
              "RANDOM_STATE": 12648430,
              "RESET_INDEX_VALUES": false,
              "ROW_SAMPLING_METHOD": "random",
              "SAMPLING_FACTOR": 0.1,
              "SAMPLING_METHOD": "random",
              "STRINGIFY_COLUMN_VALUES": true,
              "STRINGIFY_INDEX_VALUES": false
            },
            "sample_history": [],
            "sampling_time": "2023-07-24T20:43:40.938014",
            "user_variable_name": null,
            "variable_name": "unk_dataframe_6bc5d0c227e44037a906f556ea67f2b1"
          },
          "658e451c-1d26-4cb1-a391-62853d109403": {
            "applied_filters": [],
            "dataframe_info": {
              "default_index_used": false,
              "orig_num_cols": 1,
              "orig_num_rows": 189,
              "orig_size_bytes": 3024,
              "truncated_num_cols": 1,
              "truncated_num_rows": 189,
              "truncated_size_bytes": 3024,
              "truncated_string_columns": []
            },
            "display_id": "658e451c-1d26-4cb1-a391-62853d109403",
            "dx_settings": {
              "ALLOW_NOTEABLE_ATTRS": true,
              "COLUMN_SAMPLING_METHOD": "outer",
              "DB_LOCATION": ":memory:",
              "DEV_MODE": false,
              "DISPLAY_MAX_COLUMNS": 100,
              "DISPLAY_MAX_ROWS": 50000,
              "DISPLAY_MODE": "simple",
              "ENABLE_ASSIGNMENT": true,
              "ENABLE_DATALINK": true,
              "FLATTEN_COLUMN_VALUES": true,
              "FLATTEN_INDEX_VALUES": false,
              "GENERATE_DEX_METADATA": false,
              "HTML_TABLE_SCHEMA": false,
              "LOG_LEVEL": 30,
              "MAX_RENDER_SIZE_BYTES": 104857600,
              "MAX_STRING_LENGTH": 250,
              "NUM_PAST_SAMPLES_TRACKED": 3,
              "RANDOM_STATE": 12648430,
              "RESET_INDEX_VALUES": false,
              "ROW_SAMPLING_METHOD": "random",
              "SAMPLING_FACTOR": 0.1,
              "SAMPLING_METHOD": "random",
              "STRINGIFY_COLUMN_VALUES": true,
              "STRINGIFY_INDEX_VALUES": false
            },
            "sample_history": [],
            "sampling_time": "2023-07-25T17:26:38.385774",
            "user_variable_name": null,
            "variable_name": "unk_dataframe_436259e9a6c6465f8403f0c6ccea36db"
          },
          "6845d6fc-0136-4b7f-abdd-5a794f6a9d30": {
            "applied_filters": [],
            "dataframe_info": {
              "default_index_used": false,
              "orig_num_cols": 1,
              "orig_num_rows": 189,
              "orig_size_bytes": 3024,
              "truncated_num_cols": 1,
              "truncated_num_rows": 189,
              "truncated_size_bytes": 3024,
              "truncated_string_columns": []
            },
            "display_id": "6845d6fc-0136-4b7f-abdd-5a794f6a9d30",
            "dx_settings": {
              "ALLOW_NOTEABLE_ATTRS": true,
              "COLUMN_SAMPLING_METHOD": "outer",
              "DB_LOCATION": ":memory:",
              "DEV_MODE": false,
              "DISPLAY_MAX_COLUMNS": 100,
              "DISPLAY_MAX_ROWS": 50000,
              "DISPLAY_MODE": "simple",
              "ENABLE_ASSIGNMENT": true,
              "ENABLE_DATALINK": true,
              "FLATTEN_COLUMN_VALUES": true,
              "FLATTEN_INDEX_VALUES": false,
              "GENERATE_DEX_METADATA": false,
              "HTML_TABLE_SCHEMA": false,
              "LOG_LEVEL": 30,
              "MAX_RENDER_SIZE_BYTES": 104857600,
              "MAX_STRING_LENGTH": 250,
              "NUM_PAST_SAMPLES_TRACKED": 3,
              "RANDOM_STATE": 12648430,
              "RESET_INDEX_VALUES": false,
              "ROW_SAMPLING_METHOD": "random",
              "SAMPLING_FACTOR": 0.1,
              "SAMPLING_METHOD": "random",
              "STRINGIFY_COLUMN_VALUES": true,
              "STRINGIFY_INDEX_VALUES": false
            },
            "sample_history": [],
            "sampling_time": "2023-08-03T20:31:36.171349",
            "user_variable_name": null,
            "variable_name": "unk_dataframe_1fd8e34f8c1543f5928ebcda57160ef5"
          },
          "86ee6b03-4f92-4cc2-ac64-732fdef9e28c": {
            "applied_filters": [],
            "dataframe_info": {
              "default_index_used": false,
              "orig_num_cols": 1,
              "orig_num_rows": 189,
              "orig_size_bytes": 3024,
              "truncated_num_cols": 1,
              "truncated_num_rows": 189,
              "truncated_size_bytes": 3024,
              "truncated_string_columns": []
            },
            "display_id": "86ee6b03-4f92-4cc2-ac64-732fdef9e28c",
            "dx_settings": {
              "ALLOW_NOTEABLE_ATTRS": true,
              "COLUMN_SAMPLING_METHOD": "outer",
              "DB_LOCATION": ":memory:",
              "DEV_MODE": false,
              "DISPLAY_MAX_COLUMNS": 100,
              "DISPLAY_MAX_ROWS": 50000,
              "DISPLAY_MODE": "simple",
              "ENABLE_ASSIGNMENT": true,
              "ENABLE_DATALINK": true,
              "FLATTEN_COLUMN_VALUES": true,
              "FLATTEN_INDEX_VALUES": false,
              "GENERATE_DEX_METADATA": false,
              "HTML_TABLE_SCHEMA": false,
              "LOG_LEVEL": 30,
              "MAX_RENDER_SIZE_BYTES": 104857600,
              "MAX_STRING_LENGTH": 250,
              "NUM_PAST_SAMPLES_TRACKED": 3,
              "RANDOM_STATE": 12648430,
              "RESET_INDEX_VALUES": false,
              "ROW_SAMPLING_METHOD": "random",
              "SAMPLING_FACTOR": 0.1,
              "SAMPLING_METHOD": "random",
              "STRINGIFY_COLUMN_VALUES": true,
              "STRINGIFY_INDEX_VALUES": false
            },
            "sample_history": [],
            "sampling_time": "2023-07-24T20:14:51.119747",
            "user_variable_name": null,
            "variable_name": "unk_dataframe_be3d38f2c74a461f860e9bd510ce1826"
          },
          "a8cc4af3-453c-447f-be2e-817bada4a6f8": {
            "applied_filters": [],
            "dataframe_info": {
              "default_index_used": false,
              "orig_num_cols": 1,
              "orig_num_rows": 189,
              "orig_size_bytes": 3024,
              "truncated_num_cols": 1,
              "truncated_num_rows": 189,
              "truncated_size_bytes": 3024,
              "truncated_string_columns": []
            },
            "display_id": "a8cc4af3-453c-447f-be2e-817bada4a6f8",
            "dx_settings": {
              "ALLOW_NOTEABLE_ATTRS": true,
              "COLUMN_SAMPLING_METHOD": "outer",
              "DB_LOCATION": ":memory:",
              "DEV_MODE": false,
              "DISPLAY_MAX_COLUMNS": 100,
              "DISPLAY_MAX_ROWS": 50000,
              "DISPLAY_MODE": "simple",
              "ENABLE_ASSIGNMENT": true,
              "ENABLE_DATALINK": true,
              "FLATTEN_COLUMN_VALUES": true,
              "FLATTEN_INDEX_VALUES": false,
              "GENERATE_DEX_METADATA": false,
              "HTML_TABLE_SCHEMA": false,
              "LOG_LEVEL": 30,
              "MAX_RENDER_SIZE_BYTES": 104857600,
              "MAX_STRING_LENGTH": 250,
              "NUM_PAST_SAMPLES_TRACKED": 3,
              "RANDOM_STATE": 12648430,
              "RESET_INDEX_VALUES": false,
              "ROW_SAMPLING_METHOD": "random",
              "SAMPLING_FACTOR": 0.1,
              "SAMPLING_METHOD": "random",
              "STRINGIFY_COLUMN_VALUES": true,
              "STRINGIFY_INDEX_VALUES": false
            },
            "sample_history": [],
            "sampling_time": "2023-08-03T16:56:07.696030",
            "user_variable_name": null,
            "variable_name": "unk_dataframe_0dc7309212a643468f4806631ef31fe3"
          },
          "aed53bed-13d5-4beb-9d84-5ddb337ee790": {
            "applied_filters": [],
            "dataframe_info": {
              "default_index_used": false,
              "orig_num_cols": 1,
              "orig_num_rows": 189,
              "orig_size_bytes": 3024,
              "truncated_num_cols": 1,
              "truncated_num_rows": 189,
              "truncated_size_bytes": 3024,
              "truncated_string_columns": []
            },
            "display_id": "aed53bed-13d5-4beb-9d84-5ddb337ee790",
            "dx_settings": {
              "ALLOW_NOTEABLE_ATTRS": true,
              "COLUMN_SAMPLING_METHOD": "outer",
              "DB_LOCATION": ":memory:",
              "DEV_MODE": false,
              "DISPLAY_MAX_COLUMNS": 100,
              "DISPLAY_MAX_ROWS": 50000,
              "DISPLAY_MODE": "simple",
              "ENABLE_ASSIGNMENT": true,
              "ENABLE_DATALINK": true,
              "FLATTEN_COLUMN_VALUES": true,
              "FLATTEN_INDEX_VALUES": false,
              "GENERATE_DEX_METADATA": false,
              "HTML_TABLE_SCHEMA": false,
              "LOG_LEVEL": 30,
              "MAX_RENDER_SIZE_BYTES": 104857600,
              "MAX_STRING_LENGTH": 250,
              "NUM_PAST_SAMPLES_TRACKED": 3,
              "RANDOM_STATE": 12648430,
              "RESET_INDEX_VALUES": false,
              "ROW_SAMPLING_METHOD": "random",
              "SAMPLING_FACTOR": 0.1,
              "SAMPLING_METHOD": "random",
              "STRINGIFY_COLUMN_VALUES": true,
              "STRINGIFY_INDEX_VALUES": false
            },
            "sample_history": [],
            "sampling_time": "2023-07-24T21:58:36.372753",
            "user_variable_name": null,
            "variable_name": "unk_dataframe_143b8c04f376402eb2ab604ba5cfdf36"
          },
          "c356083b-8091-448c-a4bc-5665c22d2065": {
            "applied_filters": [],
            "dataframe_info": {
              "default_index_used": false,
              "orig_num_cols": 1,
              "orig_num_rows": 189,
              "orig_size_bytes": 3024,
              "truncated_num_cols": 1,
              "truncated_num_rows": 189,
              "truncated_size_bytes": 3024,
              "truncated_string_columns": []
            },
            "display_id": "c356083b-8091-448c-a4bc-5665c22d2065",
            "dx_settings": {
              "ALLOW_NOTEABLE_ATTRS": true,
              "COLUMN_SAMPLING_METHOD": "outer",
              "DB_LOCATION": ":memory:",
              "DEV_MODE": false,
              "DISPLAY_MAX_COLUMNS": 100,
              "DISPLAY_MAX_ROWS": 50000,
              "DISPLAY_MODE": "simple",
              "ENABLE_ASSIGNMENT": true,
              "ENABLE_DATALINK": true,
              "FLATTEN_COLUMN_VALUES": true,
              "FLATTEN_INDEX_VALUES": false,
              "GENERATE_DEX_METADATA": false,
              "HTML_TABLE_SCHEMA": false,
              "LOG_LEVEL": 30,
              "MAX_RENDER_SIZE_BYTES": 104857600,
              "MAX_STRING_LENGTH": 250,
              "NUM_PAST_SAMPLES_TRACKED": 3,
              "RANDOM_STATE": 12648430,
              "RESET_INDEX_VALUES": false,
              "ROW_SAMPLING_METHOD": "random",
              "SAMPLING_FACTOR": 0.1,
              "SAMPLING_METHOD": "random",
              "STRINGIFY_COLUMN_VALUES": true,
              "STRINGIFY_INDEX_VALUES": false
            },
            "sample_history": [],
            "sampling_time": "2023-07-24T21:56:30.903696",
            "user_variable_name": null,
            "variable_name": "unk_dataframe_85bc02ca6c2e410e80bffdc3eb2264df"
          },
          "c94e5efb-8ace-4177-b51e-8170a71fb86b": {
            "applied_filters": [],
            "dataframe_info": {
              "default_index_used": false,
              "orig_num_cols": 1,
              "orig_num_rows": 189,
              "orig_size_bytes": 3024,
              "truncated_num_cols": 1,
              "truncated_num_rows": 189,
              "truncated_size_bytes": 3024,
              "truncated_string_columns": []
            },
            "display_id": "c94e5efb-8ace-4177-b51e-8170a71fb86b",
            "dx_settings": {
              "ALLOW_NOTEABLE_ATTRS": true,
              "COLUMN_SAMPLING_METHOD": "outer",
              "DB_LOCATION": ":memory:",
              "DEV_MODE": false,
              "DISPLAY_MAX_COLUMNS": 100,
              "DISPLAY_MAX_ROWS": 50000,
              "DISPLAY_MODE": "simple",
              "ENABLE_ASSIGNMENT": true,
              "ENABLE_DATALINK": true,
              "FLATTEN_COLUMN_VALUES": true,
              "FLATTEN_INDEX_VALUES": false,
              "GENERATE_DEX_METADATA": false,
              "HTML_TABLE_SCHEMA": false,
              "LOG_LEVEL": 30,
              "MAX_RENDER_SIZE_BYTES": 104857600,
              "MAX_STRING_LENGTH": 250,
              "NUM_PAST_SAMPLES_TRACKED": 3,
              "RANDOM_STATE": 12648430,
              "RESET_INDEX_VALUES": false,
              "ROW_SAMPLING_METHOD": "random",
              "SAMPLING_FACTOR": 0.1,
              "SAMPLING_METHOD": "random",
              "STRINGIFY_COLUMN_VALUES": true,
              "STRINGIFY_INDEX_VALUES": false
            },
            "sample_history": [],
            "sampling_time": "2023-07-24T21:55:55.513258",
            "user_variable_name": null,
            "variable_name": "unk_dataframe_06d4eeb61eef47ed83d9c46b2531e375"
          },
          "d27c091d-cafd-49e5-8b38-cb6f0d199750": {
            "applied_filters": [],
            "dataframe_info": {
              "default_index_used": false,
              "orig_num_cols": 1,
              "orig_num_rows": 189,
              "orig_size_bytes": 3024,
              "truncated_num_cols": 1,
              "truncated_num_rows": 189,
              "truncated_size_bytes": 3024,
              "truncated_string_columns": []
            },
            "display_id": "d27c091d-cafd-49e5-8b38-cb6f0d199750",
            "dx_settings": {
              "ALLOW_NOTEABLE_ATTRS": true,
              "COLUMN_SAMPLING_METHOD": "outer",
              "DB_LOCATION": ":memory:",
              "DEV_MODE": false,
              "DISPLAY_MAX_COLUMNS": 100,
              "DISPLAY_MAX_ROWS": 50000,
              "DISPLAY_MODE": "simple",
              "ENABLE_ASSIGNMENT": true,
              "ENABLE_DATALINK": true,
              "FLATTEN_COLUMN_VALUES": true,
              "FLATTEN_INDEX_VALUES": false,
              "GENERATE_DEX_METADATA": false,
              "HTML_TABLE_SCHEMA": false,
              "LOG_LEVEL": 30,
              "MAX_RENDER_SIZE_BYTES": 104857600,
              "MAX_STRING_LENGTH": 250,
              "NUM_PAST_SAMPLES_TRACKED": 3,
              "RANDOM_STATE": 12648430,
              "RESET_INDEX_VALUES": false,
              "ROW_SAMPLING_METHOD": "random",
              "SAMPLING_FACTOR": 0.1,
              "SAMPLING_METHOD": "random",
              "STRINGIFY_COLUMN_VALUES": true,
              "STRINGIFY_INDEX_VALUES": false
            },
            "sample_history": [],
            "sampling_time": "2023-08-04T02:41:45.381803",
            "user_variable_name": null,
            "variable_name": "unk_dataframe_e48dc5593a0a46a3b53d96c3a63dc088"
          },
          "e89fe943-c423-4710-917f-fb460c254809": {
            "applied_filters": [],
            "dataframe_info": {
              "default_index_used": false,
              "orig_num_cols": 1,
              "orig_num_rows": 189,
              "orig_size_bytes": 3024,
              "truncated_num_cols": 1,
              "truncated_num_rows": 189,
              "truncated_size_bytes": 3024,
              "truncated_string_columns": []
            },
            "display_id": "e89fe943-c423-4710-917f-fb460c254809",
            "dx_settings": {
              "ALLOW_NOTEABLE_ATTRS": true,
              "COLUMN_SAMPLING_METHOD": "outer",
              "DB_LOCATION": ":memory:",
              "DEV_MODE": false,
              "DISPLAY_MAX_COLUMNS": 100,
              "DISPLAY_MAX_ROWS": 50000,
              "DISPLAY_MODE": "simple",
              "ENABLE_ASSIGNMENT": true,
              "ENABLE_DATALINK": true,
              "FLATTEN_COLUMN_VALUES": true,
              "FLATTEN_INDEX_VALUES": false,
              "GENERATE_DEX_METADATA": false,
              "HTML_TABLE_SCHEMA": false,
              "LOG_LEVEL": 30,
              "MAX_RENDER_SIZE_BYTES": 104857600,
              "MAX_STRING_LENGTH": 250,
              "NUM_PAST_SAMPLES_TRACKED": 3,
              "RANDOM_STATE": 12648430,
              "RESET_INDEX_VALUES": false,
              "ROW_SAMPLING_METHOD": "random",
              "SAMPLING_FACTOR": 0.1,
              "SAMPLING_METHOD": "random",
              "STRINGIFY_COLUMN_VALUES": true,
              "STRINGIFY_INDEX_VALUES": false
            },
            "sample_history": [],
            "sampling_time": "2023-07-24T19:30:05.622103",
            "user_variable_name": null,
            "variable_name": "unk_dataframe_b912f0e4546f45dd894b11e9daa25697"
          },
          "fbf94cca-5cae-4961-ba7e-88553d1a1ab7": {
            "applied_filters": [],
            "dataframe_info": {
              "default_index_used": false,
              "orig_num_cols": 1,
              "orig_num_rows": 189,
              "orig_size_bytes": 3024,
              "truncated_num_cols": 1,
              "truncated_num_rows": 189,
              "truncated_size_bytes": 3024,
              "truncated_string_columns": []
            },
            "display_id": "fbf94cca-5cae-4961-ba7e-88553d1a1ab7",
            "dx_settings": {
              "ALLOW_NOTEABLE_ATTRS": true,
              "COLUMN_SAMPLING_METHOD": "outer",
              "DB_LOCATION": ":memory:",
              "DEV_MODE": false,
              "DISPLAY_MAX_COLUMNS": 100,
              "DISPLAY_MAX_ROWS": 50000,
              "DISPLAY_MODE": "simple",
              "ENABLE_ASSIGNMENT": true,
              "ENABLE_DATALINK": true,
              "FLATTEN_COLUMN_VALUES": true,
              "FLATTEN_INDEX_VALUES": false,
              "GENERATE_DEX_METADATA": false,
              "HTML_TABLE_SCHEMA": false,
              "LOG_LEVEL": 30,
              "MAX_RENDER_SIZE_BYTES": 104857600,
              "MAX_STRING_LENGTH": 250,
              "NUM_PAST_SAMPLES_TRACKED": 3,
              "RANDOM_STATE": 12648430,
              "RESET_INDEX_VALUES": false,
              "ROW_SAMPLING_METHOD": "random",
              "SAMPLING_FACTOR": 0.1,
              "SAMPLING_METHOD": "random",
              "STRINGIFY_COLUMN_VALUES": true,
              "STRINGIFY_INDEX_VALUES": false
            },
            "sample_history": [],
            "sampling_time": "2023-08-03T21:35:20.505380",
            "user_variable_name": null,
            "variable_name": "unk_dataframe_d21fe9c31d804a5086444f85c001b331"
          }
        },
        "noteable": {
          "cell_type": "code",
          "output_collection_id": "48f811c6-43ab-4e54-b728-5522f24a9f2b"
        }
      },
      "outputs": [
        {
          "data": {
            "text/plain": [
              "Sex                                   object\n",
              "GHE code                               int64\n",
              "GeneralCause                          object\n",
              "Disease_AccidentType                  object\n",
              "SpecificCondition                     object\n",
              "                                       ...  \n",
              "Venezuela (Bolivarian Republic of)    object\n",
              "Viet Nam                              object\n",
              "Yemen                                 object\n",
              "Zambia                                object\n",
              "Zimbabwe                              object\n",
              "Length: 189, dtype: object"
            ]
          },
          "execution_count": 5,
          "metadata": {},
          "output_type": "execute_result"
        }
      ],
      "source": [
        "# Check the data types of the columns\n",
        "data.dtypes"
      ]
    },
    {
      "cell_type": "markdown",
      "id": "b5ab398a-3946-4890-bb4f-82194b28d69a",
      "metadata": {
        "noteable": {
          "cell_type": "markdown"
        }
      },
      "source": [
        "The country columns are of type `object`, which means they contain non-numeric data. This is likely due to the presence of non-numeric characters in these columns. Let's convert these columns to numeric."
      ]
    },
    {
      "cell_type": "code",
      "execution_count": 6,
      "id": "ebd23bd7-ca7a-4f7e-a3d0-2e7f5fcc1c79",
      "metadata": {
        "ExecuteTime": {
          "end_time": "2023-08-04T02:41:50.079252+00:00",
          "start_time": "2023-08-04T02:41:49.750079+00:00"
        },
        "datalink": {
          "06d28c72-7eb8-45bf-b22e-90be6380a69d": {
            "applied_filters": [],
            "dataframe_info": {
              "default_index_used": false,
              "orig_num_cols": 1,
              "orig_num_rows": 189,
              "orig_size_bytes": 3024,
              "truncated_num_cols": 1,
              "truncated_num_rows": 189,
              "truncated_size_bytes": 3024,
              "truncated_string_columns": []
            },
            "display_id": "06d28c72-7eb8-45bf-b22e-90be6380a69d",
            "dx_settings": {
              "ALLOW_NOTEABLE_ATTRS": true,
              "COLUMN_SAMPLING_METHOD": "outer",
              "DB_LOCATION": ":memory:",
              "DEV_MODE": false,
              "DISPLAY_MAX_COLUMNS": 100,
              "DISPLAY_MAX_ROWS": 50000,
              "DISPLAY_MODE": "simple",
              "ENABLE_ASSIGNMENT": true,
              "ENABLE_DATALINK": true,
              "FLATTEN_COLUMN_VALUES": true,
              "FLATTEN_INDEX_VALUES": false,
              "GENERATE_DEX_METADATA": false,
              "HTML_TABLE_SCHEMA": false,
              "LOG_LEVEL": 30,
              "MAX_RENDER_SIZE_BYTES": 104857600,
              "MAX_STRING_LENGTH": 250,
              "NUM_PAST_SAMPLES_TRACKED": 3,
              "RANDOM_STATE": 12648430,
              "RESET_INDEX_VALUES": false,
              "ROW_SAMPLING_METHOD": "random",
              "SAMPLING_FACTOR": 0.1,
              "SAMPLING_METHOD": "random",
              "STRINGIFY_COLUMN_VALUES": true,
              "STRINGIFY_INDEX_VALUES": false
            },
            "sample_history": [],
            "sampling_time": "2023-07-24T20:25:28.379797",
            "user_variable_name": null,
            "variable_name": "unk_dataframe_7384f0383e81405ea35517d42dd81e73"
          },
          "1040f757-0a9b-418a-b871-ac57fc0748bf": {
            "applied_filters": [],
            "dataframe_info": {
              "default_index_used": false,
              "orig_num_cols": 1,
              "orig_num_rows": 189,
              "orig_size_bytes": 3024,
              "truncated_num_cols": 1,
              "truncated_num_rows": 189,
              "truncated_size_bytes": 3024,
              "truncated_string_columns": []
            },
            "display_id": "1040f757-0a9b-418a-b871-ac57fc0748bf",
            "dx_settings": {
              "ALLOW_NOTEABLE_ATTRS": true,
              "COLUMN_SAMPLING_METHOD": "outer",
              "DB_LOCATION": ":memory:",
              "DEV_MODE": false,
              "DISPLAY_MAX_COLUMNS": 100,
              "DISPLAY_MAX_ROWS": 50000,
              "DISPLAY_MODE": "simple",
              "ENABLE_ASSIGNMENT": true,
              "ENABLE_DATALINK": true,
              "FLATTEN_COLUMN_VALUES": true,
              "FLATTEN_INDEX_VALUES": false,
              "GENERATE_DEX_METADATA": false,
              "HTML_TABLE_SCHEMA": false,
              "LOG_LEVEL": 30,
              "MAX_RENDER_SIZE_BYTES": 104857600,
              "MAX_STRING_LENGTH": 250,
              "NUM_PAST_SAMPLES_TRACKED": 3,
              "RANDOM_STATE": 12648430,
              "RESET_INDEX_VALUES": false,
              "ROW_SAMPLING_METHOD": "random",
              "SAMPLING_FACTOR": 0.1,
              "SAMPLING_METHOD": "random",
              "STRINGIFY_COLUMN_VALUES": true,
              "STRINGIFY_INDEX_VALUES": false
            },
            "sample_history": [],
            "sampling_time": "2023-07-24T19:30:37.474435",
            "user_variable_name": null,
            "variable_name": "unk_dataframe_76be19777da346f0ba47bce502612be8"
          },
          "2a0438f3-3e3a-407b-ac85-097d5b032ed0": {
            "applied_filters": [],
            "dataframe_info": {
              "default_index_used": false,
              "orig_num_cols": 1,
              "orig_num_rows": 189,
              "orig_size_bytes": 3024,
              "truncated_num_cols": 1,
              "truncated_num_rows": 189,
              "truncated_size_bytes": 3024,
              "truncated_string_columns": []
            },
            "display_id": "2a0438f3-3e3a-407b-ac85-097d5b032ed0",
            "dx_settings": {
              "ALLOW_NOTEABLE_ATTRS": true,
              "COLUMN_SAMPLING_METHOD": "outer",
              "DB_LOCATION": ":memory:",
              "DEV_MODE": false,
              "DISPLAY_MAX_COLUMNS": 100,
              "DISPLAY_MAX_ROWS": 50000,
              "DISPLAY_MODE": "simple",
              "ENABLE_ASSIGNMENT": true,
              "ENABLE_DATALINK": true,
              "FLATTEN_COLUMN_VALUES": true,
              "FLATTEN_INDEX_VALUES": false,
              "GENERATE_DEX_METADATA": false,
              "HTML_TABLE_SCHEMA": false,
              "LOG_LEVEL": 30,
              "MAX_RENDER_SIZE_BYTES": 104857600,
              "MAX_STRING_LENGTH": 250,
              "NUM_PAST_SAMPLES_TRACKED": 3,
              "RANDOM_STATE": 12648430,
              "RESET_INDEX_VALUES": false,
              "ROW_SAMPLING_METHOD": "random",
              "SAMPLING_FACTOR": 0.1,
              "SAMPLING_METHOD": "random",
              "STRINGIFY_COLUMN_VALUES": true,
              "STRINGIFY_INDEX_VALUES": false
            },
            "sample_history": [],
            "sampling_time": "2023-07-24T21:26:02.600565",
            "user_variable_name": null,
            "variable_name": "unk_dataframe_e0043a7bdbc2486da8dbddadee2a1545"
          },
          "3bca72e0-4b12-4812-a389-8792b5a76b5c": {
            "applied_filters": [],
            "dataframe_info": {
              "default_index_used": false,
              "orig_num_cols": 1,
              "orig_num_rows": 189,
              "orig_size_bytes": 3024,
              "truncated_num_cols": 1,
              "truncated_num_rows": 189,
              "truncated_size_bytes": 3024,
              "truncated_string_columns": []
            },
            "display_id": "3bca72e0-4b12-4812-a389-8792b5a76b5c",
            "dx_settings": {
              "ALLOW_NOTEABLE_ATTRS": true,
              "COLUMN_SAMPLING_METHOD": "outer",
              "DB_LOCATION": ":memory:",
              "DEV_MODE": false,
              "DISPLAY_MAX_COLUMNS": 100,
              "DISPLAY_MAX_ROWS": 50000,
              "DISPLAY_MODE": "simple",
              "ENABLE_ASSIGNMENT": true,
              "ENABLE_DATALINK": true,
              "FLATTEN_COLUMN_VALUES": true,
              "FLATTEN_INDEX_VALUES": false,
              "GENERATE_DEX_METADATA": false,
              "HTML_TABLE_SCHEMA": false,
              "LOG_LEVEL": 30,
              "MAX_RENDER_SIZE_BYTES": 104857600,
              "MAX_STRING_LENGTH": 250,
              "NUM_PAST_SAMPLES_TRACKED": 3,
              "RANDOM_STATE": 12648430,
              "RESET_INDEX_VALUES": false,
              "ROW_SAMPLING_METHOD": "random",
              "SAMPLING_FACTOR": 0.1,
              "SAMPLING_METHOD": "random",
              "STRINGIFY_COLUMN_VALUES": true,
              "STRINGIFY_INDEX_VALUES": false
            },
            "sample_history": [],
            "sampling_time": "2023-08-03T20:31:36.512933",
            "user_variable_name": null,
            "variable_name": "unk_dataframe_5265557e8bf7424b8ea62ae38c131472"
          },
          "4d4d4b9c-a16f-4670-b12a-f7b9d710ccc6": {
            "applied_filters": [],
            "dataframe_info": {
              "default_index_used": false,
              "orig_num_cols": 1,
              "orig_num_rows": 189,
              "orig_size_bytes": 3024,
              "truncated_num_cols": 1,
              "truncated_num_rows": 189,
              "truncated_size_bytes": 3024,
              "truncated_string_columns": []
            },
            "display_id": "4d4d4b9c-a16f-4670-b12a-f7b9d710ccc6",
            "dx_settings": {
              "ALLOW_NOTEABLE_ATTRS": true,
              "COLUMN_SAMPLING_METHOD": "outer",
              "DB_LOCATION": ":memory:",
              "DEV_MODE": false,
              "DISPLAY_MAX_COLUMNS": 100,
              "DISPLAY_MAX_ROWS": 50000,
              "DISPLAY_MODE": "simple",
              "ENABLE_ASSIGNMENT": true,
              "ENABLE_DATALINK": true,
              "FLATTEN_COLUMN_VALUES": true,
              "FLATTEN_INDEX_VALUES": false,
              "GENERATE_DEX_METADATA": false,
              "HTML_TABLE_SCHEMA": false,
              "LOG_LEVEL": 30,
              "MAX_RENDER_SIZE_BYTES": 104857600,
              "MAX_STRING_LENGTH": 250,
              "NUM_PAST_SAMPLES_TRACKED": 3,
              "RANDOM_STATE": 12648430,
              "RESET_INDEX_VALUES": false,
              "ROW_SAMPLING_METHOD": "random",
              "SAMPLING_FACTOR": 0.1,
              "SAMPLING_METHOD": "random",
              "STRINGIFY_COLUMN_VALUES": true,
              "STRINGIFY_INDEX_VALUES": false
            },
            "sample_history": [],
            "sampling_time": "2023-07-24T21:55:55.871607",
            "user_variable_name": null,
            "variable_name": "unk_dataframe_4439479f2c0f43ab96d3b4ee5b3c5725"
          },
          "63c444f3-6dfc-451a-a848-2d613795b54c": {
            "applied_filters": [],
            "dataframe_info": {
              "default_index_used": false,
              "orig_num_cols": 1,
              "orig_num_rows": 189,
              "orig_size_bytes": 3024,
              "truncated_num_cols": 1,
              "truncated_num_rows": 189,
              "truncated_size_bytes": 3024,
              "truncated_string_columns": []
            },
            "display_id": "63c444f3-6dfc-451a-a848-2d613795b54c",
            "dx_settings": {
              "ALLOW_NOTEABLE_ATTRS": true,
              "COLUMN_SAMPLING_METHOD": "outer",
              "DB_LOCATION": ":memory:",
              "DEV_MODE": false,
              "DISPLAY_MAX_COLUMNS": 100,
              "DISPLAY_MAX_ROWS": 50000,
              "DISPLAY_MODE": "simple",
              "ENABLE_ASSIGNMENT": true,
              "ENABLE_DATALINK": true,
              "FLATTEN_COLUMN_VALUES": true,
              "FLATTEN_INDEX_VALUES": false,
              "GENERATE_DEX_METADATA": false,
              "HTML_TABLE_SCHEMA": false,
              "LOG_LEVEL": 30,
              "MAX_RENDER_SIZE_BYTES": 104857600,
              "MAX_STRING_LENGTH": 250,
              "NUM_PAST_SAMPLES_TRACKED": 3,
              "RANDOM_STATE": 12648430,
              "RESET_INDEX_VALUES": false,
              "ROW_SAMPLING_METHOD": "random",
              "SAMPLING_FACTOR": 0.1,
              "SAMPLING_METHOD": "random",
              "STRINGIFY_COLUMN_VALUES": true,
              "STRINGIFY_INDEX_VALUES": false
            },
            "sample_history": [],
            "sampling_time": "2023-07-28T00:58:09.633258",
            "user_variable_name": null,
            "variable_name": "unk_dataframe_f9bd6c7f2ef045f2af63afdfc0954929"
          },
          "69f4b697-dda1-4a78-8ef3-016d2ee370b2": {
            "applied_filters": [],
            "dataframe_info": {
              "default_index_used": false,
              "orig_num_cols": 1,
              "orig_num_rows": 189,
              "orig_size_bytes": 3024,
              "truncated_num_cols": 1,
              "truncated_num_rows": 189,
              "truncated_size_bytes": 3024,
              "truncated_string_columns": []
            },
            "display_id": "69f4b697-dda1-4a78-8ef3-016d2ee370b2",
            "dx_settings": {
              "ALLOW_NOTEABLE_ATTRS": true,
              "COLUMN_SAMPLING_METHOD": "outer",
              "DB_LOCATION": ":memory:",
              "DEV_MODE": false,
              "DISPLAY_MAX_COLUMNS": 100,
              "DISPLAY_MAX_ROWS": 50000,
              "DISPLAY_MODE": "simple",
              "ENABLE_ASSIGNMENT": true,
              "ENABLE_DATALINK": true,
              "FLATTEN_COLUMN_VALUES": true,
              "FLATTEN_INDEX_VALUES": false,
              "GENERATE_DEX_METADATA": false,
              "HTML_TABLE_SCHEMA": false,
              "LOG_LEVEL": 30,
              "MAX_RENDER_SIZE_BYTES": 104857600,
              "MAX_STRING_LENGTH": 250,
              "NUM_PAST_SAMPLES_TRACKED": 3,
              "RANDOM_STATE": 12648430,
              "RESET_INDEX_VALUES": false,
              "ROW_SAMPLING_METHOD": "random",
              "SAMPLING_FACTOR": 0.1,
              "SAMPLING_METHOD": "random",
              "STRINGIFY_COLUMN_VALUES": true,
              "STRINGIFY_INDEX_VALUES": false
            },
            "sample_history": [],
            "sampling_time": "2023-07-24T20:43:47.559325",
            "user_variable_name": null,
            "variable_name": "unk_dataframe_a0ef5534d27c4c80ae40cbf7a53f08a0"
          },
          "8f899023-a465-4c3f-9723-c59fc53f8b21": {
            "applied_filters": [],
            "dataframe_info": {
              "default_index_used": false,
              "orig_num_cols": 1,
              "orig_num_rows": 189,
              "orig_size_bytes": 3024,
              "truncated_num_cols": 1,
              "truncated_num_rows": 189,
              "truncated_size_bytes": 3024,
              "truncated_string_columns": []
            },
            "display_id": "8f899023-a465-4c3f-9723-c59fc53f8b21",
            "dx_settings": {
              "ALLOW_NOTEABLE_ATTRS": true,
              "COLUMN_SAMPLING_METHOD": "outer",
              "DB_LOCATION": ":memory:",
              "DEV_MODE": false,
              "DISPLAY_MAX_COLUMNS": 100,
              "DISPLAY_MAX_ROWS": 50000,
              "DISPLAY_MODE": "simple",
              "ENABLE_ASSIGNMENT": true,
              "ENABLE_DATALINK": true,
              "FLATTEN_COLUMN_VALUES": true,
              "FLATTEN_INDEX_VALUES": false,
              "GENERATE_DEX_METADATA": false,
              "HTML_TABLE_SCHEMA": false,
              "LOG_LEVEL": 30,
              "MAX_RENDER_SIZE_BYTES": 104857600,
              "MAX_STRING_LENGTH": 250,
              "NUM_PAST_SAMPLES_TRACKED": 3,
              "RANDOM_STATE": 12648430,
              "RESET_INDEX_VALUES": false,
              "ROW_SAMPLING_METHOD": "random",
              "SAMPLING_FACTOR": 0.1,
              "SAMPLING_METHOD": "random",
              "STRINGIFY_COLUMN_VALUES": true,
              "STRINGIFY_INDEX_VALUES": false
            },
            "sample_history": [],
            "sampling_time": "2023-08-04T02:41:49.921800",
            "user_variable_name": null,
            "variable_name": "unk_dataframe_b1dd13ba031946409128820cd3937e10"
          },
          "9db10c8a-0201-4967-acd9-7266bbae3848": {
            "applied_filters": [],
            "dataframe_info": {
              "default_index_used": false,
              "orig_num_cols": 1,
              "orig_num_rows": 189,
              "orig_size_bytes": 3024,
              "truncated_num_cols": 1,
              "truncated_num_rows": 189,
              "truncated_size_bytes": 3024,
              "truncated_string_columns": []
            },
            "display_id": "9db10c8a-0201-4967-acd9-7266bbae3848",
            "dx_settings": {
              "ALLOW_NOTEABLE_ATTRS": true,
              "COLUMN_SAMPLING_METHOD": "outer",
              "DB_LOCATION": ":memory:",
              "DEV_MODE": false,
              "DISPLAY_MAX_COLUMNS": 100,
              "DISPLAY_MAX_ROWS": 50000,
              "DISPLAY_MODE": "simple",
              "ENABLE_ASSIGNMENT": true,
              "ENABLE_DATALINK": true,
              "FLATTEN_COLUMN_VALUES": true,
              "FLATTEN_INDEX_VALUES": false,
              "GENERATE_DEX_METADATA": false,
              "HTML_TABLE_SCHEMA": false,
              "LOG_LEVEL": 30,
              "MAX_RENDER_SIZE_BYTES": 104857600,
              "MAX_STRING_LENGTH": 250,
              "NUM_PAST_SAMPLES_TRACKED": 3,
              "RANDOM_STATE": 12648430,
              "RESET_INDEX_VALUES": false,
              "ROW_SAMPLING_METHOD": "random",
              "SAMPLING_FACTOR": 0.1,
              "SAMPLING_METHOD": "random",
              "STRINGIFY_COLUMN_VALUES": true,
              "STRINGIFY_INDEX_VALUES": false
            },
            "sample_history": [],
            "sampling_time": "2023-07-24T21:34:00.610120",
            "user_variable_name": null,
            "variable_name": "unk_dataframe_9d7fe84d189746b2969ca535a000d70b"
          },
          "be56462f-5c90-40f4-9eee-637cb88f143b": {
            "applied_filters": [],
            "dataframe_info": {
              "default_index_used": false,
              "orig_num_cols": 1,
              "orig_num_rows": 189,
              "orig_size_bytes": 3024,
              "truncated_num_cols": 1,
              "truncated_num_rows": 189,
              "truncated_size_bytes": 3024,
              "truncated_string_columns": []
            },
            "display_id": "be56462f-5c90-40f4-9eee-637cb88f143b",
            "dx_settings": {
              "ALLOW_NOTEABLE_ATTRS": true,
              "COLUMN_SAMPLING_METHOD": "outer",
              "DB_LOCATION": ":memory:",
              "DEV_MODE": false,
              "DISPLAY_MAX_COLUMNS": 100,
              "DISPLAY_MAX_ROWS": 50000,
              "DISPLAY_MODE": "simple",
              "ENABLE_ASSIGNMENT": true,
              "ENABLE_DATALINK": true,
              "FLATTEN_COLUMN_VALUES": true,
              "FLATTEN_INDEX_VALUES": false,
              "GENERATE_DEX_METADATA": false,
              "HTML_TABLE_SCHEMA": false,
              "LOG_LEVEL": 30,
              "MAX_RENDER_SIZE_BYTES": 104857600,
              "MAX_STRING_LENGTH": 250,
              "NUM_PAST_SAMPLES_TRACKED": 3,
              "RANDOM_STATE": 12648430,
              "RESET_INDEX_VALUES": false,
              "ROW_SAMPLING_METHOD": "random",
              "SAMPLING_FACTOR": 0.1,
              "SAMPLING_METHOD": "random",
              "STRINGIFY_COLUMN_VALUES": true,
              "STRINGIFY_INDEX_VALUES": false
            },
            "sample_history": [],
            "sampling_time": "2023-07-24T20:15:07.959484",
            "user_variable_name": null,
            "variable_name": "unk_dataframe_cffad5a99a834956b07a239e5ab6efc9"
          },
          "cd93807e-96e5-4e3e-bc17-0763e3e34756": {
            "applied_filters": [],
            "dataframe_info": {
              "default_index_used": false,
              "orig_num_cols": 1,
              "orig_num_rows": 189,
              "orig_size_bytes": 3024,
              "truncated_num_cols": 1,
              "truncated_num_rows": 189,
              "truncated_size_bytes": 3024,
              "truncated_string_columns": []
            },
            "display_id": "cd93807e-96e5-4e3e-bc17-0763e3e34756",
            "dx_settings": {
              "ALLOW_NOTEABLE_ATTRS": true,
              "COLUMN_SAMPLING_METHOD": "outer",
              "DB_LOCATION": ":memory:",
              "DEV_MODE": false,
              "DISPLAY_MAX_COLUMNS": 100,
              "DISPLAY_MAX_ROWS": 50000,
              "DISPLAY_MODE": "simple",
              "ENABLE_ASSIGNMENT": true,
              "ENABLE_DATALINK": true,
              "FLATTEN_COLUMN_VALUES": true,
              "FLATTEN_INDEX_VALUES": false,
              "GENERATE_DEX_METADATA": false,
              "HTML_TABLE_SCHEMA": false,
              "LOG_LEVEL": 30,
              "MAX_RENDER_SIZE_BYTES": 104857600,
              "MAX_STRING_LENGTH": 250,
              "NUM_PAST_SAMPLES_TRACKED": 3,
              "RANDOM_STATE": 12648430,
              "RESET_INDEX_VALUES": false,
              "ROW_SAMPLING_METHOD": "random",
              "SAMPLING_FACTOR": 0.1,
              "SAMPLING_METHOD": "random",
              "STRINGIFY_COLUMN_VALUES": true,
              "STRINGIFY_INDEX_VALUES": false
            },
            "sample_history": [],
            "sampling_time": "2023-07-24T21:58:42.697978",
            "user_variable_name": null,
            "variable_name": "unk_dataframe_c3c6fca779d34529a132e3f8dc1fe90b"
          },
          "d5951cca-04f4-4a63-b33a-767bdc9f9aac": {
            "applied_filters": [],
            "dataframe_info": {
              "default_index_used": false,
              "orig_num_cols": 1,
              "orig_num_rows": 189,
              "orig_size_bytes": 3024,
              "truncated_num_cols": 1,
              "truncated_num_rows": 189,
              "truncated_size_bytes": 3024,
              "truncated_string_columns": []
            },
            "display_id": "d5951cca-04f4-4a63-b33a-767bdc9f9aac",
            "dx_settings": {
              "ALLOW_NOTEABLE_ATTRS": true,
              "COLUMN_SAMPLING_METHOD": "outer",
              "DB_LOCATION": ":memory:",
              "DEV_MODE": false,
              "DISPLAY_MAX_COLUMNS": 100,
              "DISPLAY_MAX_ROWS": 50000,
              "DISPLAY_MODE": "simple",
              "ENABLE_ASSIGNMENT": true,
              "ENABLE_DATALINK": true,
              "FLATTEN_COLUMN_VALUES": true,
              "FLATTEN_INDEX_VALUES": false,
              "GENERATE_DEX_METADATA": false,
              "HTML_TABLE_SCHEMA": false,
              "LOG_LEVEL": 30,
              "MAX_RENDER_SIZE_BYTES": 104857600,
              "MAX_STRING_LENGTH": 250,
              "NUM_PAST_SAMPLES_TRACKED": 3,
              "RANDOM_STATE": 12648430,
              "RESET_INDEX_VALUES": false,
              "ROW_SAMPLING_METHOD": "random",
              "SAMPLING_FACTOR": 0.1,
              "SAMPLING_METHOD": "random",
              "STRINGIFY_COLUMN_VALUES": true,
              "STRINGIFY_INDEX_VALUES": false
            },
            "sample_history": [],
            "sampling_time": "2023-07-24T20:25:54.248029",
            "user_variable_name": null,
            "variable_name": "unk_dataframe_82d12ac6d83c4f66a2aad7b9260fe978"
          },
          "d95493dc-765a-4a52-bfc7-d0c8a0d982d1": {
            "applied_filters": [],
            "dataframe_info": {
              "default_index_used": false,
              "orig_num_cols": 1,
              "orig_num_rows": 189,
              "orig_size_bytes": 3024,
              "truncated_num_cols": 1,
              "truncated_num_rows": 189,
              "truncated_size_bytes": 3024,
              "truncated_string_columns": []
            },
            "display_id": "d95493dc-765a-4a52-bfc7-d0c8a0d982d1",
            "dx_settings": {
              "ALLOW_NOTEABLE_ATTRS": true,
              "COLUMN_SAMPLING_METHOD": "outer",
              "DB_LOCATION": ":memory:",
              "DEV_MODE": false,
              "DISPLAY_MAX_COLUMNS": 100,
              "DISPLAY_MAX_ROWS": 50000,
              "DISPLAY_MODE": "simple",
              "ENABLE_ASSIGNMENT": true,
              "ENABLE_DATALINK": true,
              "FLATTEN_COLUMN_VALUES": true,
              "FLATTEN_INDEX_VALUES": false,
              "GENERATE_DEX_METADATA": false,
              "HTML_TABLE_SCHEMA": false,
              "LOG_LEVEL": 30,
              "MAX_RENDER_SIZE_BYTES": 104857600,
              "MAX_STRING_LENGTH": 250,
              "NUM_PAST_SAMPLES_TRACKED": 3,
              "RANDOM_STATE": 12648430,
              "RESET_INDEX_VALUES": false,
              "ROW_SAMPLING_METHOD": "random",
              "SAMPLING_FACTOR": 0.1,
              "SAMPLING_METHOD": "random",
              "STRINGIFY_COLUMN_VALUES": true,
              "STRINGIFY_INDEX_VALUES": false
            },
            "sample_history": [],
            "sampling_time": "2023-07-24T21:56:37.186810",
            "user_variable_name": null,
            "variable_name": "unk_dataframe_58453f0fab164817a2fdf561891b8b6f"
          },
          "ec56263b-c270-4eb9-bc38-2d928a449907": {
            "applied_filters": [],
            "dataframe_info": {
              "default_index_used": false,
              "orig_num_cols": 1,
              "orig_num_rows": 189,
              "orig_size_bytes": 3024,
              "truncated_num_cols": 1,
              "truncated_num_rows": 189,
              "truncated_size_bytes": 3024,
              "truncated_string_columns": []
            },
            "display_id": "ec56263b-c270-4eb9-bc38-2d928a449907",
            "dx_settings": {
              "ALLOW_NOTEABLE_ATTRS": true,
              "COLUMN_SAMPLING_METHOD": "outer",
              "DB_LOCATION": ":memory:",
              "DEV_MODE": false,
              "DISPLAY_MAX_COLUMNS": 100,
              "DISPLAY_MAX_ROWS": 50000,
              "DISPLAY_MODE": "simple",
              "ENABLE_ASSIGNMENT": true,
              "ENABLE_DATALINK": true,
              "FLATTEN_COLUMN_VALUES": true,
              "FLATTEN_INDEX_VALUES": false,
              "GENERATE_DEX_METADATA": false,
              "HTML_TABLE_SCHEMA": false,
              "LOG_LEVEL": 30,
              "MAX_RENDER_SIZE_BYTES": 104857600,
              "MAX_STRING_LENGTH": 250,
              "NUM_PAST_SAMPLES_TRACKED": 3,
              "RANDOM_STATE": 12648430,
              "RESET_INDEX_VALUES": false,
              "ROW_SAMPLING_METHOD": "random",
              "SAMPLING_FACTOR": 0.1,
              "SAMPLING_METHOD": "random",
              "STRINGIFY_COLUMN_VALUES": true,
              "STRINGIFY_INDEX_VALUES": false
            },
            "sample_history": [],
            "sampling_time": "2023-07-25T17:26:38.735113",
            "user_variable_name": null,
            "variable_name": "unk_dataframe_7e05ca89dbad4dc386b1efbc9f6c9f6d"
          },
          "ecb02894-9855-424e-82f7-929d6e0b27aa": {
            "applied_filters": [],
            "dataframe_info": {
              "default_index_used": false,
              "orig_num_cols": 1,
              "orig_num_rows": 189,
              "orig_size_bytes": 3024,
              "truncated_num_cols": 1,
              "truncated_num_rows": 189,
              "truncated_size_bytes": 3024,
              "truncated_string_columns": []
            },
            "display_id": "ecb02894-9855-424e-82f7-929d6e0b27aa",
            "dx_settings": {
              "ALLOW_NOTEABLE_ATTRS": true,
              "COLUMN_SAMPLING_METHOD": "outer",
              "DB_LOCATION": ":memory:",
              "DEV_MODE": false,
              "DISPLAY_MAX_COLUMNS": 100,
              "DISPLAY_MAX_ROWS": 50000,
              "DISPLAY_MODE": "simple",
              "ENABLE_ASSIGNMENT": true,
              "ENABLE_DATALINK": true,
              "FLATTEN_COLUMN_VALUES": true,
              "FLATTEN_INDEX_VALUES": false,
              "GENERATE_DEX_METADATA": false,
              "HTML_TABLE_SCHEMA": false,
              "LOG_LEVEL": 30,
              "MAX_RENDER_SIZE_BYTES": 104857600,
              "MAX_STRING_LENGTH": 250,
              "NUM_PAST_SAMPLES_TRACKED": 3,
              "RANDOM_STATE": 12648430,
              "RESET_INDEX_VALUES": false,
              "ROW_SAMPLING_METHOD": "random",
              "SAMPLING_FACTOR": 0.1,
              "SAMPLING_METHOD": "random",
              "STRINGIFY_COLUMN_VALUES": true,
              "STRINGIFY_INDEX_VALUES": false
            },
            "sample_history": [],
            "sampling_time": "2023-07-25T06:23:24.273065",
            "user_variable_name": null,
            "variable_name": "unk_dataframe_63109e9d55a149d7916391446c44a0a0"
          },
          "f766bf34-9199-4f1f-b372-b4a41079ba92": {
            "applied_filters": [],
            "dataframe_info": {
              "default_index_used": false,
              "orig_num_cols": 1,
              "orig_num_rows": 189,
              "orig_size_bytes": 3024,
              "truncated_num_cols": 1,
              "truncated_num_rows": 189,
              "truncated_size_bytes": 3024,
              "truncated_string_columns": []
            },
            "display_id": "f766bf34-9199-4f1f-b372-b4a41079ba92",
            "dx_settings": {
              "ALLOW_NOTEABLE_ATTRS": true,
              "COLUMN_SAMPLING_METHOD": "outer",
              "DB_LOCATION": ":memory:",
              "DEV_MODE": false,
              "DISPLAY_MAX_COLUMNS": 100,
              "DISPLAY_MAX_ROWS": 50000,
              "DISPLAY_MODE": "simple",
              "ENABLE_ASSIGNMENT": true,
              "ENABLE_DATALINK": true,
              "FLATTEN_COLUMN_VALUES": true,
              "FLATTEN_INDEX_VALUES": false,
              "GENERATE_DEX_METADATA": false,
              "HTML_TABLE_SCHEMA": false,
              "LOG_LEVEL": 30,
              "MAX_RENDER_SIZE_BYTES": 104857600,
              "MAX_STRING_LENGTH": 250,
              "NUM_PAST_SAMPLES_TRACKED": 3,
              "RANDOM_STATE": 12648430,
              "RESET_INDEX_VALUES": false,
              "ROW_SAMPLING_METHOD": "random",
              "SAMPLING_FACTOR": 0.1,
              "SAMPLING_METHOD": "random",
              "STRINGIFY_COLUMN_VALUES": true,
              "STRINGIFY_INDEX_VALUES": false
            },
            "sample_history": [],
            "sampling_time": "2023-07-27T18:28:39.114801",
            "user_variable_name": null,
            "variable_name": "unk_dataframe_766be72d63684acca0db9129d05977db"
          },
          "fa40ef1e-079a-4580-8a00-8b11df777404": {
            "applied_filters": [],
            "dataframe_info": {
              "default_index_used": false,
              "orig_num_cols": 1,
              "orig_num_rows": 189,
              "orig_size_bytes": 3024,
              "truncated_num_cols": 1,
              "truncated_num_rows": 189,
              "truncated_size_bytes": 3024,
              "truncated_string_columns": []
            },
            "display_id": "fa40ef1e-079a-4580-8a00-8b11df777404",
            "dx_settings": {
              "ALLOW_NOTEABLE_ATTRS": true,
              "COLUMN_SAMPLING_METHOD": "outer",
              "DB_LOCATION": ":memory:",
              "DEV_MODE": false,
              "DISPLAY_MAX_COLUMNS": 100,
              "DISPLAY_MAX_ROWS": 50000,
              "DISPLAY_MODE": "simple",
              "ENABLE_ASSIGNMENT": true,
              "ENABLE_DATALINK": true,
              "FLATTEN_COLUMN_VALUES": true,
              "FLATTEN_INDEX_VALUES": false,
              "GENERATE_DEX_METADATA": false,
              "HTML_TABLE_SCHEMA": false,
              "LOG_LEVEL": 30,
              "MAX_RENDER_SIZE_BYTES": 104857600,
              "MAX_STRING_LENGTH": 250,
              "NUM_PAST_SAMPLES_TRACKED": 3,
              "RANDOM_STATE": 12648430,
              "RESET_INDEX_VALUES": false,
              "ROW_SAMPLING_METHOD": "random",
              "SAMPLING_FACTOR": 0.1,
              "SAMPLING_METHOD": "random",
              "STRINGIFY_COLUMN_VALUES": true,
              "STRINGIFY_INDEX_VALUES": false
            },
            "sample_history": [],
            "sampling_time": "2023-08-03T16:56:15.095366",
            "user_variable_name": null,
            "variable_name": "unk_dataframe_6f68b2b4cf2c40da87212a09b7eea303"
          }
        },
        "noteable": {
          "cell_type": "code",
          "output_collection_id": "2e537a33-51d7-433c-a350-93b143da42ab"
        }
      },
      "outputs": [
        {
          "data": {
            "text/plain": [
              "Sex                                    object\n",
              "GHE code                                int64\n",
              "GeneralCause                           object\n",
              "Disease_AccidentType                   object\n",
              "SpecificCondition                      object\n",
              "                                       ...   \n",
              "Venezuela (Bolivarian Republic of)    float64\n",
              "Viet Nam                              float64\n",
              "Yemen                                 float64\n",
              "Zambia                                float64\n",
              "Zimbabwe                              float64\n",
              "Length: 189, dtype: object"
            ]
          },
          "execution_count": 6,
          "metadata": {},
          "output_type": "execute_result"
        }
      ],
      "source": [
        "# Convert the country columns to numeric\n",
        "for column in data.columns[6:]:  # The country columns start from the 7th column\n",
        "    data[column] = pd.to_numeric(data[column], errors='coerce')\n",
        "\n",
        "# Check the data types again\n",
        "data.dtypes"
      ]
    },
    {
      "cell_type": "markdown",
      "id": "4bdb7068-0538-41ef-8575-fb01c1e7eae2",
      "metadata": {
        "noteable": {
          "cell_type": "markdown"
        }
      },
      "source": [
        "Now the country columns are of type `float64`, which means they contain numeric data."
      ]
    },
    {
      "cell_type": "markdown",
      "id": "9209cd32-f485-4421-9cf8-1f0d42f0254a",
      "metadata": {
        "noteable": {
          "cell_type": "markdown"
        }
      },
      "source": [
        "In this case, we can't use the median to fill the missing values. Instead, we can fill the missing values with a placeholder value, such as 'Unknown'."
      ]
    },
    {
      "cell_type": "code",
      "execution_count": 7,
      "id": "ca6cdd20-99cb-4229-9a7f-702530c50bb3",
      "metadata": {
        "ExecuteTime": {
          "end_time": "2023-08-04T03:33:57.720454+00:00",
          "start_time": "2023-08-04T03:33:57.514504+00:00"
        },
        "noteable": {
          "cell_type": "code",
          "output_collection_id": "3d8d5455-98bc-4feb-82cd-395f28a5bd53"
        }
      },
      "outputs": [
        {
          "data": {
            "text/plain": [
              "0"
            ]
          },
          "execution_count": 7,
          "metadata": {},
          "output_type": "execute_result"
        }
      ],
      "source": [
        "# Replace missing values in non-numeric columns with 'Unknown'\n",
        "data.fillna('Unknown', inplace=True)\n",
        "\n",
        "# Check if there are any missing values left\n",
        "data.isnull().sum().sum()"
      ]
    },
    {
      "cell_type": "markdown",
      "id": "5cd29a83-f9f7-4e7d-837c-e19508dc69c1",
      "metadata": {
        "noteable": {
          "cell_type": "markdown"
        }
      },
      "source": [
        "Now there are no missing values in the dataset. "
      ]
    },
    {
      "cell_type": "markdown",
      "id": "9d9341ad-1744-48b4-a6fb-cd38d281ce0e",
      "metadata": {
        "noteable": {
          "cell_type": "markdown"
        }
      },
      "source": [
        "## Exploratory Data Analysis\n",
        "In this section, we will explore the data to understand the distributions of variables, relationships between variables, and potential outliers. This will help us gain insights from the data and inform any further analysis or modeling."
      ]
    },
    {
      "cell_type": "code",
      "execution_count": 8,
      "id": "f1d16ccd-b755-42c2-b388-eadd52eac083",
      "metadata": {
        "ExecuteTime": {
          "end_time": "2023-08-04T02:41:59.317824+00:00",
          "start_time": "2023-08-04T02:41:57.922743+00:00"
        },
        "noteable": {
          "cell_type": "code",
          "output_collection_id": "d3ed30f2-f963-4c6a-8d3d-8b92921c7e0b"
        }
      },
      "outputs": [
        {
          "data": {
            "image/png": "[encoded data removed]",
            "text/plain": [
              "<Figure size 1000x600 with 1 Axes>"
            ]
          },
          "metadata": {},
          "output_type": "display_data"
        }
      ],
      "source": [
        "import matplotlib.pyplot as plt\n",
        "import seaborn as sns\n",
        "\n",
        "# Set the style of the plots\n",
        "sns.set_style('whitegrid')\n",
        "\n",
        "# Create a histogram of the 'GHE code' column\n",
        "plt.figure(figsize=(10, 6))\n",
        "sns.histplot(data['GHE code'], bins=30, kde=False, color='blue')\n",
        "plt.title('Distribution of GHE Codes')\n",
        "plt.xlabel('GHE Code')\n",
        "plt.ylabel('Frequency')\n",
        "plt.show()"
      ]
    },
    {
      "cell_type": "markdown",
      "id": "5e69cbc1-8970-47d6-b256-86326b443e7d",
      "metadata": {
        "noteable": {
          "cell_type": "markdown"
        }
      },
      "source": [
        "The histogram shows the distribution of the GHE codes in the dataset. It seems like the codes are evenly distributed, with no particular code being overly represented."
      ]
    },
    {
      "cell_type": "code",
      "execution_count": 9,
      "id": "045afabe-b09b-4605-8347-f12c78face7a",
      "metadata": {
        "ExecuteTime": {
          "end_time": "2023-08-04T02:42:02.886787+00:00",
          "start_time": "2023-08-04T02:42:02.425426+00:00"
        },
        "noteable": {
          "cell_type": "code",
          "output_collection_id": "3b81f30d-93ab-45ec-ada9-e187aeda7b7b"
        }
      },
      "outputs": [
        {
          "data": {
            "image/png": "[encoded data removed]",
            "text/plain": [
              "<Figure size 1000x600 with 1 Axes>"
            ]
          },
          "metadata": {},
          "output_type": "display_data"
        }
      ],
      "source": [
        "# Create a bar plot of the 'Sex' column\n",
        "plt.figure(figsize=(10, 6))\n",
        "sns.countplot(x='Sex', data=data, palette='viridis')\n",
        "plt.title('Distribution of Sex')\n",
        "plt.xlabel('Sex')\n",
        "plt.ylabel('Count')\n",
        "plt.show()"
      ]
    },
    {
      "cell_type": "markdown",
      "id": "681428b7-5a6c-423b-9901-42ef9ce3100b",
      "metadata": {
        "noteable": {
          "cell_type": "markdown"
        }
      },
      "source": [
        "The bar plot shows the distribution of the 'Sex' column in the dataset. It seems like the data contains an equal number of records for 'Male', 'Female', and 'Both' sexes."
      ]
    },
    {
      "cell_type": "code",
      "execution_count": 10,
      "id": "babd61f0-c028-4cf5-9832-d39cc0a8bc16",
      "metadata": {
        "ExecuteTime": {
          "end_time": "2023-08-04T02:42:06.614005+00:00",
          "start_time": "2023-08-04T02:42:06.145208+00:00"
        },
        "noteable": {
          "cell_type": "code",
          "output_collection_id": "200fe76e-94e6-4f85-b4af-6b4050b8cc20"
        },
        "scrolled": true
      },
      "outputs": [
        {
          "data": {
            "image/png": "[encoded data removed]",
            "text/plain": [
              "<Figure size 1000x600 with 1 Axes>"
            ]
          },
          "metadata": {},
          "output_type": "display_data"
        }
      ],
      "source": [
        "# Create a bar plot of the top 3 'GeneralCause' categories\n",
        "plt.figure(figsize=(10, 6))\n",
        "sns.countplot(y='GeneralCause', data=data, palette='viridis', order=data['GeneralCause'].value_counts().iloc[:3].index)\n",
        "plt.title('Top 3 General Causes of Death')\n",
        "plt.xlabel('Count')\n",
        "plt.ylabel('General Cause')\n",
        "plt.show()"
      ]
    },
    {
      "cell_type": "markdown",
      "id": "80ed235c-9d58-42ee-925d-57a4840351ee",
      "metadata": {
        "noteable": {
          "cell_type": "markdown"
        }
      },
      "source": [
        "The bar plot shows the top 3 general causes of death in the dataset. The most common cause is 'Noncommunicable diseases', followed by 'Communicable, maternal, perinatal and nutritional conditions', and 'Injuries'."
      ]
    },
    {
      "cell_type": "code",
      "execution_count": 11,
      "id": "8e450302-19f3-4fd8-a59a-b339de533062",
      "metadata": {
        "ExecuteTime": {
          "end_time": "2023-08-04T02:42:10.155298+00:00",
          "start_time": "2023-08-04T02:42:09.995950+00:00"
        },
        "noteable": {
          "cell_type": "python",
          "output_collection_id": "f899d45f-d213-45ee-8124-7590fc0457d3"
        }
      },
      "outputs": [
        {
          "data": {
            "text/plain": [
              "Index(['Sex', 'GHE code', 'GeneralCause', 'Disease_AccidentType',\n",
              "       'SpecificCondition', 'CauseDetail', 'Afghanistan', 'Albania', 'Algeria',\n",
              "       'Angola',\n",
              "       ...\n",
              "       'United Republic of Tanzania', 'United States of America', 'Uruguay',\n",
              "       'Uzbekistan', 'Vanuatu', 'Venezuela (Bolivarian Republic of)',\n",
              "       'Viet Nam', 'Yemen', 'Zambia', 'Zimbabwe'],\n",
              "      dtype='object', length=189)"
            ]
          },
          "execution_count": 11,
          "metadata": {},
          "output_type": "execute_result"
        }
      ],
      "source": [
        "data.columns"
      ]
    },
    {
      "cell_type": "markdown",
      "id": "6b0792aa-42c4-4f1a-b8aa-679d94650f51",
      "metadata": {
        "noteable": {
          "cell_type": "markdown"
        }
      },
      "source": [
        "\n",
        "We will perform exploratory data analysis on the 'Disease_AccidentType' column. This will help us understand the distribution of different diseases and accidents that cause death."
      ]
    },
    {
      "cell_type": "code",
      "execution_count": 12,
      "id": "c3c2f6f8-48db-4f43-b36e-8acb2f7b835e",
      "metadata": {
        "ExecuteTime": {
          "end_time": "2023-08-04T02:42:14.613521+00:00",
          "start_time": "2023-08-04T02:42:13.781041+00:00"
        },
        "noteable": {
          "cell_type": "code",
          "output_collection_id": "bfcf888e-ed0d-4fd6-995c-f06261155b6e"
        }
      },
      "outputs": [
        {
          "data": {
            "image/png": "[encoded data removed]",
            "text/plain": [
              "<Figure size 1000x600 with 1 Axes>"
            ]
          },
          "metadata": {},
          "output_type": "display_data"
        }
      ],
      "source": [
        "import matplotlib.pyplot as plt\n",
        "\n",
        "# Count the number of occurrences of each disease/accident type\n",
        "disease_counts = data['Disease_AccidentType'].value_counts()\n",
        "\n",
        "# Plot the counts\n",
        "plt.figure(figsize=(10, 6))\n",
        "disease_counts.plot(kind='bar')\n",
        "plt.title('Distribution of Disease/Accident Types')\n",
        "plt.xlabel('Disease/Accident Type')\n",
        "plt.ylabel('Count')\n",
        "plt.show()"
      ]
    },
    {
      "cell_type": "markdown",
      "id": "2e309a8b-da1d-4adf-83f2-88094d421de2",
      "metadata": {
        "noteable": {
          "cell_type": "markdown"
        }
      },
      "source": [
        "The bar plot shows the distribution of different disease/accident types in the dataset. Some types are more common than others. This information can be useful for understanding the major causes of death."
      ]
    },
    {
      "cell_type": "markdown",
      "id": "01f2b2b4-29c7-47ae-bbb5-21a06479bf65",
      "metadata": {
        "noteable": {
          "cell_type": "markdown"
        }
      },
      "source": [
        "Now, let's perform exploratory data analysis on the 'SpecificCondition' column. This will help us understand the distribution of different specific conditions that cause death."
      ]
    },
    {
      "cell_type": "code",
      "execution_count": 13,
      "id": "65ff68a9-6db6-4d42-8ebc-21c08174a14b",
      "metadata": {
        "ExecuteTime": {
          "end_time": "2023-08-04T02:42:22.251935+00:00",
          "start_time": "2023-08-04T02:42:21.524882+00:00"
        },
        "noteable": {
          "cell_type": "code",
          "output_collection_id": "7f13f6f1-1756-473c-808b-ef3d2c2be283"
        }
      },
      "outputs": [
        {
          "data": {
            "image/png": "[encoded data removed]",
            "text/plain": [
              "<Figure size 1000x600 with 1 Axes>"
            ]
          },
          "metadata": {},
          "output_type": "display_data"
        }
      ],
      "source": [
        "# Count the number of occurrences of each specific condition\n",
        "condition_counts = data['SpecificCondition'].value_counts()\n",
        "\n",
        "# Plot the top 20 conditions\n",
        "plt.figure(figsize=(10, 6))\n",
        "condition_counts[:20].plot(kind='bar')\n",
        "plt.title('Distribution of Top 20 Specific Conditions')\n",
        "plt.xlabel('Specific Condition')\n",
        "plt.ylabel('Count')\n",
        "plt.show()"
      ]
    },
    {
      "cell_type": "markdown",
      "id": "1749acbc-894f-49ef-992a-17e1c04a0cbe",
      "metadata": {
        "noteable": {
          "cell_type": "markdown"
        }
      },
      "source": [
        "The bar plot shows the distribution of the top 20 specific conditions in the dataset. Some conditions are more common than others. "
      ]
    },
    {
      "cell_type": "markdown",
      "id": "796b9252-e10c-434c-b3b2-52fa27f0b18e",
      "metadata": {
        "noteable": {
          "cell_type": "markdown"
        }
      },
      "source": [
        "## Reshaping the DataFrame\n",
        "In this section, we will reshape the DataFrame so that there is a single 'Country' column and a 'Deaths' column. This will make it easier to perform analyses that involve comparing or grouping countries."
      ]
    },
    {
      "cell_type": "code",
      "execution_count": 14,
      "id": "7f074afc-8fc8-4310-960c-15819f4f1e2b",
      "metadata": {
        "ExecuteTime": {
          "end_time": "2023-08-04T02:42:28.579109+00:00",
          "start_time": "2023-08-04T02:42:28.326402+00:00"
        },
        "datalink": {
          "1c1c64a1-c2cb-436f-a2e4-fa5ce1a8b9fa": {
            "applied_filters": [],
            "dataframe_info": {
              "default_index_used": true,
              "orig_num_cols": 8,
              "orig_num_rows": 5,
              "orig_size_bytes": 360,
              "truncated_num_cols": 8,
              "truncated_num_rows": 5,
              "truncated_size_bytes": 360,
              "truncated_string_columns": []
            },
            "display_id": "1c1c64a1-c2cb-436f-a2e4-fa5ce1a8b9fa",
            "dx_settings": {
              "ALLOW_NOTEABLE_ATTRS": true,
              "COLUMN_SAMPLING_METHOD": "outer",
              "DB_LOCATION": ":memory:",
              "DEV_MODE": false,
              "DISPLAY_MAX_COLUMNS": 100,
              "DISPLAY_MAX_ROWS": 50000,
              "DISPLAY_MODE": "simple",
              "ENABLE_ASSIGNMENT": true,
              "ENABLE_DATALINK": true,
              "FLATTEN_COLUMN_VALUES": true,
              "FLATTEN_INDEX_VALUES": false,
              "GENERATE_DEX_METADATA": false,
              "HTML_TABLE_SCHEMA": false,
              "LOG_LEVEL": 30,
              "MAX_RENDER_SIZE_BYTES": 104857600,
              "MAX_STRING_LENGTH": 250,
              "NUM_PAST_SAMPLES_TRACKED": 3,
              "RANDOM_STATE": 12648430,
              "RESET_INDEX_VALUES": false,
              "ROW_SAMPLING_METHOD": "random",
              "SAMPLING_FACTOR": 0.1,
              "SAMPLING_METHOD": "random",
              "STRINGIFY_COLUMN_VALUES": true,
              "STRINGIFY_INDEX_VALUES": false
            },
            "sample_history": [],
            "sampling_time": "2023-07-27T18:28:45.554960",
            "user_variable_name": null,
            "variable_name": "unk_dataframe_e406a3b25cc5478ca96becd2aae06587"
          },
          "227e6153-aaa6-4bab-811d-2e8f4ac80744": {
            "applied_filters": [],
            "dataframe_info": {
              "default_index_used": true,
              "orig_num_cols": 8,
              "orig_num_rows": 5,
              "orig_size_bytes": 360,
              "truncated_num_cols": 8,
              "truncated_num_rows": 5,
              "truncated_size_bytes": 360,
              "truncated_string_columns": []
            },
            "display_id": "227e6153-aaa6-4bab-811d-2e8f4ac80744",
            "dx_settings": {
              "ALLOW_NOTEABLE_ATTRS": true,
              "COLUMN_SAMPLING_METHOD": "outer",
              "DB_LOCATION": ":memory:",
              "DEV_MODE": false,
              "DISPLAY_MAX_COLUMNS": 100,
              "DISPLAY_MAX_ROWS": 50000,
              "DISPLAY_MODE": "simple",
              "ENABLE_ASSIGNMENT": true,
              "ENABLE_DATALINK": true,
              "FLATTEN_COLUMN_VALUES": true,
              "FLATTEN_INDEX_VALUES": false,
              "GENERATE_DEX_METADATA": false,
              "HTML_TABLE_SCHEMA": false,
              "LOG_LEVEL": 30,
              "MAX_RENDER_SIZE_BYTES": 104857600,
              "MAX_STRING_LENGTH": 250,
              "NUM_PAST_SAMPLES_TRACKED": 3,
              "RANDOM_STATE": 12648430,
              "RESET_INDEX_VALUES": false,
              "ROW_SAMPLING_METHOD": "random",
              "SAMPLING_FACTOR": 0.1,
              "SAMPLING_METHOD": "random",
              "STRINGIFY_COLUMN_VALUES": true,
              "STRINGIFY_INDEX_VALUES": false
            },
            "sample_history": [],
            "sampling_time": "2023-08-03T20:31:42.965996",
            "user_variable_name": null,
            "variable_name": "unk_dataframe_e720326a1c304f57b846ffaae6f9d249"
          },
          "72428b47-4656-4888-b08e-853f945c7092": {
            "applied_filters": [],
            "dataframe_info": {
              "default_index_used": true,
              "orig_num_cols": 8,
              "orig_num_rows": 5,
              "orig_size_bytes": 360,
              "truncated_num_cols": 8,
              "truncated_num_rows": 5,
              "truncated_size_bytes": 360,
              "truncated_string_columns": []
            },
            "display_id": "72428b47-4656-4888-b08e-853f945c7092",
            "dx_settings": {
              "ALLOW_NOTEABLE_ATTRS": true,
              "COLUMN_SAMPLING_METHOD": "outer",
              "DB_LOCATION": ":memory:",
              "DEV_MODE": false,
              "DISPLAY_MAX_COLUMNS": 100,
              "DISPLAY_MAX_ROWS": 50000,
              "DISPLAY_MODE": "simple",
              "ENABLE_ASSIGNMENT": true,
              "ENABLE_DATALINK": true,
              "FLATTEN_COLUMN_VALUES": true,
              "FLATTEN_INDEX_VALUES": false,
              "GENERATE_DEX_METADATA": false,
              "HTML_TABLE_SCHEMA": false,
              "LOG_LEVEL": 30,
              "MAX_RENDER_SIZE_BYTES": 104857600,
              "MAX_STRING_LENGTH": 250,
              "NUM_PAST_SAMPLES_TRACKED": 3,
              "RANDOM_STATE": 12648430,
              "RESET_INDEX_VALUES": false,
              "ROW_SAMPLING_METHOD": "random",
              "SAMPLING_FACTOR": 0.1,
              "SAMPLING_METHOD": "random",
              "STRINGIFY_COLUMN_VALUES": true,
              "STRINGIFY_INDEX_VALUES": false
            },
            "sample_history": [],
            "sampling_time": "2023-08-04T02:42:28.420931",
            "user_variable_name": null,
            "variable_name": "unk_dataframe_fb2e8eba3f15445f8e77db090721be49"
          },
          "809480fb-4c9f-450b-9b60-3338c5918e3b": {
            "applied_filters": [],
            "dataframe_info": {
              "default_index_used": true,
              "orig_num_cols": 8,
              "orig_num_rows": 5,
              "orig_size_bytes": 360,
              "truncated_num_cols": 8,
              "truncated_num_rows": 5,
              "truncated_size_bytes": 360,
              "truncated_string_columns": []
            },
            "display_id": "809480fb-4c9f-450b-9b60-3338c5918e3b",
            "dx_settings": {
              "ALLOW_NOTEABLE_ATTRS": true,
              "COLUMN_SAMPLING_METHOD": "outer",
              "DB_LOCATION": ":memory:",
              "DEV_MODE": false,
              "DISPLAY_MAX_COLUMNS": 100,
              "DISPLAY_MAX_ROWS": 50000,
              "DISPLAY_MODE": "simple",
              "ENABLE_ASSIGNMENT": true,
              "ENABLE_DATALINK": true,
              "FLATTEN_COLUMN_VALUES": true,
              "FLATTEN_INDEX_VALUES": false,
              "GENERATE_DEX_METADATA": false,
              "HTML_TABLE_SCHEMA": false,
              "LOG_LEVEL": 30,
              "MAX_RENDER_SIZE_BYTES": 104857600,
              "MAX_STRING_LENGTH": 250,
              "NUM_PAST_SAMPLES_TRACKED": 3,
              "RANDOM_STATE": 12648430,
              "RESET_INDEX_VALUES": false,
              "ROW_SAMPLING_METHOD": "random",
              "SAMPLING_FACTOR": 0.1,
              "SAMPLING_METHOD": "random",
              "STRINGIFY_COLUMN_VALUES": true,
              "STRINGIFY_INDEX_VALUES": false
            },
            "sample_history": [],
            "sampling_time": "2023-08-03T16:57:33.635813",
            "user_variable_name": null,
            "variable_name": "unk_dataframe_1cb5aa34536f489cb91b1e06484ffce0"
          },
          "8686f419-e5b7-4eb7-b93b-307bae8fc2b1": {
            "applied_filters": [],
            "dataframe_info": {
              "default_index_used": true,
              "orig_num_cols": 8,
              "orig_num_rows": 5,
              "orig_size_bytes": 360,
              "truncated_num_cols": 8,
              "truncated_num_rows": 5,
              "truncated_size_bytes": 360,
              "truncated_string_columns": []
            },
            "display_id": "8686f419-e5b7-4eb7-b93b-307bae8fc2b1",
            "dx_settings": {
              "ALLOW_NOTEABLE_ATTRS": true,
              "COLUMN_SAMPLING_METHOD": "outer",
              "DB_LOCATION": ":memory:",
              "DEV_MODE": false,
              "DISPLAY_MAX_COLUMNS": 100,
              "DISPLAY_MAX_ROWS": 50000,
              "DISPLAY_MODE": "simple",
              "ENABLE_ASSIGNMENT": true,
              "ENABLE_DATALINK": true,
              "FLATTEN_COLUMN_VALUES": true,
              "FLATTEN_INDEX_VALUES": false,
              "GENERATE_DEX_METADATA": false,
              "HTML_TABLE_SCHEMA": false,
              "LOG_LEVEL": 30,
              "MAX_RENDER_SIZE_BYTES": 104857600,
              "MAX_STRING_LENGTH": 250,
              "NUM_PAST_SAMPLES_TRACKED": 3,
              "RANDOM_STATE": 12648430,
              "RESET_INDEX_VALUES": false,
              "ROW_SAMPLING_METHOD": "random",
              "SAMPLING_FACTOR": 0.1,
              "SAMPLING_METHOD": "random",
              "STRINGIFY_COLUMN_VALUES": true,
              "STRINGIFY_INDEX_VALUES": false
            },
            "sample_history": [],
            "sampling_time": "2023-07-25T17:26:46.943545",
            "user_variable_name": null,
            "variable_name": "unk_dataframe_f903b2d1d2b44cebbcec28042a71211a"
          },
          "92c669fc-75d8-4202-9360-94aa035452fa": {
            "applied_filters": [],
            "dataframe_info": {
              "default_index_used": true,
              "orig_num_cols": 8,
              "orig_num_rows": 5,
              "orig_size_bytes": 360,
              "truncated_num_cols": 8,
              "truncated_num_rows": 5,
              "truncated_size_bytes": 360,
              "truncated_string_columns": []
            },
            "display_id": "92c669fc-75d8-4202-9360-94aa035452fa",
            "dx_settings": {
              "ALLOW_NOTEABLE_ATTRS": true,
              "COLUMN_SAMPLING_METHOD": "outer",
              "DB_LOCATION": ":memory:",
              "DEV_MODE": false,
              "DISPLAY_MAX_COLUMNS": 100,
              "DISPLAY_MAX_ROWS": 50000,
              "DISPLAY_MODE": "simple",
              "ENABLE_ASSIGNMENT": true,
              "ENABLE_DATALINK": true,
              "FLATTEN_COLUMN_VALUES": true,
              "FLATTEN_INDEX_VALUES": false,
              "GENERATE_DEX_METADATA": false,
              "HTML_TABLE_SCHEMA": false,
              "LOG_LEVEL": 30,
              "MAX_RENDER_SIZE_BYTES": 104857600,
              "MAX_STRING_LENGTH": 250,
              "NUM_PAST_SAMPLES_TRACKED": 3,
              "RANDOM_STATE": 12648430,
              "RESET_INDEX_VALUES": false,
              "ROW_SAMPLING_METHOD": "random",
              "SAMPLING_FACTOR": 0.1,
              "SAMPLING_METHOD": "random",
              "STRINGIFY_COLUMN_VALUES": true,
              "STRINGIFY_INDEX_VALUES": false
            },
            "sample_history": [],
            "sampling_time": "2023-07-25T06:30:08.700820",
            "user_variable_name": null,
            "variable_name": "unk_dataframe_29c5d369ffeb43d2a9cb1ba3aba7ee38"
          },
          "a7696642-bfca-4aec-9e7b-5eb2b44cb42d": {
            "applied_filters": [],
            "dataframe_info": {
              "default_index_used": true,
              "orig_num_cols": 8,
              "orig_num_rows": 5,
              "orig_size_bytes": 360,
              "truncated_num_cols": 8,
              "truncated_num_rows": 5,
              "truncated_size_bytes": 360,
              "truncated_string_columns": []
            },
            "display_id": "a7696642-bfca-4aec-9e7b-5eb2b44cb42d",
            "dx_settings": {
              "ALLOW_NOTEABLE_ATTRS": true,
              "COLUMN_SAMPLING_METHOD": "outer",
              "DB_LOCATION": ":memory:",
              "DEV_MODE": false,
              "DISPLAY_MAX_COLUMNS": 100,
              "DISPLAY_MAX_ROWS": 50000,
              "DISPLAY_MODE": "simple",
              "ENABLE_ASSIGNMENT": true,
              "ENABLE_DATALINK": true,
              "FLATTEN_COLUMN_VALUES": true,
              "FLATTEN_INDEX_VALUES": false,
              "GENERATE_DEX_METADATA": false,
              "HTML_TABLE_SCHEMA": false,
              "LOG_LEVEL": 30,
              "MAX_RENDER_SIZE_BYTES": 104857600,
              "MAX_STRING_LENGTH": 250,
              "NUM_PAST_SAMPLES_TRACKED": 3,
              "RANDOM_STATE": 12648430,
              "RESET_INDEX_VALUES": false,
              "ROW_SAMPLING_METHOD": "random",
              "SAMPLING_FACTOR": 0.1,
              "SAMPLING_METHOD": "random",
              "STRINGIFY_COLUMN_VALUES": true,
              "STRINGIFY_INDEX_VALUES": false
            },
            "sample_history": [],
            "sampling_time": "2023-07-28T00:58:15.712569",
            "user_variable_name": null,
            "variable_name": "unk_dataframe_b462a43d6ffb46a5a416a30c1015efc0"
          }
        },
        "noteable": {
          "cell_type": "code",
          "output_collection_id": "f8f9f4df-0251-4200-b7ed-6f32a48308c5"
        }
      },
      "outputs": [
        {
          "data": {
            "text/html": [
              "<div>\n",
              "<style scoped>\n",
              "    .dataframe tbody tr th:only-of-type {\n",
              "        vertical-align: middle;\n",
              "    }\n",
              "\n",
              "    .dataframe tbody tr th {\n",
              "        vertical-align: top;\n",
              "    }\n",
              "\n",
              "    .dataframe thead th {\n",
              "        text-align: right;\n",
              "    }\n",
              "</style>\n",
              "<table border=\"1\" class=\"dataframe\">\n",
              "  <thead>\n",
              "    <tr style=\"text-align: right;\">\n",
              "      <th></th>\n",
              "      <th>Sex</th>\n",
              "      <th>GHE code</th>\n",
              "      <th>GeneralCause</th>\n",
              "      <th>Disease_AccidentType</th>\n",
              "      <th>SpecificCondition</th>\n",
              "      <th>CauseDetail</th>\n",
              "      <th>Country</th>\n",
              "      <th>Deaths</th>\n",
              "    </tr>\n",
              "  </thead>\n",
              "  <tbody>\n",
              "    <tr>\n",
              "      <th>0</th>\n",
              "      <td>Males</td>\n",
              "      <td>30</td>\n",
              "      <td>Communicable, maternal, perinatal and nutritio...</td>\n",
              "      <td>Infectious and parasitic diseases</td>\n",
              "      <td>Tuberculosis</td>\n",
              "      <td>Unknown</td>\n",
              "      <td>Afghanistan</td>\n",
              "      <td>4.5</td>\n",
              "    </tr>\n",
              "    <tr>\n",
              "      <th>1</th>\n",
              "      <td>Males</td>\n",
              "      <td>50</td>\n",
              "      <td>Communicable, maternal, perinatal and nutritio...</td>\n",
              "      <td>Infectious and parasitic diseases</td>\n",
              "      <td>STDs excluding HIV</td>\n",
              "      <td>Syphilis</td>\n",
              "      <td>Afghanistan</td>\n",
              "      <td>0.1</td>\n",
              "    </tr>\n",
              "    <tr>\n",
              "      <th>2</th>\n",
              "      <td>Males</td>\n",
              "      <td>60</td>\n",
              "      <td>Communicable, maternal, perinatal and nutritio...</td>\n",
              "      <td>Infectious and parasitic diseases</td>\n",
              "      <td>STDs excluding HIV</td>\n",
              "      <td>Chlamydia</td>\n",
              "      <td>Afghanistan</td>\n",
              "      <td>Unknown</td>\n",
              "    </tr>\n",
              "    <tr>\n",
              "      <th>3</th>\n",
              "      <td>Males</td>\n",
              "      <td>70</td>\n",
              "      <td>Communicable, maternal, perinatal and nutritio...</td>\n",
              "      <td>Infectious and parasitic diseases</td>\n",
              "      <td>STDs excluding HIV</td>\n",
              "      <td>Gonorrhoea</td>\n",
              "      <td>Afghanistan</td>\n",
              "      <td>0.0</td>\n",
              "    </tr>\n",
              "    <tr>\n",
              "      <th>4</th>\n",
              "      <td>Males</td>\n",
              "      <td>80</td>\n",
              "      <td>Communicable, maternal, perinatal and nutritio...</td>\n",
              "      <td>Infectious and parasitic diseases</td>\n",
              "      <td>STDs excluding HIV</td>\n",
              "      <td>Trichomoniasis</td>\n",
              "      <td>Afghanistan</td>\n",
              "      <td>Unknown</td>\n",
              "    </tr>\n",
              "  </tbody>\n",
              "</table>\n",
              "</div>"
            ],
            "text/plain": [
              "     Sex  GHE code                                       GeneralCause  \\\n",
              "0  Males        30  Communicable, maternal, perinatal and nutritio...   \n",
              "1  Males        50  Communicable, maternal, perinatal and nutritio...   \n",
              "2  Males        60  Communicable, maternal, perinatal and nutritio...   \n",
              "3  Males        70  Communicable, maternal, perinatal and nutritio...   \n",
              "4  Males        80  Communicable, maternal, perinatal and nutritio...   \n",
              "\n",
              "                Disease_AccidentType   SpecificCondition     CauseDetail  \\\n",
              "0  Infectious and parasitic diseases        Tuberculosis         Unknown   \n",
              "1  Infectious and parasitic diseases  STDs excluding HIV        Syphilis   \n",
              "2  Infectious and parasitic diseases  STDs excluding HIV       Chlamydia   \n",
              "3  Infectious and parasitic diseases  STDs excluding HIV      Gonorrhoea   \n",
              "4  Infectious and parasitic diseases  STDs excluding HIV  Trichomoniasis   \n",
              "\n",
              "       Country   Deaths  \n",
              "0  Afghanistan      4.5  \n",
              "1  Afghanistan      0.1  \n",
              "2  Afghanistan  Unknown  \n",
              "3  Afghanistan      0.0  \n",
              "4  Afghanistan  Unknown  "
            ]
          },
          "execution_count": 14,
          "metadata": {},
          "output_type": "execute_result"
        }
      ],
      "source": [
        "# Reshape the DataFrame\n",
        "reshaped_data = data.melt(id_vars=data.columns[:6], var_name='Country', value_name='Deaths')\n",
        "\n",
        "# Display the first few rows of the reshaped DataFrame\n",
        "reshaped_data.head()"
      ]
    },
    {
      "cell_type": "markdown",
      "id": "5204e6de-afc8-47fd-9476-3a7e61a2ec71",
      "metadata": {
        "noteable": {
          "cell_type": "markdown"
        }
      },
      "source": [
        "The DataFrame has been reshaped so that there is now a single 'Country' column and a 'Deaths' column. Each row now represents the number of deaths for a specific condition in a specific country. This format will make it easier to perform analyses that involve comparing or grouping countries."
      ]
    },
    {
      "cell_type": "code",
      "execution_count": 15,
      "id": "8707341e-6ed7-404b-8938-3dd9f4334b66",
      "metadata": {
        "ExecuteTime": {
          "end_time": "2023-08-04T02:42:32.323474+00:00",
          "start_time": "2023-08-04T02:42:32.163679+00:00"
        },
        "noteable": {
          "cell_type": "code",
          "output_collection_id": "9ff7af8f-65e4-4c56-89c9-e3effb8a81aa"
        }
      },
      "outputs": [
        {
          "data": {
            "text/plain": [
              "62220"
            ]
          },
          "execution_count": 15,
          "metadata": {},
          "output_type": "execute_result"
        }
      ],
      "source": [
        "# Get the number of records in the reshaped DataFrame\n",
        "num_records = reshaped_data.shape[0]\n",
        "num_records"
      ]
    },
    {
      "cell_type": "markdown",
      "id": "9116eb1c-b1b3-479e-a446-06fbd3a2e198",
      "metadata": {
        "noteable": {
          "cell_type": "markdown"
        }
      },
      "source": [
        "The reshaped DataFrame contains 62,220 records."
      ]
    },
    {
      "cell_type": "code",
      "execution_count": 16,
      "id": "88ae2d0a-e89a-489f-8475-73748e2c2dcd",
      "metadata": {
        "ExecuteTime": {
          "end_time": "2023-08-04T02:42:35.527328+00:00",
          "start_time": "2023-08-04T02:42:35.326213+00:00"
        },
        "datalink": {
          "2640c706-4d91-4bae-b3a3-c04b95deaa78": {
            "applied_filters": [],
            "dataframe_info": {
              "default_index_used": false,
              "orig_num_cols": 1,
              "orig_num_rows": 8,
              "orig_size_bytes": 128,
              "truncated_num_cols": 1,
              "truncated_num_rows": 8,
              "truncated_size_bytes": 128,
              "truncated_string_columns": []
            },
            "display_id": "2640c706-4d91-4bae-b3a3-c04b95deaa78",
            "dx_settings": {
              "ALLOW_NOTEABLE_ATTRS": true,
              "COLUMN_SAMPLING_METHOD": "outer",
              "DB_LOCATION": ":memory:",
              "DEV_MODE": false,
              "DISPLAY_MAX_COLUMNS": 100,
              "DISPLAY_MAX_ROWS": 50000,
              "DISPLAY_MODE": "simple",
              "ENABLE_ASSIGNMENT": true,
              "ENABLE_DATALINK": true,
              "FLATTEN_COLUMN_VALUES": true,
              "FLATTEN_INDEX_VALUES": false,
              "GENERATE_DEX_METADATA": false,
              "HTML_TABLE_SCHEMA": false,
              "LOG_LEVEL": 30,
              "MAX_RENDER_SIZE_BYTES": 104857600,
              "MAX_STRING_LENGTH": 250,
              "NUM_PAST_SAMPLES_TRACKED": 3,
              "RANDOM_STATE": 12648430,
              "RESET_INDEX_VALUES": false,
              "ROW_SAMPLING_METHOD": "random",
              "SAMPLING_FACTOR": 0.1,
              "SAMPLING_METHOD": "random",
              "STRINGIFY_COLUMN_VALUES": true,
              "STRINGIFY_INDEX_VALUES": false
            },
            "sample_history": [],
            "sampling_time": "2023-08-03T16:58:17.419448",
            "user_variable_name": null,
            "variable_name": "unk_dataframe_ead41d854da747d88f0e98403e4d769c"
          },
          "28ce0642-54e8-4c3f-9912-69c18acd668a": {
            "applied_filters": [],
            "dataframe_info": {
              "default_index_used": false,
              "orig_num_cols": 1,
              "orig_num_rows": 8,
              "orig_size_bytes": 128,
              "truncated_num_cols": 1,
              "truncated_num_rows": 8,
              "truncated_size_bytes": 128,
              "truncated_string_columns": []
            },
            "display_id": "28ce0642-54e8-4c3f-9912-69c18acd668a",
            "dx_settings": {
              "ALLOW_NOTEABLE_ATTRS": true,
              "COLUMN_SAMPLING_METHOD": "outer",
              "DB_LOCATION": ":memory:",
              "DEV_MODE": false,
              "DISPLAY_MAX_COLUMNS": 100,
              "DISPLAY_MAX_ROWS": 50000,
              "DISPLAY_MODE": "simple",
              "ENABLE_ASSIGNMENT": true,
              "ENABLE_DATALINK": true,
              "FLATTEN_COLUMN_VALUES": true,
              "FLATTEN_INDEX_VALUES": false,
              "GENERATE_DEX_METADATA": false,
              "HTML_TABLE_SCHEMA": false,
              "LOG_LEVEL": 30,
              "MAX_RENDER_SIZE_BYTES": 104857600,
              "MAX_STRING_LENGTH": 250,
              "NUM_PAST_SAMPLES_TRACKED": 3,
              "RANDOM_STATE": 12648430,
              "RESET_INDEX_VALUES": false,
              "ROW_SAMPLING_METHOD": "random",
              "SAMPLING_FACTOR": 0.1,
              "SAMPLING_METHOD": "random",
              "STRINGIFY_COLUMN_VALUES": true,
              "STRINGIFY_INDEX_VALUES": false
            },
            "sample_history": [],
            "sampling_time": "2023-08-03T20:31:43.351404",
            "user_variable_name": null,
            "variable_name": "unk_dataframe_3ff01d1488cb43ca9590028499714d0f"
          },
          "3b827e6c-0bc4-468f-bd0a-1362d9ffea30": {
            "applied_filters": [],
            "dataframe_info": {
              "default_index_used": false,
              "orig_num_cols": 1,
              "orig_num_rows": 8,
              "orig_size_bytes": 128,
              "truncated_num_cols": 1,
              "truncated_num_rows": 8,
              "truncated_size_bytes": 128,
              "truncated_string_columns": []
            },
            "display_id": "3b827e6c-0bc4-468f-bd0a-1362d9ffea30",
            "dx_settings": {
              "ALLOW_NOTEABLE_ATTRS": true,
              "COLUMN_SAMPLING_METHOD": "outer",
              "DB_LOCATION": ":memory:",
              "DEV_MODE": false,
              "DISPLAY_MAX_COLUMNS": 100,
              "DISPLAY_MAX_ROWS": 50000,
              "DISPLAY_MODE": "simple",
              "ENABLE_ASSIGNMENT": true,
              "ENABLE_DATALINK": true,
              "FLATTEN_COLUMN_VALUES": true,
              "FLATTEN_INDEX_VALUES": false,
              "GENERATE_DEX_METADATA": false,
              "HTML_TABLE_SCHEMA": false,
              "LOG_LEVEL": 30,
              "MAX_RENDER_SIZE_BYTES": 104857600,
              "MAX_STRING_LENGTH": 250,
              "NUM_PAST_SAMPLES_TRACKED": 3,
              "RANDOM_STATE": 12648430,
              "RESET_INDEX_VALUES": false,
              "ROW_SAMPLING_METHOD": "random",
              "SAMPLING_FACTOR": 0.1,
              "SAMPLING_METHOD": "random",
              "STRINGIFY_COLUMN_VALUES": true,
              "STRINGIFY_INDEX_VALUES": false
            },
            "sample_history": [],
            "sampling_time": "2023-07-25T17:26:47.508475",
            "user_variable_name": null,
            "variable_name": "unk_dataframe_419bc432545746faa6c959c4642d4c51"
          },
          "566d04ad-1053-4945-8626-b9d47e6bf714": {
            "applied_filters": [],
            "dataframe_info": {
              "default_index_used": false,
              "orig_num_cols": 1,
              "orig_num_rows": 8,
              "orig_size_bytes": 128,
              "truncated_num_cols": 1,
              "truncated_num_rows": 8,
              "truncated_size_bytes": 128,
              "truncated_string_columns": []
            },
            "display_id": "566d04ad-1053-4945-8626-b9d47e6bf714",
            "dx_settings": {
              "ALLOW_NOTEABLE_ATTRS": true,
              "COLUMN_SAMPLING_METHOD": "outer",
              "DB_LOCATION": ":memory:",
              "DEV_MODE": false,
              "DISPLAY_MAX_COLUMNS": 100,
              "DISPLAY_MAX_ROWS": 50000,
              "DISPLAY_MODE": "simple",
              "ENABLE_ASSIGNMENT": true,
              "ENABLE_DATALINK": true,
              "FLATTEN_COLUMN_VALUES": true,
              "FLATTEN_INDEX_VALUES": false,
              "GENERATE_DEX_METADATA": false,
              "HTML_TABLE_SCHEMA": false,
              "LOG_LEVEL": 30,
              "MAX_RENDER_SIZE_BYTES": 104857600,
              "MAX_STRING_LENGTH": 250,
              "NUM_PAST_SAMPLES_TRACKED": 3,
              "RANDOM_STATE": 12648430,
              "RESET_INDEX_VALUES": false,
              "ROW_SAMPLING_METHOD": "random",
              "SAMPLING_FACTOR": 0.1,
              "SAMPLING_METHOD": "random",
              "STRINGIFY_COLUMN_VALUES": true,
              "STRINGIFY_INDEX_VALUES": false
            },
            "sample_history": [],
            "sampling_time": "2023-07-25T06:34:33.842460",
            "user_variable_name": null,
            "variable_name": "unk_dataframe_8a614c862e164d8ab9589982343f8607"
          },
          "66c7c853-eb4b-480f-bdec-5dce8b4af2f0": {
            "applied_filters": [],
            "dataframe_info": {
              "default_index_used": false,
              "orig_num_cols": 1,
              "orig_num_rows": 8,
              "orig_size_bytes": 128,
              "truncated_num_cols": 1,
              "truncated_num_rows": 8,
              "truncated_size_bytes": 128,
              "truncated_string_columns": []
            },
            "display_id": "66c7c853-eb4b-480f-bdec-5dce8b4af2f0",
            "dx_settings": {
              "ALLOW_NOTEABLE_ATTRS": true,
              "COLUMN_SAMPLING_METHOD": "outer",
              "DB_LOCATION": ":memory:",
              "DEV_MODE": false,
              "DISPLAY_MAX_COLUMNS": 100,
              "DISPLAY_MAX_ROWS": 50000,
              "DISPLAY_MODE": "simple",
              "ENABLE_ASSIGNMENT": true,
              "ENABLE_DATALINK": true,
              "FLATTEN_COLUMN_VALUES": true,
              "FLATTEN_INDEX_VALUES": false,
              "GENERATE_DEX_METADATA": false,
              "HTML_TABLE_SCHEMA": false,
              "LOG_LEVEL": 30,
              "MAX_RENDER_SIZE_BYTES": 104857600,
              "MAX_STRING_LENGTH": 250,
              "NUM_PAST_SAMPLES_TRACKED": 3,
              "RANDOM_STATE": 12648430,
              "RESET_INDEX_VALUES": false,
              "ROW_SAMPLING_METHOD": "random",
              "SAMPLING_FACTOR": 0.1,
              "SAMPLING_METHOD": "random",
              "STRINGIFY_COLUMN_VALUES": true,
              "STRINGIFY_INDEX_VALUES": false
            },
            "sample_history": [],
            "sampling_time": "2023-07-28T00:58:16.099604",
            "user_variable_name": null,
            "variable_name": "unk_dataframe_ae94765844c24b798f8c4d94be6063f2"
          },
          "c2f9d8ec-59a0-456d-9af1-8f89a2de012d": {
            "applied_filters": [],
            "dataframe_info": {
              "default_index_used": false,
              "orig_num_cols": 1,
              "orig_num_rows": 8,
              "orig_size_bytes": 128,
              "truncated_num_cols": 1,
              "truncated_num_rows": 8,
              "truncated_size_bytes": 128,
              "truncated_string_columns": []
            },
            "display_id": "c2f9d8ec-59a0-456d-9af1-8f89a2de012d",
            "dx_settings": {
              "ALLOW_NOTEABLE_ATTRS": true,
              "COLUMN_SAMPLING_METHOD": "outer",
              "DB_LOCATION": ":memory:",
              "DEV_MODE": false,
              "DISPLAY_MAX_COLUMNS": 100,
              "DISPLAY_MAX_ROWS": 50000,
              "DISPLAY_MODE": "simple",
              "ENABLE_ASSIGNMENT": true,
              "ENABLE_DATALINK": true,
              "FLATTEN_COLUMN_VALUES": true,
              "FLATTEN_INDEX_VALUES": false,
              "GENERATE_DEX_METADATA": false,
              "HTML_TABLE_SCHEMA": false,
              "LOG_LEVEL": 30,
              "MAX_RENDER_SIZE_BYTES": 104857600,
              "MAX_STRING_LENGTH": 250,
              "NUM_PAST_SAMPLES_TRACKED": 3,
              "RANDOM_STATE": 12648430,
              "RESET_INDEX_VALUES": false,
              "ROW_SAMPLING_METHOD": "random",
              "SAMPLING_FACTOR": 0.1,
              "SAMPLING_METHOD": "random",
              "STRINGIFY_COLUMN_VALUES": true,
              "STRINGIFY_INDEX_VALUES": false
            },
            "sample_history": [],
            "sampling_time": "2023-08-04T02:42:35.371469",
            "user_variable_name": null,
            "variable_name": "unk_dataframe_34f99718d11e4cf697a5984c5f8e45ac"
          },
          "e3905ae8-dd10-4640-b04b-d4b20a2278c2": {
            "applied_filters": [],
            "dataframe_info": {
              "default_index_used": false,
              "orig_num_cols": 1,
              "orig_num_rows": 8,
              "orig_size_bytes": 128,
              "truncated_num_cols": 1,
              "truncated_num_rows": 8,
              "truncated_size_bytes": 128,
              "truncated_string_columns": []
            },
            "display_id": "e3905ae8-dd10-4640-b04b-d4b20a2278c2",
            "dx_settings": {
              "ALLOW_NOTEABLE_ATTRS": true,
              "COLUMN_SAMPLING_METHOD": "outer",
              "DB_LOCATION": ":memory:",
              "DEV_MODE": false,
              "DISPLAY_MAX_COLUMNS": 100,
              "DISPLAY_MAX_ROWS": 50000,
              "DISPLAY_MODE": "simple",
              "ENABLE_ASSIGNMENT": true,
              "ENABLE_DATALINK": true,
              "FLATTEN_COLUMN_VALUES": true,
              "FLATTEN_INDEX_VALUES": false,
              "GENERATE_DEX_METADATA": false,
              "HTML_TABLE_SCHEMA": false,
              "LOG_LEVEL": 30,
              "MAX_RENDER_SIZE_BYTES": 104857600,
              "MAX_STRING_LENGTH": 250,
              "NUM_PAST_SAMPLES_TRACKED": 3,
              "RANDOM_STATE": 12648430,
              "RESET_INDEX_VALUES": false,
              "ROW_SAMPLING_METHOD": "random",
              "SAMPLING_FACTOR": 0.1,
              "SAMPLING_METHOD": "random",
              "STRINGIFY_COLUMN_VALUES": true,
              "STRINGIFY_INDEX_VALUES": false
            },
            "sample_history": [],
            "sampling_time": "2023-08-03T16:58:10.077993",
            "user_variable_name": null,
            "variable_name": "unk_dataframe_97578dedf2db4a06b9a636d3b9282d2a"
          },
          "eba75b05-b7fe-4c4e-b7c3-33f7bf088a3b": {
            "applied_filters": [],
            "dataframe_info": {
              "default_index_used": false,
              "orig_num_cols": 1,
              "orig_num_rows": 8,
              "orig_size_bytes": 128,
              "truncated_num_cols": 1,
              "truncated_num_rows": 8,
              "truncated_size_bytes": 128,
              "truncated_string_columns": []
            },
            "display_id": "eba75b05-b7fe-4c4e-b7c3-33f7bf088a3b",
            "dx_settings": {
              "ALLOW_NOTEABLE_ATTRS": true,
              "COLUMN_SAMPLING_METHOD": "outer",
              "DB_LOCATION": ":memory:",
              "DEV_MODE": false,
              "DISPLAY_MAX_COLUMNS": 100,
              "DISPLAY_MAX_ROWS": 50000,
              "DISPLAY_MODE": "simple",
              "ENABLE_ASSIGNMENT": true,
              "ENABLE_DATALINK": true,
              "FLATTEN_COLUMN_VALUES": true,
              "FLATTEN_INDEX_VALUES": false,
              "GENERATE_DEX_METADATA": false,
              "HTML_TABLE_SCHEMA": false,
              "LOG_LEVEL": 30,
              "MAX_RENDER_SIZE_BYTES": 104857600,
              "MAX_STRING_LENGTH": 250,
              "NUM_PAST_SAMPLES_TRACKED": 3,
              "RANDOM_STATE": 12648430,
              "RESET_INDEX_VALUES": false,
              "ROW_SAMPLING_METHOD": "random",
              "SAMPLING_FACTOR": 0.1,
              "SAMPLING_METHOD": "random",
              "STRINGIFY_COLUMN_VALUES": true,
              "STRINGIFY_INDEX_VALUES": false
            },
            "sample_history": [],
            "sampling_time": "2023-07-27T18:28:45.941787",
            "user_variable_name": null,
            "variable_name": "unk_dataframe_e3d988c337164161ad3d376b9c63bffc"
          }
        },
        "noteable": {
          "cell_type": "code",
          "output_collection_id": "4bc4e386-2026-4e43-8e39-98f985348909"
        }
      },
      "outputs": [
        {
          "data": {
            "text/plain": [
              "Sex                     object\n",
              "GHE code                 int64\n",
              "GeneralCause            object\n",
              "Disease_AccidentType    object\n",
              "SpecificCondition       object\n",
              "CauseDetail             object\n",
              "Country                 object\n",
              "Deaths                  object\n",
              "dtype: object"
            ]
          },
          "execution_count": 16,
          "metadata": {},
          "output_type": "execute_result"
        }
      ],
      "source": [
        "# Get the data types of the columns in the reshaped DataFrame\n",
        "reshaped_data.dtypes"
      ]
    },
    {
      "cell_type": "markdown",
      "id": "dd441687-114c-484c-a03a-ce08a961d701",
      "metadata": {
        "noteable": {
          "cell_type": "markdown"
        }
      },
      "source": [
        "The data types of the columns in the reshaped DataFrame are as follows:\n",
        "\n",
        "- 'Sex': object (string)\n",
        "- 'GHE code': int64\n",
        "- 'GeneralCause': object (string)\n",
        "- 'Disease_AccidentType': object (string)\n",
        "- 'SpecificCondition': object (string)\n",
        "- 'CauseDetail': object (string)\n",
        "- 'Country': object (string)\n",
        "- 'Deaths': object (string)\n",
        "\n",
        "The 'Deaths' column should be a numerical data type (int or float) since it represents the number of deaths. Let's convert this column to a numerical data type."
      ]
    },
    {
      "cell_type": "code",
      "execution_count": 17,
      "id": "9918c7c4-91d6-4db4-b9f9-cb8a290d64cc",
      "metadata": {
        "ExecuteTime": {
          "end_time": "2023-08-04T02:46:04.191421+00:00",
          "start_time": "2023-08-04T02:46:03.980779+00:00"
        },
        "datalink": {
          "292da06c-34bc-4bb0-a337-863dd37e2bd4": {
            "applied_filters": [],
            "dataframe_info": {
              "default_index_used": false,
              "orig_num_cols": 1,
              "orig_num_rows": 9,
              "orig_size_bytes": 144,
              "truncated_num_cols": 1,
              "truncated_num_rows": 9,
              "truncated_size_bytes": 144,
              "truncated_string_columns": []
            },
            "display_id": "292da06c-34bc-4bb0-a337-863dd37e2bd4",
            "dx_settings": {
              "ALLOW_NOTEABLE_ATTRS": true,
              "COLUMN_SAMPLING_METHOD": "outer",
              "DB_LOCATION": ":memory:",
              "DEV_MODE": false,
              "DISPLAY_MAX_COLUMNS": 100,
              "DISPLAY_MAX_ROWS": 50000,
              "DISPLAY_MODE": "simple",
              "ENABLE_ASSIGNMENT": true,
              "ENABLE_DATALINK": true,
              "FLATTEN_COLUMN_VALUES": true,
              "FLATTEN_INDEX_VALUES": false,
              "GENERATE_DEX_METADATA": false,
              "HTML_TABLE_SCHEMA": false,
              "LOG_LEVEL": 30,
              "MAX_RENDER_SIZE_BYTES": 104857600,
              "MAX_STRING_LENGTH": 250,
              "NUM_PAST_SAMPLES_TRACKED": 3,
              "RANDOM_STATE": 12648430,
              "RESET_INDEX_VALUES": false,
              "ROW_SAMPLING_METHOD": "random",
              "SAMPLING_FACTOR": 0.1,
              "SAMPLING_METHOD": "random",
              "STRINGIFY_COLUMN_VALUES": true,
              "STRINGIFY_INDEX_VALUES": false
            },
            "sample_history": [],
            "sampling_time": "2023-08-04T02:45:30.643013",
            "user_variable_name": null,
            "variable_name": "unk_dataframe_6608a2f171714c2a811e3695228fb183"
          },
          "480928ac-90a8-4c3a-8962-4b6dfc7a0e76": {
            "applied_filters": [],
            "dataframe_info": {
              "default_index_used": false,
              "orig_num_cols": 1,
              "orig_num_rows": 8,
              "orig_size_bytes": 128,
              "truncated_num_cols": 1,
              "truncated_num_rows": 8,
              "truncated_size_bytes": 128,
              "truncated_string_columns": []
            },
            "display_id": "480928ac-90a8-4c3a-8962-4b6dfc7a0e76",
            "dx_settings": {
              "ALLOW_NOTEABLE_ATTRS": true,
              "COLUMN_SAMPLING_METHOD": "outer",
              "DB_LOCATION": ":memory:",
              "DEV_MODE": false,
              "DISPLAY_MAX_COLUMNS": 100,
              "DISPLAY_MAX_ROWS": 50000,
              "DISPLAY_MODE": "simple",
              "ENABLE_ASSIGNMENT": true,
              "ENABLE_DATALINK": true,
              "FLATTEN_COLUMN_VALUES": true,
              "FLATTEN_INDEX_VALUES": false,
              "GENERATE_DEX_METADATA": false,
              "HTML_TABLE_SCHEMA": false,
              "LOG_LEVEL": 30,
              "MAX_RENDER_SIZE_BYTES": 104857600,
              "MAX_STRING_LENGTH": 250,
              "NUM_PAST_SAMPLES_TRACKED": 3,
              "RANDOM_STATE": 12648430,
              "RESET_INDEX_VALUES": false,
              "ROW_SAMPLING_METHOD": "random",
              "SAMPLING_FACTOR": 0.1,
              "SAMPLING_METHOD": "random",
              "STRINGIFY_COLUMN_VALUES": true,
              "STRINGIFY_INDEX_VALUES": false
            },
            "sample_history": [],
            "sampling_time": "2023-08-03T16:58:27.379640",
            "user_variable_name": null,
            "variable_name": "unk_dataframe_490ed8b4ff9c4baab3196402e00975f7"
          },
          "4c5d6d55-9141-4fcf-9f92-3ced40f18c60": {
            "applied_filters": [],
            "dataframe_info": {
              "default_index_used": false,
              "orig_num_cols": 1,
              "orig_num_rows": 8,
              "orig_size_bytes": 128,
              "truncated_num_cols": 1,
              "truncated_num_rows": 8,
              "truncated_size_bytes": 128,
              "truncated_string_columns": []
            },
            "display_id": "4c5d6d55-9141-4fcf-9f92-3ced40f18c60",
            "dx_settings": {
              "ALLOW_NOTEABLE_ATTRS": true,
              "COLUMN_SAMPLING_METHOD": "outer",
              "DB_LOCATION": ":memory:",
              "DEV_MODE": false,
              "DISPLAY_MAX_COLUMNS": 100,
              "DISPLAY_MAX_ROWS": 50000,
              "DISPLAY_MODE": "simple",
              "ENABLE_ASSIGNMENT": true,
              "ENABLE_DATALINK": true,
              "FLATTEN_COLUMN_VALUES": true,
              "FLATTEN_INDEX_VALUES": false,
              "GENERATE_DEX_METADATA": false,
              "HTML_TABLE_SCHEMA": false,
              "LOG_LEVEL": 30,
              "MAX_RENDER_SIZE_BYTES": 104857600,
              "MAX_STRING_LENGTH": 250,
              "NUM_PAST_SAMPLES_TRACKED": 3,
              "RANDOM_STATE": 12648430,
              "RESET_INDEX_VALUES": false,
              "ROW_SAMPLING_METHOD": "random",
              "SAMPLING_FACTOR": 0.1,
              "SAMPLING_METHOD": "random",
              "STRINGIFY_COLUMN_VALUES": true,
              "STRINGIFY_INDEX_VALUES": false
            },
            "sample_history": [],
            "sampling_time": "2023-07-25T06:35:19.193133",
            "user_variable_name": null,
            "variable_name": "unk_dataframe_175519c73e824da4bb324ebde7aacff5"
          },
          "6bdcec6a-e938-46cf-8c51-167c067e612f": {
            "applied_filters": [],
            "dataframe_info": {
              "default_index_used": false,
              "orig_num_cols": 1,
              "orig_num_rows": 8,
              "orig_size_bytes": 128,
              "truncated_num_cols": 1,
              "truncated_num_rows": 8,
              "truncated_size_bytes": 128,
              "truncated_string_columns": []
            },
            "display_id": "6bdcec6a-e938-46cf-8c51-167c067e612f",
            "dx_settings": {
              "ALLOW_NOTEABLE_ATTRS": true,
              "COLUMN_SAMPLING_METHOD": "outer",
              "DB_LOCATION": ":memory:",
              "DEV_MODE": false,
              "DISPLAY_MAX_COLUMNS": 100,
              "DISPLAY_MAX_ROWS": 50000,
              "DISPLAY_MODE": "simple",
              "ENABLE_ASSIGNMENT": true,
              "ENABLE_DATALINK": true,
              "FLATTEN_COLUMN_VALUES": true,
              "FLATTEN_INDEX_VALUES": false,
              "GENERATE_DEX_METADATA": false,
              "HTML_TABLE_SCHEMA": false,
              "LOG_LEVEL": 30,
              "MAX_RENDER_SIZE_BYTES": 104857600,
              "MAX_STRING_LENGTH": 250,
              "NUM_PAST_SAMPLES_TRACKED": 3,
              "RANDOM_STATE": 12648430,
              "RESET_INDEX_VALUES": false,
              "ROW_SAMPLING_METHOD": "random",
              "SAMPLING_FACTOR": 0.1,
              "SAMPLING_METHOD": "random",
              "STRINGIFY_COLUMN_VALUES": true,
              "STRINGIFY_INDEX_VALUES": false
            },
            "sample_history": [],
            "sampling_time": "2023-08-03T20:31:43.590594",
            "user_variable_name": null,
            "variable_name": "unk_dataframe_a3b4ca5179c14c49863b0657a32177a4"
          },
          "8b377821-deaa-4bb4-a94e-334d2a8c269b": {
            "applied_filters": [],
            "dataframe_info": {
              "default_index_used": false,
              "orig_num_cols": 1,
              "orig_num_rows": 9,
              "orig_size_bytes": 144,
              "truncated_num_cols": 1,
              "truncated_num_rows": 9,
              "truncated_size_bytes": 144,
              "truncated_string_columns": []
            },
            "display_id": "8b377821-deaa-4bb4-a94e-334d2a8c269b",
            "dx_settings": {
              "ALLOW_NOTEABLE_ATTRS": true,
              "COLUMN_SAMPLING_METHOD": "outer",
              "DB_LOCATION": ":memory:",
              "DEV_MODE": false,
              "DISPLAY_MAX_COLUMNS": 100,
              "DISPLAY_MAX_ROWS": 50000,
              "DISPLAY_MODE": "simple",
              "ENABLE_ASSIGNMENT": true,
              "ENABLE_DATALINK": true,
              "FLATTEN_COLUMN_VALUES": true,
              "FLATTEN_INDEX_VALUES": false,
              "GENERATE_DEX_METADATA": false,
              "HTML_TABLE_SCHEMA": false,
              "LOG_LEVEL": 30,
              "MAX_RENDER_SIZE_BYTES": 104857600,
              "MAX_STRING_LENGTH": 250,
              "NUM_PAST_SAMPLES_TRACKED": 3,
              "RANDOM_STATE": 12648430,
              "RESET_INDEX_VALUES": false,
              "ROW_SAMPLING_METHOD": "random",
              "SAMPLING_FACTOR": 0.1,
              "SAMPLING_METHOD": "random",
              "STRINGIFY_COLUMN_VALUES": true,
              "STRINGIFY_INDEX_VALUES": false
            },
            "sample_history": [],
            "sampling_time": "2023-08-04T02:46:04.034551",
            "user_variable_name": null,
            "variable_name": "unk_dataframe_967d3c8334814235b7c54168ee8f3f77"
          },
          "e7f035ce-f751-4359-b7e1-62fffe46da9d": {
            "applied_filters": [],
            "dataframe_info": {
              "default_index_used": false,
              "orig_num_cols": 1,
              "orig_num_rows": 8,
              "orig_size_bytes": 128,
              "truncated_num_cols": 1,
              "truncated_num_rows": 8,
              "truncated_size_bytes": 128,
              "truncated_string_columns": []
            },
            "display_id": "e7f035ce-f751-4359-b7e1-62fffe46da9d",
            "dx_settings": {
              "ALLOW_NOTEABLE_ATTRS": true,
              "COLUMN_SAMPLING_METHOD": "outer",
              "DB_LOCATION": ":memory:",
              "DEV_MODE": false,
              "DISPLAY_MAX_COLUMNS": 100,
              "DISPLAY_MAX_ROWS": 50000,
              "DISPLAY_MODE": "simple",
              "ENABLE_ASSIGNMENT": true,
              "ENABLE_DATALINK": true,
              "FLATTEN_COLUMN_VALUES": true,
              "FLATTEN_INDEX_VALUES": false,
              "GENERATE_DEX_METADATA": false,
              "HTML_TABLE_SCHEMA": false,
              "LOG_LEVEL": 30,
              "MAX_RENDER_SIZE_BYTES": 104857600,
              "MAX_STRING_LENGTH": 250,
              "NUM_PAST_SAMPLES_TRACKED": 3,
              "RANDOM_STATE": 12648430,
              "RESET_INDEX_VALUES": false,
              "ROW_SAMPLING_METHOD": "random",
              "SAMPLING_FACTOR": 0.1,
              "SAMPLING_METHOD": "random",
              "STRINGIFY_COLUMN_VALUES": true,
              "STRINGIFY_INDEX_VALUES": false
            },
            "sample_history": [],
            "sampling_time": "2023-07-25T17:26:47.761401",
            "user_variable_name": null,
            "variable_name": "unk_dataframe_df136edeb97847e697e421ec708e7f97"
          },
          "ed50894a-fdb1-4f07-be52-6367fd758ee1": {
            "applied_filters": [],
            "dataframe_info": {
              "default_index_used": false,
              "orig_num_cols": 1,
              "orig_num_rows": 8,
              "orig_size_bytes": 128,
              "truncated_num_cols": 1,
              "truncated_num_rows": 8,
              "truncated_size_bytes": 128,
              "truncated_string_columns": []
            },
            "display_id": "ed50894a-fdb1-4f07-be52-6367fd758ee1",
            "dx_settings": {
              "ALLOW_NOTEABLE_ATTRS": true,
              "COLUMN_SAMPLING_METHOD": "outer",
              "DB_LOCATION": ":memory:",
              "DEV_MODE": false,
              "DISPLAY_MAX_COLUMNS": 100,
              "DISPLAY_MAX_ROWS": 50000,
              "DISPLAY_MODE": "simple",
              "ENABLE_ASSIGNMENT": true,
              "ENABLE_DATALINK": true,
              "FLATTEN_COLUMN_VALUES": true,
              "FLATTEN_INDEX_VALUES": false,
              "GENERATE_DEX_METADATA": false,
              "HTML_TABLE_SCHEMA": false,
              "LOG_LEVEL": 30,
              "MAX_RENDER_SIZE_BYTES": 104857600,
              "MAX_STRING_LENGTH": 250,
              "NUM_PAST_SAMPLES_TRACKED": 3,
              "RANDOM_STATE": 12648430,
              "RESET_INDEX_VALUES": false,
              "ROW_SAMPLING_METHOD": "random",
              "SAMPLING_FACTOR": 0.1,
              "SAMPLING_METHOD": "random",
              "STRINGIFY_COLUMN_VALUES": true,
              "STRINGIFY_INDEX_VALUES": false
            },
            "sample_history": [],
            "sampling_time": "2023-07-28T00:58:16.402985",
            "user_variable_name": null,
            "variable_name": "unk_dataframe_734eaa4795294dc497a81ff147579388"
          },
          "ee9cad95-fc4e-4a05-a888-ae09884fc6f3": {
            "applied_filters": [],
            "dataframe_info": {
              "default_index_used": false,
              "orig_num_cols": 1,
              "orig_num_rows": 8,
              "orig_size_bytes": 128,
              "truncated_num_cols": 1,
              "truncated_num_rows": 8,
              "truncated_size_bytes": 128,
              "truncated_string_columns": []
            },
            "display_id": "ee9cad95-fc4e-4a05-a888-ae09884fc6f3",
            "dx_settings": {
              "ALLOW_NOTEABLE_ATTRS": true,
              "COLUMN_SAMPLING_METHOD": "outer",
              "DB_LOCATION": ":memory:",
              "DEV_MODE": false,
              "DISPLAY_MAX_COLUMNS": 100,
              "DISPLAY_MAX_ROWS": 50000,
              "DISPLAY_MODE": "simple",
              "ENABLE_ASSIGNMENT": true,
              "ENABLE_DATALINK": true,
              "FLATTEN_COLUMN_VALUES": true,
              "FLATTEN_INDEX_VALUES": false,
              "GENERATE_DEX_METADATA": false,
              "HTML_TABLE_SCHEMA": false,
              "LOG_LEVEL": 30,
              "MAX_RENDER_SIZE_BYTES": 104857600,
              "MAX_STRING_LENGTH": 250,
              "NUM_PAST_SAMPLES_TRACKED": 3,
              "RANDOM_STATE": 12648430,
              "RESET_INDEX_VALUES": false,
              "ROW_SAMPLING_METHOD": "random",
              "SAMPLING_FACTOR": 0.1,
              "SAMPLING_METHOD": "random",
              "STRINGIFY_COLUMN_VALUES": true,
              "STRINGIFY_INDEX_VALUES": false
            },
            "sample_history": [],
            "sampling_time": "2023-07-27T18:28:46.240970",
            "user_variable_name": null,
            "variable_name": "unk_dataframe_db35920df2e54f2a8afa9c40e9533bd5"
          }
        },
        "noteable": {
          "cell_type": "code",
          "output_collection_id": "dbf537b1-888f-41bb-88a0-9ba4188d2196"
        }
      },
      "outputs": [
        {
          "data": {
            "text/plain": [
              "Sex                      object\n",
              "GHE code                  int64\n",
              "GeneralCause             object\n",
              "Disease_AccidentType     object\n",
              "SpecificCondition        object\n",
              "CauseDetail              object\n",
              "Country                  object\n",
              "Deaths                  float64\n",
              "dtype: object"
            ]
          },
          "execution_count": 17,
          "metadata": {},
          "output_type": "execute_result"
        }
      ],
      "source": [
        "# Convert the 'Deaths' column to a numerical data type\n",
        "reshaped_data['Deaths'] = pd.to_numeric(reshaped_data['Deaths'], errors='coerce')\n",
        "\n",
        "# Check the data types of the columns again to confirm the change\n",
        "reshaped_data.dtypes"
      ]
    },
    {
      "cell_type": "markdown",
      "id": "802d9b14-b857-41ba-9b6c-f3b097e8174f",
      "metadata": {
        "noteable": {
          "cell_type": "markdown"
        }
      },
      "source": [
        "The 'Deaths' column has been  converted to a numerical data type (float64). Now, all columns in the DataFrame have the appropriate data types for analysis."
      ]
    },
    {
      "cell_type": "markdown",
      "id": "acfe9d2d-26de-43c8-9bf8-0e3b91f503df",
      "metadata": {
        "noteable": {
          "cell_type": "markdown"
        }
      },
      "source": [
        "Add a 'Continent' column to the DataFrame.\n",
        "\n",
        "There are Python libraries, such as pycountry_convert, that can convert country names to continent names.\n",
        "\n"
      ]
    },
    {
      "cell_type": "code",
      "execution_count": 18,
      "id": "8b4a8258-8ba0-45ba-bf29-63217a6b422f",
      "metadata": {
        "ExecuteTime": {
          "end_time": "2023-08-04T02:46:18.087632+00:00",
          "start_time": "2023-08-04T02:46:13.087775+00:00"
        },
        "noteable": {
          "cell_type": "code",
          "output_collection_id": "1b0748e0-f88c-472d-afb9-3285896d35bd"
        }
      },
      "outputs": [],
      "source": [
        "# Install the pycountry_convert library\n",
        "!pip install -q pycountry_convert"
      ]
    },
    {
      "cell_type": "code",
      "execution_count": 19,
      "id": "7801e456-2e32-48e2-82cc-bb459403d4b9",
      "metadata": {
        "ExecuteTime": {
          "end_time": "2023-08-04T02:46:20.886090+00:00",
          "start_time": "2023-08-04T02:46:20.570923+00:00"
        },
        "datalink": {
          "203ed58a-029d-40e9-931f-9c4c277cbd9a": {
            "applied_filters": [],
            "dataframe_info": {
              "default_index_used": true,
              "orig_num_cols": 9,
              "orig_num_rows": 5,
              "orig_size_bytes": 400,
              "truncated_num_cols": 9,
              "truncated_num_rows": 5,
              "truncated_size_bytes": 400,
              "truncated_string_columns": []
            },
            "display_id": "203ed58a-029d-40e9-931f-9c4c277cbd9a",
            "dx_settings": {
              "ALLOW_NOTEABLE_ATTRS": true,
              "COLUMN_SAMPLING_METHOD": "outer",
              "DB_LOCATION": ":memory:",
              "DEV_MODE": false,
              "DISPLAY_MAX_COLUMNS": 100,
              "DISPLAY_MAX_ROWS": 50000,
              "DISPLAY_MODE": "simple",
              "ENABLE_ASSIGNMENT": true,
              "ENABLE_DATALINK": true,
              "FLATTEN_COLUMN_VALUES": true,
              "FLATTEN_INDEX_VALUES": false,
              "GENERATE_DEX_METADATA": false,
              "HTML_TABLE_SCHEMA": false,
              "LOG_LEVEL": 30,
              "MAX_RENDER_SIZE_BYTES": 104857600,
              "MAX_STRING_LENGTH": 250,
              "NUM_PAST_SAMPLES_TRACKED": 3,
              "RANDOM_STATE": 12648430,
              "RESET_INDEX_VALUES": false,
              "ROW_SAMPLING_METHOD": "random",
              "SAMPLING_FACTOR": 0.1,
              "SAMPLING_METHOD": "random",
              "STRINGIFY_COLUMN_VALUES": true,
              "STRINGIFY_INDEX_VALUES": false
            },
            "sample_history": [],
            "sampling_time": "2023-08-04T02:42:59.755623",
            "user_variable_name": null,
            "variable_name": "unk_dataframe_80fcb63099ba41db92ec9125594fde5c"
          },
          "6f900487-45fa-4d99-8d6d-96ff45efe489": {
            "applied_filters": [],
            "dataframe_info": {
              "default_index_used": true,
              "orig_num_cols": 9,
              "orig_num_rows": 5,
              "orig_size_bytes": 400,
              "truncated_num_cols": 9,
              "truncated_num_rows": 5,
              "truncated_size_bytes": 400,
              "truncated_string_columns": []
            },
            "display_id": "6f900487-45fa-4d99-8d6d-96ff45efe489",
            "dx_settings": {
              "ALLOW_NOTEABLE_ATTRS": true,
              "COLUMN_SAMPLING_METHOD": "outer",
              "DB_LOCATION": ":memory:",
              "DEV_MODE": false,
              "DISPLAY_MAX_COLUMNS": 100,
              "DISPLAY_MAX_ROWS": 50000,
              "DISPLAY_MODE": "simple",
              "ENABLE_ASSIGNMENT": true,
              "ENABLE_DATALINK": true,
              "FLATTEN_COLUMN_VALUES": true,
              "FLATTEN_INDEX_VALUES": false,
              "GENERATE_DEX_METADATA": false,
              "HTML_TABLE_SCHEMA": false,
              "LOG_LEVEL": 30,
              "MAX_RENDER_SIZE_BYTES": 104857600,
              "MAX_STRING_LENGTH": 250,
              "NUM_PAST_SAMPLES_TRACKED": 3,
              "RANDOM_STATE": 12648430,
              "RESET_INDEX_VALUES": false,
              "ROW_SAMPLING_METHOD": "random",
              "SAMPLING_FACTOR": 0.1,
              "SAMPLING_METHOD": "random",
              "STRINGIFY_COLUMN_VALUES": true,
              "STRINGIFY_INDEX_VALUES": false
            },
            "sample_history": [],
            "sampling_time": "2023-07-25T17:27:06.837584",
            "user_variable_name": null,
            "variable_name": "unk_dataframe_db9ce4d5fd0748309f1e8dfeefd462c2"
          },
          "88fab8c1-b240-4f04-867a-394481c23d2a": {
            "applied_filters": [],
            "dataframe_info": {
              "default_index_used": true,
              "orig_num_cols": 9,
              "orig_num_rows": 5,
              "orig_size_bytes": 400,
              "truncated_num_cols": 9,
              "truncated_num_rows": 5,
              "truncated_size_bytes": 400,
              "truncated_string_columns": []
            },
            "display_id": "88fab8c1-b240-4f04-867a-394481c23d2a",
            "dx_settings": {
              "ALLOW_NOTEABLE_ATTRS": true,
              "COLUMN_SAMPLING_METHOD": "outer",
              "DB_LOCATION": ":memory:",
              "DEV_MODE": false,
              "DISPLAY_MAX_COLUMNS": 100,
              "DISPLAY_MAX_ROWS": 50000,
              "DISPLAY_MODE": "simple",
              "ENABLE_ASSIGNMENT": true,
              "ENABLE_DATALINK": true,
              "FLATTEN_COLUMN_VALUES": true,
              "FLATTEN_INDEX_VALUES": false,
              "GENERATE_DEX_METADATA": false,
              "HTML_TABLE_SCHEMA": false,
              "LOG_LEVEL": 30,
              "MAX_RENDER_SIZE_BYTES": 104857600,
              "MAX_STRING_LENGTH": 250,
              "NUM_PAST_SAMPLES_TRACKED": 3,
              "RANDOM_STATE": 12648430,
              "RESET_INDEX_VALUES": false,
              "ROW_SAMPLING_METHOD": "random",
              "SAMPLING_FACTOR": 0.1,
              "SAMPLING_METHOD": "random",
              "STRINGIFY_COLUMN_VALUES": true,
              "STRINGIFY_INDEX_VALUES": false
            },
            "sample_history": [],
            "sampling_time": "2023-07-25T06:39:00.852911",
            "user_variable_name": null,
            "variable_name": "unk_dataframe_b42b168d66664770b2e17c56d6886c13"
          },
          "89954ee2-c5e8-42b7-8659-6bee68600654": {
            "applied_filters": [],
            "dataframe_info": {
              "default_index_used": true,
              "orig_num_cols": 9,
              "orig_num_rows": 5,
              "orig_size_bytes": 400,
              "truncated_num_cols": 9,
              "truncated_num_rows": 5,
              "truncated_size_bytes": 400,
              "truncated_string_columns": []
            },
            "display_id": "89954ee2-c5e8-42b7-8659-6bee68600654",
            "dx_settings": {
              "ALLOW_NOTEABLE_ATTRS": true,
              "COLUMN_SAMPLING_METHOD": "outer",
              "DB_LOCATION": ":memory:",
              "DEV_MODE": false,
              "DISPLAY_MAX_COLUMNS": 100,
              "DISPLAY_MAX_ROWS": 50000,
              "DISPLAY_MODE": "simple",
              "ENABLE_ASSIGNMENT": true,
              "ENABLE_DATALINK": true,
              "FLATTEN_COLUMN_VALUES": true,
              "FLATTEN_INDEX_VALUES": false,
              "GENERATE_DEX_METADATA": false,
              "HTML_TABLE_SCHEMA": false,
              "LOG_LEVEL": 30,
              "MAX_RENDER_SIZE_BYTES": 104857600,
              "MAX_STRING_LENGTH": 250,
              "NUM_PAST_SAMPLES_TRACKED": 3,
              "RANDOM_STATE": 12648430,
              "RESET_INDEX_VALUES": false,
              "ROW_SAMPLING_METHOD": "random",
              "SAMPLING_FACTOR": 0.1,
              "SAMPLING_METHOD": "random",
              "STRINGIFY_COLUMN_VALUES": true,
              "STRINGIFY_INDEX_VALUES": false
            },
            "sample_history": [],
            "sampling_time": "2023-07-28T00:58:36.009224",
            "user_variable_name": null,
            "variable_name": "unk_dataframe_6065217127e747b1950e07f3480b3b86"
          },
          "ae7cb591-75f2-4d96-b58b-66f7b20820e5": {
            "applied_filters": [],
            "dataframe_info": {
              "default_index_used": true,
              "orig_num_cols": 9,
              "orig_num_rows": 5,
              "orig_size_bytes": 400,
              "truncated_num_cols": 9,
              "truncated_num_rows": 5,
              "truncated_size_bytes": 400,
              "truncated_string_columns": []
            },
            "display_id": "ae7cb591-75f2-4d96-b58b-66f7b20820e5",
            "dx_settings": {
              "ALLOW_NOTEABLE_ATTRS": true,
              "COLUMN_SAMPLING_METHOD": "outer",
              "DB_LOCATION": ":memory:",
              "DEV_MODE": false,
              "DISPLAY_MAX_COLUMNS": 100,
              "DISPLAY_MAX_ROWS": 50000,
              "DISPLAY_MODE": "simple",
              "ENABLE_ASSIGNMENT": true,
              "ENABLE_DATALINK": true,
              "FLATTEN_COLUMN_VALUES": true,
              "FLATTEN_INDEX_VALUES": false,
              "GENERATE_DEX_METADATA": false,
              "HTML_TABLE_SCHEMA": false,
              "LOG_LEVEL": 30,
              "MAX_RENDER_SIZE_BYTES": 104857600,
              "MAX_STRING_LENGTH": 250,
              "NUM_PAST_SAMPLES_TRACKED": 3,
              "RANDOM_STATE": 12648430,
              "RESET_INDEX_VALUES": false,
              "ROW_SAMPLING_METHOD": "random",
              "SAMPLING_FACTOR": 0.1,
              "SAMPLING_METHOD": "random",
              "STRINGIFY_COLUMN_VALUES": true,
              "STRINGIFY_INDEX_VALUES": false
            },
            "sample_history": [],
            "sampling_time": "2023-08-04T02:46:20.728415",
            "user_variable_name": null,
            "variable_name": "unk_dataframe_e5406689eb9a435d936822b4766c0051"
          },
          "b30d0919-95aa-40b9-8384-32ba59689010": {
            "applied_filters": [],
            "dataframe_info": {
              "default_index_used": true,
              "orig_num_cols": 9,
              "orig_num_rows": 5,
              "orig_size_bytes": 400,
              "truncated_num_cols": 9,
              "truncated_num_rows": 5,
              "truncated_size_bytes": 400,
              "truncated_string_columns": []
            },
            "display_id": "b30d0919-95aa-40b9-8384-32ba59689010",
            "dx_settings": {
              "ALLOW_NOTEABLE_ATTRS": true,
              "COLUMN_SAMPLING_METHOD": "outer",
              "DB_LOCATION": ":memory:",
              "DEV_MODE": false,
              "DISPLAY_MAX_COLUMNS": 100,
              "DISPLAY_MAX_ROWS": 50000,
              "DISPLAY_MODE": "simple",
              "ENABLE_ASSIGNMENT": true,
              "ENABLE_DATALINK": true,
              "FLATTEN_COLUMN_VALUES": true,
              "FLATTEN_INDEX_VALUES": false,
              "GENERATE_DEX_METADATA": false,
              "HTML_TABLE_SCHEMA": false,
              "LOG_LEVEL": 30,
              "MAX_RENDER_SIZE_BYTES": 104857600,
              "MAX_STRING_LENGTH": 250,
              "NUM_PAST_SAMPLES_TRACKED": 3,
              "RANDOM_STATE": 12648430,
              "RESET_INDEX_VALUES": false,
              "ROW_SAMPLING_METHOD": "random",
              "SAMPLING_FACTOR": 0.1,
              "SAMPLING_METHOD": "random",
              "STRINGIFY_COLUMN_VALUES": true,
              "STRINGIFY_INDEX_VALUES": false
            },
            "sample_history": [],
            "sampling_time": "2023-07-27T18:29:05.522029",
            "user_variable_name": null,
            "variable_name": "unk_dataframe_84c3cd21b551414fb5ddf87bd5ec71d2"
          },
          "d01ee380-0c48-46d8-9721-d69edddc5161": {
            "applied_filters": [],
            "dataframe_info": {
              "default_index_used": true,
              "orig_num_cols": 9,
              "orig_num_rows": 5,
              "orig_size_bytes": 400,
              "truncated_num_cols": 9,
              "truncated_num_rows": 5,
              "truncated_size_bytes": 400,
              "truncated_string_columns": []
            },
            "display_id": "d01ee380-0c48-46d8-9721-d69edddc5161",
            "dx_settings": {
              "ALLOW_NOTEABLE_ATTRS": true,
              "COLUMN_SAMPLING_METHOD": "outer",
              "DB_LOCATION": ":memory:",
              "DEV_MODE": false,
              "DISPLAY_MAX_COLUMNS": 100,
              "DISPLAY_MAX_ROWS": 50000,
              "DISPLAY_MODE": "simple",
              "ENABLE_ASSIGNMENT": true,
              "ENABLE_DATALINK": true,
              "FLATTEN_COLUMN_VALUES": true,
              "FLATTEN_INDEX_VALUES": false,
              "GENERATE_DEX_METADATA": false,
              "HTML_TABLE_SCHEMA": false,
              "LOG_LEVEL": 30,
              "MAX_RENDER_SIZE_BYTES": 104857600,
              "MAX_STRING_LENGTH": 250,
              "NUM_PAST_SAMPLES_TRACKED": 3,
              "RANDOM_STATE": 12648430,
              "RESET_INDEX_VALUES": false,
              "ROW_SAMPLING_METHOD": "random",
              "SAMPLING_FACTOR": 0.1,
              "SAMPLING_METHOD": "random",
              "STRINGIFY_COLUMN_VALUES": true,
              "STRINGIFY_INDEX_VALUES": false
            },
            "sample_history": [],
            "sampling_time": "2023-08-03T16:59:21.162997",
            "user_variable_name": null,
            "variable_name": "unk_dataframe_570d9aaad8434edba2157c91a6da96e5"
          },
          "d5615e2b-204f-40c5-a166-0c680d5458ae": {
            "applied_filters": [],
            "dataframe_info": {
              "default_index_used": true,
              "orig_num_cols": 9,
              "orig_num_rows": 5,
              "orig_size_bytes": 400,
              "truncated_num_cols": 9,
              "truncated_num_rows": 5,
              "truncated_size_bytes": 400,
              "truncated_string_columns": []
            },
            "display_id": "d5615e2b-204f-40c5-a166-0c680d5458ae",
            "dx_settings": {
              "ALLOW_NOTEABLE_ATTRS": true,
              "COLUMN_SAMPLING_METHOD": "outer",
              "DB_LOCATION": ":memory:",
              "DEV_MODE": false,
              "DISPLAY_MAX_COLUMNS": 100,
              "DISPLAY_MAX_ROWS": 50000,
              "DISPLAY_MODE": "simple",
              "ENABLE_ASSIGNMENT": true,
              "ENABLE_DATALINK": true,
              "FLATTEN_COLUMN_VALUES": true,
              "FLATTEN_INDEX_VALUES": false,
              "GENERATE_DEX_METADATA": false,
              "HTML_TABLE_SCHEMA": false,
              "LOG_LEVEL": 30,
              "MAX_RENDER_SIZE_BYTES": 104857600,
              "MAX_STRING_LENGTH": 250,
              "NUM_PAST_SAMPLES_TRACKED": 3,
              "RANDOM_STATE": 12648430,
              "RESET_INDEX_VALUES": false,
              "ROW_SAMPLING_METHOD": "random",
              "SAMPLING_FACTOR": 0.1,
              "SAMPLING_METHOD": "random",
              "STRINGIFY_COLUMN_VALUES": true,
              "STRINGIFY_INDEX_VALUES": false
            },
            "sample_history": [],
            "sampling_time": "2023-08-03T20:32:04.078586",
            "user_variable_name": null,
            "variable_name": "unk_dataframe_3a7d0b310124419f8b35b206a8283711"
          },
          "dd87244c-66a8-48d2-b84c-8fdcb20cf7db": {
            "applied_filters": [],
            "dataframe_info": {
              "default_index_used": true,
              "orig_num_cols": 9,
              "orig_num_rows": 5,
              "orig_size_bytes": 400,
              "truncated_num_cols": 9,
              "truncated_num_rows": 5,
              "truncated_size_bytes": 400,
              "truncated_string_columns": []
            },
            "display_id": "dd87244c-66a8-48d2-b84c-8fdcb20cf7db",
            "dx_settings": {
              "ALLOW_NOTEABLE_ATTRS": true,
              "COLUMN_SAMPLING_METHOD": "outer",
              "DB_LOCATION": ":memory:",
              "DEV_MODE": false,
              "DISPLAY_MAX_COLUMNS": 100,
              "DISPLAY_MAX_ROWS": 50000,
              "DISPLAY_MODE": "simple",
              "ENABLE_ASSIGNMENT": true,
              "ENABLE_DATALINK": true,
              "FLATTEN_COLUMN_VALUES": true,
              "FLATTEN_INDEX_VALUES": false,
              "GENERATE_DEX_METADATA": false,
              "HTML_TABLE_SCHEMA": false,
              "LOG_LEVEL": 30,
              "MAX_RENDER_SIZE_BYTES": 104857600,
              "MAX_STRING_LENGTH": 250,
              "NUM_PAST_SAMPLES_TRACKED": 3,
              "RANDOM_STATE": 12648430,
              "RESET_INDEX_VALUES": false,
              "ROW_SAMPLING_METHOD": "random",
              "SAMPLING_FACTOR": 0.1,
              "SAMPLING_METHOD": "random",
              "STRINGIFY_COLUMN_VALUES": true,
              "STRINGIFY_INDEX_VALUES": false
            },
            "sample_history": [],
            "sampling_time": "2023-08-04T02:46:18.303394",
            "user_variable_name": null,
            "variable_name": "unk_dataframe_477b9faea36c4ac193027bdda07f81b4"
          },
          "e7a5bf25-d79c-4ac2-9310-b33c01716a44": {
            "applied_filters": [],
            "dataframe_info": {
              "default_index_used": true,
              "orig_num_cols": 9,
              "orig_num_rows": 5,
              "orig_size_bytes": 400,
              "truncated_num_cols": 9,
              "truncated_num_rows": 5,
              "truncated_size_bytes": 400,
              "truncated_string_columns": []
            },
            "display_id": "e7a5bf25-d79c-4ac2-9310-b33c01716a44",
            "dx_settings": {
              "ALLOW_NOTEABLE_ATTRS": true,
              "COLUMN_SAMPLING_METHOD": "outer",
              "DB_LOCATION": ":memory:",
              "DEV_MODE": false,
              "DISPLAY_MAX_COLUMNS": 100,
              "DISPLAY_MAX_ROWS": 50000,
              "DISPLAY_MODE": "simple",
              "ENABLE_ASSIGNMENT": true,
              "ENABLE_DATALINK": true,
              "FLATTEN_COLUMN_VALUES": true,
              "FLATTEN_INDEX_VALUES": false,
              "GENERATE_DEX_METADATA": false,
              "HTML_TABLE_SCHEMA": false,
              "LOG_LEVEL": 30,
              "MAX_RENDER_SIZE_BYTES": 104857600,
              "MAX_STRING_LENGTH": 250,
              "NUM_PAST_SAMPLES_TRACKED": 3,
              "RANDOM_STATE": 12648430,
              "RESET_INDEX_VALUES": false,
              "ROW_SAMPLING_METHOD": "random",
              "SAMPLING_FACTOR": 0.1,
              "SAMPLING_METHOD": "random",
              "STRINGIFY_COLUMN_VALUES": true,
              "STRINGIFY_INDEX_VALUES": false
            },
            "sample_history": [],
            "sampling_time": "2023-08-04T02:45:22.913328",
            "user_variable_name": null,
            "variable_name": "unk_dataframe_890d276e91524f6cb7902a2221cc9861"
          }
        },
        "noteable": {
          "cell_type": "code",
          "output_collection_id": "d419f2e0-c41d-45a5-8c4b-60e193e976e5"
        }
      },
      "outputs": [
        {
          "data": {
            "text/html": [
              "<div>\n",
              "<style scoped>\n",
              "    .dataframe tbody tr th:only-of-type {\n",
              "        vertical-align: middle;\n",
              "    }\n",
              "\n",
              "    .dataframe tbody tr th {\n",
              "        vertical-align: top;\n",
              "    }\n",
              "\n",
              "    .dataframe thead th {\n",
              "        text-align: right;\n",
              "    }\n",
              "</style>\n",
              "<table border=\"1\" class=\"dataframe\">\n",
              "  <thead>\n",
              "    <tr style=\"text-align: right;\">\n",
              "      <th></th>\n",
              "      <th>Sex</th>\n",
              "      <th>GHE code</th>\n",
              "      <th>GeneralCause</th>\n",
              "      <th>Disease_AccidentType</th>\n",
              "      <th>SpecificCondition</th>\n",
              "      <th>CauseDetail</th>\n",
              "      <th>Country</th>\n",
              "      <th>Deaths</th>\n",
              "      <th>Continent</th>\n",
              "    </tr>\n",
              "  </thead>\n",
              "  <tbody>\n",
              "    <tr>\n",
              "      <th>0</th>\n",
              "      <td>Males</td>\n",
              "      <td>30</td>\n",
              "      <td>Communicable, maternal, perinatal and nutritio...</td>\n",
              "      <td>Infectious and parasitic diseases</td>\n",
              "      <td>Tuberculosis</td>\n",
              "      <td>Unknown</td>\n",
              "      <td>Afghanistan</td>\n",
              "      <td>4.5</td>\n",
              "      <td>AS</td>\n",
              "    </tr>\n",
              "    <tr>\n",
              "      <th>1</th>\n",
              "      <td>Males</td>\n",
              "      <td>50</td>\n",
              "      <td>Communicable, maternal, perinatal and nutritio...</td>\n",
              "      <td>Infectious and parasitic diseases</td>\n",
              "      <td>STDs excluding HIV</td>\n",
              "      <td>Syphilis</td>\n",
              "      <td>Afghanistan</td>\n",
              "      <td>0.1</td>\n",
              "      <td>AS</td>\n",
              "    </tr>\n",
              "    <tr>\n",
              "      <th>2</th>\n",
              "      <td>Males</td>\n",
              "      <td>60</td>\n",
              "      <td>Communicable, maternal, perinatal and nutritio...</td>\n",
              "      <td>Infectious and parasitic diseases</td>\n",
              "      <td>STDs excluding HIV</td>\n",
              "      <td>Chlamydia</td>\n",
              "      <td>Afghanistan</td>\n",
              "      <td>NaN</td>\n",
              "      <td>AS</td>\n",
              "    </tr>\n",
              "    <tr>\n",
              "      <th>3</th>\n",
              "      <td>Males</td>\n",
              "      <td>70</td>\n",
              "      <td>Communicable, maternal, perinatal and nutritio...</td>\n",
              "      <td>Infectious and parasitic diseases</td>\n",
              "      <td>STDs excluding HIV</td>\n",
              "      <td>Gonorrhoea</td>\n",
              "      <td>Afghanistan</td>\n",
              "      <td>0.0</td>\n",
              "      <td>AS</td>\n",
              "    </tr>\n",
              "    <tr>\n",
              "      <th>4</th>\n",
              "      <td>Males</td>\n",
              "      <td>80</td>\n",
              "      <td>Communicable, maternal, perinatal and nutritio...</td>\n",
              "      <td>Infectious and parasitic diseases</td>\n",
              "      <td>STDs excluding HIV</td>\n",
              "      <td>Trichomoniasis</td>\n",
              "      <td>Afghanistan</td>\n",
              "      <td>NaN</td>\n",
              "      <td>AS</td>\n",
              "    </tr>\n",
              "  </tbody>\n",
              "</table>\n",
              "</div>"
            ],
            "text/plain": [
              "     Sex  GHE code                                       GeneralCause  \\\n",
              "0  Males        30  Communicable, maternal, perinatal and nutritio...   \n",
              "1  Males        50  Communicable, maternal, perinatal and nutritio...   \n",
              "2  Males        60  Communicable, maternal, perinatal and nutritio...   \n",
              "3  Males        70  Communicable, maternal, perinatal and nutritio...   \n",
              "4  Males        80  Communicable, maternal, perinatal and nutritio...   \n",
              "\n",
              "                Disease_AccidentType   SpecificCondition     CauseDetail  \\\n",
              "0  Infectious and parasitic diseases        Tuberculosis         Unknown   \n",
              "1  Infectious and parasitic diseases  STDs excluding HIV        Syphilis   \n",
              "2  Infectious and parasitic diseases  STDs excluding HIV       Chlamydia   \n",
              "3  Infectious and parasitic diseases  STDs excluding HIV      Gonorrhoea   \n",
              "4  Infectious and parasitic diseases  STDs excluding HIV  Trichomoniasis   \n",
              "\n",
              "       Country  Deaths Continent  \n",
              "0  Afghanistan     4.5        AS  \n",
              "1  Afghanistan     0.1        AS  \n",
              "2  Afghanistan     NaN        AS  \n",
              "3  Afghanistan     0.0        AS  \n",
              "4  Afghanistan     NaN        AS  "
            ]
          },
          "execution_count": 19,
          "metadata": {},
          "output_type": "execute_result"
        }
      ],
      "source": [
        "# Import the necessary functions from the pycountry_convert library\n",
        "from pycountry_convert import country_alpha2_to_continent_code, country_name_to_country_alpha2\n",
        "\n",
        "# Define a function to map a country name to its continent\n",
        "def country_to_continent(country_name):\n",
        "    try:\n",
        "        # Convert the country name to its 2-letter country code\n",
        "        country_code = country_name_to_country_alpha2(country_name)\n",
        "\n",
        "        # Convert the country code to its continent code\n",
        "        continent_code = country_alpha2_to_continent_code(country_code)\n",
        "        return continent_code\n",
        "    except:\n",
        "        # If the country name is not recognized, return 'Unknown'\n",
        "        return 'Unknown'\n",
        "\n",
        "# Add a 'Continent' column to the DataFrame\n",
        "reshaped_data['Continent'] = reshaped_data['Country'].apply(country_to_continent)\n",
        "\n",
        "# Display the first few rows of the DataFrame\n",
        "reshaped_data.head()"
      ]
    },
    {
      "cell_type": "markdown",
      "id": "03a35d5a-cb65-4b22-b4dc-7edc50b785c8",
      "metadata": {
        "noteable": {
          "cell_type": "markdown"
        }
      },
      "source": [
        "A 'Continent' column has been added to the DataFrame using the pycountry_convert library to map each country to its continent. "
      ]
    },
    {
      "cell_type": "code",
      "execution_count": 20,
      "id": "9f5f6fac-f1df-450c-94ed-1ace11cce2ae",
      "metadata": {
        "ExecuteTime": {
          "end_time": "2023-08-04T02:46:25.786539+00:00",
          "start_time": "2023-08-04T02:46:25.625119+00:00"
        },
        "noteable": {
          "cell_type": "code",
          "output_collection_id": "8e3f8da1-05ec-4f2f-a451-d8ada2713b94"
        }
      },
      "outputs": [
        {
          "data": {
            "text/plain": [
              "0"
            ]
          },
          "execution_count": 20,
          "metadata": {},
          "output_type": "execute_result"
        }
      ],
      "source": [
        "# Fill missing values in the 'Deaths' column with zero\n",
        "reshaped_data['Deaths'] = reshaped_data['Deaths'].fillna(0)\n",
        "\n",
        "# Check if there are still any missing values in the 'Deaths' column\n",
        "reshaped_data['Deaths'].isnull().sum()"
      ]
    },
    {
      "cell_type": "markdown",
      "id": "9ab64dfb-a083-4299-88c5-49035205d690",
      "metadata": {
        "noteable": {
          "cell_type": "markdown"
        }
      },
      "source": [
        "All missing values in the 'Deaths' column have been filled with zero. There are now no missing values in this column."
      ]
    },
    {
      "cell_type": "code",
      "execution_count": 21,
      "id": "51515830-d89a-4133-a0cd-566bfcbbcfe2",
      "metadata": {
        "ExecuteTime": {
          "end_time": "2023-08-04T02:46:30.489439+00:00",
          "start_time": "2023-08-04T02:46:29.890727+00:00"
        },
        "noteable": {
          "cell_type": "code",
          "output_collection_id": "613743fd-6928-4fb8-9d9e-36e5ac12a47a"
        }
      },
      "outputs": [
        {
          "data": {
            "image/png": "[encoded data removed]",
            "text/plain": [
              "<Figure size 1000x600 with 1 Axes>"
            ]
          },
          "metadata": {},
          "output_type": "display_data"
        }
      ],
      "source": [
        "# Plot the distribution of the 'Continent' column\n",
        "plt.figure(figsize=(10, 6))\n",
        "sns.countplot(y=reshaped_data['Continent'])\n",
        "plt.title('Distribution of Continents')\n",
        "plt.xlabel('Count')\n",
        "plt.ylabel('Continent')\n",
        "plt.show()"
      ]
    },
    {
      "cell_type": "markdown",
      "id": "96d0c2c3-5c53-4793-a477-2f02e8a8b284",
      "metadata": {
        "noteable": {
          "cell_type": "markdown"
        }
      },
      "source": [
        "The plot above shows the distribution of continents in the dataset. We can see that Africa (AF) and Asia (AS) have the highest counts, followed by Europe (EU), the Americas (NA and SA), and Oceania (OC)."
      ]
    },
    {
      "cell_type": "markdown",
      "id": "fe73d33c-829c-4107-bff2-75f4a80df00d",
      "metadata": {
        "noteable": {
          "cell_type": "markdown"
        }
      },
      "source": [
        "Normalize the data: Due the populations of the countries vary widely, the raw number of deaths may not be the best measure for comparison. We could normalize the number of deaths by the population of each country to get the death rate, which would provide a more fair comparison between countries."
      ]
    },
    {
      "cell_type": "code",
      "execution_count": 22,
      "id": "767f731f-6fbb-488f-80b4-5530aa2d4f0f",
      "metadata": {
        "ExecuteTime": {
          "end_time": "2023-08-04T02:46:36.621946+00:00",
          "start_time": "2023-08-04T02:46:35.737174+00:00"
        },
        "datalink": {
          "02ab0751-48ae-4b43-8992-30cf0d4e8262": {
            "applied_filters": [],
            "dataframe_info": {
              "default_index_used": true,
              "orig_num_cols": 183,
              "orig_num_rows": 1,
              "orig_size_bytes": 1472,
              "truncated_num_cols": 100,
              "truncated_num_rows": 1,
              "truncated_size_bytes": 808,
              "truncated_string_columns": []
            },
            "display_id": "02ab0751-48ae-4b43-8992-30cf0d4e8262",
            "dx_settings": {
              "ALLOW_NOTEABLE_ATTRS": true,
              "COLUMN_SAMPLING_METHOD": "outer",
              "DB_LOCATION": ":memory:",
              "DEV_MODE": false,
              "DISPLAY_MAX_COLUMNS": 100,
              "DISPLAY_MAX_ROWS": 50000,
              "DISPLAY_MODE": "simple",
              "ENABLE_ASSIGNMENT": true,
              "ENABLE_DATALINK": true,
              "FLATTEN_COLUMN_VALUES": true,
              "FLATTEN_INDEX_VALUES": false,
              "GENERATE_DEX_METADATA": false,
              "HTML_TABLE_SCHEMA": false,
              "LOG_LEVEL": 30,
              "MAX_RENDER_SIZE_BYTES": 104857600,
              "MAX_STRING_LENGTH": 250,
              "NUM_PAST_SAMPLES_TRACKED": 3,
              "RANDOM_STATE": 12648430,
              "RESET_INDEX_VALUES": false,
              "ROW_SAMPLING_METHOD": "random",
              "SAMPLING_FACTOR": 0.1,
              "SAMPLING_METHOD": "random",
              "STRINGIFY_COLUMN_VALUES": true,
              "STRINGIFY_INDEX_VALUES": false
            },
            "sample_history": [],
            "sampling_time": "2023-07-28T00:58:38.131024",
            "user_variable_name": "population_data",
            "variable_name": "population_data"
          },
          "13020e7f-e6c2-4da3-bac1-720b0c9082b4": {
            "applied_filters": [],
            "dataframe_info": {
              "default_index_used": true,
              "orig_num_cols": 183,
              "orig_num_rows": 1,
              "orig_size_bytes": 1472,
              "truncated_num_cols": 100,
              "truncated_num_rows": 1,
              "truncated_size_bytes": 808,
              "truncated_string_columns": []
            },
            "display_id": "13020e7f-e6c2-4da3-bac1-720b0c9082b4",
            "dx_settings": {
              "ALLOW_NOTEABLE_ATTRS": true,
              "COLUMN_SAMPLING_METHOD": "outer",
              "DB_LOCATION": ":memory:",
              "DEV_MODE": false,
              "DISPLAY_MAX_COLUMNS": 100,
              "DISPLAY_MAX_ROWS": 50000,
              "DISPLAY_MODE": "simple",
              "ENABLE_ASSIGNMENT": true,
              "ENABLE_DATALINK": true,
              "FLATTEN_COLUMN_VALUES": true,
              "FLATTEN_INDEX_VALUES": false,
              "GENERATE_DEX_METADATA": false,
              "HTML_TABLE_SCHEMA": false,
              "LOG_LEVEL": 30,
              "MAX_RENDER_SIZE_BYTES": 104857600,
              "MAX_STRING_LENGTH": 250,
              "NUM_PAST_SAMPLES_TRACKED": 3,
              "RANDOM_STATE": 12648430,
              "RESET_INDEX_VALUES": false,
              "ROW_SAMPLING_METHOD": "random",
              "SAMPLING_FACTOR": 0.1,
              "SAMPLING_METHOD": "random",
              "STRINGIFY_COLUMN_VALUES": true,
              "STRINGIFY_INDEX_VALUES": false
            },
            "sample_history": [],
            "sampling_time": "2023-08-04T02:46:36.435346",
            "user_variable_name": "population_data",
            "variable_name": "population_data"
          },
          "13135e22-818e-43a9-8b85-67181ebe051a": {
            "applied_filters": [],
            "dataframe_info": {
              "default_index_used": true,
              "orig_num_cols": 183,
              "orig_num_rows": 1,
              "orig_size_bytes": 1472,
              "truncated_num_cols": 100,
              "truncated_num_rows": 1,
              "truncated_size_bytes": 808,
              "truncated_string_columns": []
            },
            "display_id": "13135e22-818e-43a9-8b85-67181ebe051a",
            "dx_settings": {
              "ALLOW_NOTEABLE_ATTRS": true,
              "COLUMN_SAMPLING_METHOD": "outer",
              "DB_LOCATION": ":memory:",
              "DEV_MODE": false,
              "DISPLAY_MAX_COLUMNS": 100,
              "DISPLAY_MAX_ROWS": 50000,
              "DISPLAY_MODE": "simple",
              "ENABLE_ASSIGNMENT": true,
              "ENABLE_DATALINK": true,
              "FLATTEN_COLUMN_VALUES": true,
              "FLATTEN_INDEX_VALUES": false,
              "GENERATE_DEX_METADATA": false,
              "HTML_TABLE_SCHEMA": false,
              "LOG_LEVEL": 30,
              "MAX_RENDER_SIZE_BYTES": 104857600,
              "MAX_STRING_LENGTH": 250,
              "NUM_PAST_SAMPLES_TRACKED": 3,
              "RANDOM_STATE": 12648430,
              "RESET_INDEX_VALUES": false,
              "ROW_SAMPLING_METHOD": "random",
              "SAMPLING_FACTOR": 0.1,
              "SAMPLING_METHOD": "random",
              "STRINGIFY_COLUMN_VALUES": true,
              "STRINGIFY_INDEX_VALUES": false
            },
            "sample_history": [],
            "sampling_time": "2023-07-25T17:27:09.502198",
            "user_variable_name": "population_data",
            "variable_name": "population_data"
          },
          "65e97d9b-c8b1-437b-855e-d2cd3bf91d0f": {
            "applied_filters": [],
            "dataframe_info": {
              "default_index_used": true,
              "orig_num_cols": 183,
              "orig_num_rows": 1,
              "orig_size_bytes": 1472,
              "truncated_num_cols": 100,
              "truncated_num_rows": 1,
              "truncated_size_bytes": 808,
              "truncated_string_columns": []
            },
            "display_id": "65e97d9b-c8b1-437b-855e-d2cd3bf91d0f",
            "dx_settings": {
              "ALLOW_NOTEABLE_ATTRS": true,
              "COLUMN_SAMPLING_METHOD": "outer",
              "DB_LOCATION": ":memory:",
              "DEV_MODE": false,
              "DISPLAY_MAX_COLUMNS": 100,
              "DISPLAY_MAX_ROWS": 50000,
              "DISPLAY_MODE": "simple",
              "ENABLE_ASSIGNMENT": true,
              "ENABLE_DATALINK": true,
              "FLATTEN_COLUMN_VALUES": true,
              "FLATTEN_INDEX_VALUES": false,
              "GENERATE_DEX_METADATA": false,
              "HTML_TABLE_SCHEMA": false,
              "LOG_LEVEL": 30,
              "MAX_RENDER_SIZE_BYTES": 104857600,
              "MAX_STRING_LENGTH": 250,
              "NUM_PAST_SAMPLES_TRACKED": 3,
              "RANDOM_STATE": 12648430,
              "RESET_INDEX_VALUES": false,
              "ROW_SAMPLING_METHOD": "random",
              "SAMPLING_FACTOR": 0.1,
              "SAMPLING_METHOD": "random",
              "STRINGIFY_COLUMN_VALUES": true,
              "STRINGIFY_INDEX_VALUES": false
            },
            "sample_history": [],
            "sampling_time": "2023-08-03T17:00:20.197884",
            "user_variable_name": "population_data",
            "variable_name": "population_data"
          },
          "82ad3dcf-874d-4af6-9735-bc48f2fbe9a2": {
            "applied_filters": [],
            "dataframe_info": {
              "default_index_used": true,
              "orig_num_cols": 183,
              "orig_num_rows": 1,
              "orig_size_bytes": 1472,
              "truncated_num_cols": 100,
              "truncated_num_rows": 1,
              "truncated_size_bytes": 808,
              "truncated_string_columns": []
            },
            "display_id": "82ad3dcf-874d-4af6-9735-bc48f2fbe9a2",
            "dx_settings": {
              "ALLOW_NOTEABLE_ATTRS": true,
              "COLUMN_SAMPLING_METHOD": "outer",
              "DB_LOCATION": ":memory:",
              "DEV_MODE": false,
              "DISPLAY_MAX_COLUMNS": 100,
              "DISPLAY_MAX_ROWS": 50000,
              "DISPLAY_MODE": "simple",
              "ENABLE_ASSIGNMENT": true,
              "ENABLE_DATALINK": true,
              "FLATTEN_COLUMN_VALUES": true,
              "FLATTEN_INDEX_VALUES": false,
              "GENERATE_DEX_METADATA": false,
              "HTML_TABLE_SCHEMA": false,
              "LOG_LEVEL": 30,
              "MAX_RENDER_SIZE_BYTES": 104857600,
              "MAX_STRING_LENGTH": 250,
              "NUM_PAST_SAMPLES_TRACKED": 3,
              "RANDOM_STATE": 12648430,
              "RESET_INDEX_VALUES": false,
              "ROW_SAMPLING_METHOD": "random",
              "SAMPLING_FACTOR": 0.1,
              "SAMPLING_METHOD": "random",
              "STRINGIFY_COLUMN_VALUES": true,
              "STRINGIFY_INDEX_VALUES": false
            },
            "sample_history": [],
            "sampling_time": "2023-08-03T20:32:06.409532",
            "user_variable_name": "population_data",
            "variable_name": "population_data"
          },
          "92d69b3c-ed92-43a0-a9ed-cd70c9a395c6": {
            "applied_filters": [],
            "dataframe_info": {
              "default_index_used": true,
              "orig_num_cols": 183,
              "orig_num_rows": 1,
              "orig_size_bytes": 1472,
              "truncated_num_cols": 100,
              "truncated_num_rows": 1,
              "truncated_size_bytes": 808,
              "truncated_string_columns": []
            },
            "display_id": "92d69b3c-ed92-43a0-a9ed-cd70c9a395c6",
            "dx_settings": {
              "ALLOW_NOTEABLE_ATTRS": true,
              "COLUMN_SAMPLING_METHOD": "outer",
              "DB_LOCATION": ":memory:",
              "DEV_MODE": false,
              "DISPLAY_MAX_COLUMNS": 100,
              "DISPLAY_MAX_ROWS": 50000,
              "DISPLAY_MODE": "simple",
              "ENABLE_ASSIGNMENT": true,
              "ENABLE_DATALINK": true,
              "FLATTEN_COLUMN_VALUES": true,
              "FLATTEN_INDEX_VALUES": false,
              "GENERATE_DEX_METADATA": false,
              "HTML_TABLE_SCHEMA": false,
              "LOG_LEVEL": 30,
              "MAX_RENDER_SIZE_BYTES": 104857600,
              "MAX_STRING_LENGTH": 250,
              "NUM_PAST_SAMPLES_TRACKED": 3,
              "RANDOM_STATE": 12648430,
              "RESET_INDEX_VALUES": false,
              "ROW_SAMPLING_METHOD": "random",
              "SAMPLING_FACTOR": 0.1,
              "SAMPLING_METHOD": "random",
              "STRINGIFY_COLUMN_VALUES": true,
              "STRINGIFY_INDEX_VALUES": false
            },
            "sample_history": [],
            "sampling_time": "2023-07-27T18:29:07.510066",
            "user_variable_name": "population_data",
            "variable_name": "population_data"
          },
          "94788917-06f0-4a17-ac21-97088cefacfa": {
            "applied_filters": [],
            "dataframe_info": {
              "default_index_used": true,
              "orig_num_cols": 183,
              "orig_num_rows": 1,
              "orig_size_bytes": 1472,
              "truncated_num_cols": 100,
              "truncated_num_rows": 1,
              "truncated_size_bytes": 808,
              "truncated_string_columns": []
            },
            "display_id": "94788917-06f0-4a17-ac21-97088cefacfa",
            "dx_settings": {
              "ALLOW_NOTEABLE_ATTRS": true,
              "COLUMN_SAMPLING_METHOD": "outer",
              "DB_LOCATION": ":memory:",
              "DEV_MODE": false,
              "DISPLAY_MAX_COLUMNS": 100,
              "DISPLAY_MAX_ROWS": 50000,
              "DISPLAY_MODE": "simple",
              "ENABLE_ASSIGNMENT": true,
              "ENABLE_DATALINK": true,
              "FLATTEN_COLUMN_VALUES": true,
              "FLATTEN_INDEX_VALUES": false,
              "GENERATE_DEX_METADATA": false,
              "HTML_TABLE_SCHEMA": false,
              "LOG_LEVEL": 30,
              "MAX_RENDER_SIZE_BYTES": 104857600,
              "MAX_STRING_LENGTH": 250,
              "NUM_PAST_SAMPLES_TRACKED": 3,
              "RANDOM_STATE": 12648430,
              "RESET_INDEX_VALUES": false,
              "ROW_SAMPLING_METHOD": "random",
              "SAMPLING_FACTOR": 0.1,
              "SAMPLING_METHOD": "random",
              "STRINGIFY_COLUMN_VALUES": true,
              "STRINGIFY_INDEX_VALUES": false
            },
            "sample_history": [],
            "sampling_time": "2023-08-04T02:43:17.916912",
            "user_variable_name": "population_data",
            "variable_name": "population_data"
          },
          "fdf6aa72-d9e4-4f42-a206-c9703f1b1ca7": {
            "applied_filters": [],
            "dataframe_info": {
              "default_index_used": true,
              "orig_num_cols": 183,
              "orig_num_rows": 1,
              "orig_size_bytes": 1472,
              "truncated_num_cols": 100,
              "truncated_num_rows": 1,
              "truncated_size_bytes": 808,
              "truncated_string_columns": []
            },
            "display_id": "fdf6aa72-d9e4-4f42-a206-c9703f1b1ca7",
            "dx_settings": {
              "ALLOW_NOTEABLE_ATTRS": true,
              "COLUMN_SAMPLING_METHOD": "outer",
              "DB_LOCATION": ":memory:",
              "DEV_MODE": false,
              "DISPLAY_MAX_COLUMNS": 100,
              "DISPLAY_MAX_ROWS": 50000,
              "DISPLAY_MODE": "simple",
              "ENABLE_ASSIGNMENT": true,
              "ENABLE_DATALINK": true,
              "FLATTEN_COLUMN_VALUES": true,
              "FLATTEN_INDEX_VALUES": false,
              "GENERATE_DEX_METADATA": false,
              "HTML_TABLE_SCHEMA": false,
              "LOG_LEVEL": 30,
              "MAX_RENDER_SIZE_BYTES": 104857600,
              "MAX_STRING_LENGTH": 250,
              "NUM_PAST_SAMPLES_TRACKED": 3,
              "RANDOM_STATE": 12648430,
              "RESET_INDEX_VALUES": false,
              "ROW_SAMPLING_METHOD": "random",
              "SAMPLING_FACTOR": 0.1,
              "SAMPLING_METHOD": "random",
              "STRINGIFY_COLUMN_VALUES": true,
              "STRINGIFY_INDEX_VALUES": false
            },
            "sample_history": [],
            "sampling_time": "2023-07-25T17:17:47.547567",
            "user_variable_name": "population_data",
            "variable_name": "population_data"
          }
        },
        "noteable": {
          "cell_type": "code",
          "output_collection_id": "1d84e66e-812b-4b5b-95c0-589ab124c3a0"
        }
      },
      "outputs": [
        {
          "data": {
            "text/html": [
              "<div>\n",
              "<style scoped>\n",
              "    .dataframe tbody tr th:only-of-type {\n",
              "        vertical-align: middle;\n",
              "    }\n",
              "\n",
              "    .dataframe tbody tr th {\n",
              "        vertical-align: top;\n",
              "    }\n",
              "\n",
              "    .dataframe thead th {\n",
              "        text-align: right;\n",
              "    }\n",
              "</style>\n",
              "<table border=\"1\" class=\"dataframe\">\n",
              "  <thead>\n",
              "    <tr style=\"text-align: right;\">\n",
              "      <th></th>\n",
              "      <th>Afghanistan</th>\n",
              "      <th>Albania</th>\n",
              "      <th>Algeria</th>\n",
              "      <th>Angola</th>\n",
              "      <th>Antigua and Barbuda</th>\n",
              "      <th>Argentina</th>\n",
              "      <th>Armenia</th>\n",
              "      <th>Australia</th>\n",
              "      <th>Austria</th>\n",
              "      <th>Azerbaijan</th>\n",
              "      <th>...</th>\n",
              "      <th>United Republic of Tanzania</th>\n",
              "      <th>United States of America</th>\n",
              "      <th>Uruguay</th>\n",
              "      <th>Uzbekistan</th>\n",
              "      <th>Vanuatu</th>\n",
              "      <th>Venezuela (Bolivarian Republic of)</th>\n",
              "      <th>Viet Nam</th>\n",
              "      <th>Yemen</th>\n",
              "      <th>Zambia</th>\n",
              "      <th>Zimbabwe</th>\n",
              "    </tr>\n",
              "  </thead>\n",
              "  <tbody>\n",
              "    <tr>\n",
              "      <th>0</th>\n",
              "      <td>38,042</td>\n",
              "      <td>2,881</td>\n",
              "      <td>43,053</td>\n",
              "      <td>31,825</td>\n",
              "      <td>97</td>\n",
              "      <td>44,781</td>\n",
              "      <td>2,958</td>\n",
              "      <td>25,203</td>\n",
              "      <td>8,955</td>\n",
              "      <td>10,048</td>\n",
              "      <td>...</td>\n",
              "      <td>58,005</td>\n",
              "      <td>329,065</td>\n",
              "      <td>3,462</td>\n",
              "      <td>32,982</td>\n",
              "      <td>300</td>\n",
              "      <td>28,516</td>\n",
              "      <td>96,462</td>\n",
              "      <td>29,162</td>\n",
              "      <td>17,861</td>\n",
              "      <td>14,645</td>\n",
              "    </tr>\n",
              "  </tbody>\n",
              "</table>\n",
              "<p>1 rows × 183 columns</p>\n",
              "</div>"
            ],
            "text/plain": [
              "  Afghanistan Albania Algeria  Angola  Antigua and Barbuda Argentina Armenia  \\\n",
              "0      38,042   2,881  43,053  31,825                   97    44,781   2,958   \n",
              "\n",
              "  Australia Austria Azerbaijan  ...  United Republic of Tanzania  \\\n",
              "0    25,203   8,955     10,048  ...                       58,005   \n",
              "\n",
              "  United States of America Uruguay  Uzbekistan Vanuatu  \\\n",
              "0                  329,065   3,462      32,982     300   \n",
              "\n",
              "  Venezuela (Bolivarian Republic of)  Viet Nam   Yemen  Zambia Zimbabwe  \n",
              "0                             28,516    96,462  29,162  17,861   14,645  \n",
              "\n",
              "[1 rows x 183 columns]"
            ]
          },
          "execution_count": 22,
          "metadata": {},
          "output_type": "execute_result"
        }
      ],
      "source": [
        "# Load the population data\n",
        "population_data = pd.read_csv('Population2019-country.csv')\n",
        "\n",
        "# Display the first few rows of the DataFrame\n",
        "population_data.head()"
      ]
    },
    {
      "cell_type": "code",
      "execution_count": 23,
      "id": "a5eeee6f-1bdf-4281-b74a-c11542b1d859",
      "metadata": {
        "ExecuteTime": {
          "end_time": "2023-08-04T02:46:40.360087+00:00",
          "start_time": "2023-08-04T02:46:40.200970+00:00"
        },
        "noteable": {
          "cell_type": "code",
          "output_collection_id": "238cee69-7780-47ab-91b7-074eeeafeb23"
        }
      },
      "outputs": [
        {
          "data": {
            "text/plain": [
              "(1, 183)"
            ]
          },
          "execution_count": 23,
          "metadata": {},
          "output_type": "execute_result"
        }
      ],
      "source": [
        "# Get the shape of the DataFrame\n",
        "population_data.shape"
      ]
    },
    {
      "cell_type": "markdown",
      "id": "ec00bb3f-51ed-4c53-921f-58b48b5d1399",
      "metadata": {
        "noteable": {
          "cell_type": "markdown"
        }
      },
      "source": [
        "The population data is stored in a DataFrame with 1 row and 183 columns. Each column represents a country, and the single row contains the population of each country for the year 2019."
      ]
    },
    {
      "cell_type": "code",
      "execution_count": 24,
      "id": "f3b8e7ca-2185-4bcf-9370-89d37179d4bc",
      "metadata": {
        "ExecuteTime": {
          "end_time": "2023-08-04T02:46:43.299763+00:00",
          "start_time": "2023-08-04T02:46:43.084137+00:00"
        },
        "datalink": {
          "16b71624-c225-4507-b538-ceeb21832521": {
            "applied_filters": [],
            "dataframe_info": {
              "default_index_used": false,
              "orig_num_cols": 1,
              "orig_num_rows": 183,
              "orig_size_bytes": 2928,
              "truncated_num_cols": 1,
              "truncated_num_rows": 183,
              "truncated_size_bytes": 2928,
              "truncated_string_columns": []
            },
            "display_id": "16b71624-c225-4507-b538-ceeb21832521",
            "dx_settings": {
              "ALLOW_NOTEABLE_ATTRS": true,
              "COLUMN_SAMPLING_METHOD": "outer",
              "DB_LOCATION": ":memory:",
              "DEV_MODE": false,
              "DISPLAY_MAX_COLUMNS": 100,
              "DISPLAY_MAX_ROWS": 50000,
              "DISPLAY_MODE": "simple",
              "ENABLE_ASSIGNMENT": true,
              "ENABLE_DATALINK": true,
              "FLATTEN_COLUMN_VALUES": true,
              "FLATTEN_INDEX_VALUES": false,
              "GENERATE_DEX_METADATA": false,
              "HTML_TABLE_SCHEMA": false,
              "LOG_LEVEL": 30,
              "MAX_RENDER_SIZE_BYTES": 104857600,
              "MAX_STRING_LENGTH": 250,
              "NUM_PAST_SAMPLES_TRACKED": 3,
              "RANDOM_STATE": 12648430,
              "RESET_INDEX_VALUES": false,
              "ROW_SAMPLING_METHOD": "random",
              "SAMPLING_FACTOR": 0.1,
              "SAMPLING_METHOD": "random",
              "STRINGIFY_COLUMN_VALUES": true,
              "STRINGIFY_INDEX_VALUES": false
            },
            "sample_history": [],
            "sampling_time": "2023-07-27T18:29:07.925946",
            "user_variable_name": null,
            "variable_name": "unk_dataframe_0d3aa579ec394ecb860fdb454740de0e"
          },
          "1aaa061e-1eb8-4663-b67f-b9fddb73247f": {
            "applied_filters": [],
            "dataframe_info": {
              "default_index_used": false,
              "orig_num_cols": 1,
              "orig_num_rows": 183,
              "orig_size_bytes": 2928,
              "truncated_num_cols": 1,
              "truncated_num_rows": 183,
              "truncated_size_bytes": 2928,
              "truncated_string_columns": []
            },
            "display_id": "1aaa061e-1eb8-4663-b67f-b9fddb73247f",
            "dx_settings": {
              "ALLOW_NOTEABLE_ATTRS": true,
              "COLUMN_SAMPLING_METHOD": "outer",
              "DB_LOCATION": ":memory:",
              "DEV_MODE": false,
              "DISPLAY_MAX_COLUMNS": 100,
              "DISPLAY_MAX_ROWS": 50000,
              "DISPLAY_MODE": "simple",
              "ENABLE_ASSIGNMENT": true,
              "ENABLE_DATALINK": true,
              "FLATTEN_COLUMN_VALUES": true,
              "FLATTEN_INDEX_VALUES": false,
              "GENERATE_DEX_METADATA": false,
              "HTML_TABLE_SCHEMA": false,
              "LOG_LEVEL": 30,
              "MAX_RENDER_SIZE_BYTES": 104857600,
              "MAX_STRING_LENGTH": 250,
              "NUM_PAST_SAMPLES_TRACKED": 3,
              "RANDOM_STATE": 12648430,
              "RESET_INDEX_VALUES": false,
              "ROW_SAMPLING_METHOD": "random",
              "SAMPLING_FACTOR": 0.1,
              "SAMPLING_METHOD": "random",
              "STRINGIFY_COLUMN_VALUES": true,
              "STRINGIFY_INDEX_VALUES": false
            },
            "sample_history": [],
            "sampling_time": "2023-08-03T17:00:32.825234",
            "user_variable_name": null,
            "variable_name": "unk_dataframe_6d15c8fbb32e439fb6088a7a56672509"
          },
          "1c5226b7-a399-4038-9364-32656a57f9da": {
            "applied_filters": [],
            "dataframe_info": {
              "default_index_used": false,
              "orig_num_cols": 1,
              "orig_num_rows": 183,
              "orig_size_bytes": 2928,
              "truncated_num_cols": 1,
              "truncated_num_rows": 183,
              "truncated_size_bytes": 2928,
              "truncated_string_columns": []
            },
            "display_id": "1c5226b7-a399-4038-9364-32656a57f9da",
            "dx_settings": {
              "ALLOW_NOTEABLE_ATTRS": true,
              "COLUMN_SAMPLING_METHOD": "outer",
              "DB_LOCATION": ":memory:",
              "DEV_MODE": false,
              "DISPLAY_MAX_COLUMNS": 100,
              "DISPLAY_MAX_ROWS": 50000,
              "DISPLAY_MODE": "simple",
              "ENABLE_ASSIGNMENT": true,
              "ENABLE_DATALINK": true,
              "FLATTEN_COLUMN_VALUES": true,
              "FLATTEN_INDEX_VALUES": false,
              "GENERATE_DEX_METADATA": false,
              "HTML_TABLE_SCHEMA": false,
              "LOG_LEVEL": 30,
              "MAX_RENDER_SIZE_BYTES": 104857600,
              "MAX_STRING_LENGTH": 250,
              "NUM_PAST_SAMPLES_TRACKED": 3,
              "RANDOM_STATE": 12648430,
              "RESET_INDEX_VALUES": false,
              "ROW_SAMPLING_METHOD": "random",
              "SAMPLING_FACTOR": 0.1,
              "SAMPLING_METHOD": "random",
              "STRINGIFY_COLUMN_VALUES": true,
              "STRINGIFY_INDEX_VALUES": false
            },
            "sample_history": [],
            "sampling_time": "2023-08-03T20:32:06.851786",
            "user_variable_name": null,
            "variable_name": "unk_dataframe_46dcd9c982ce4713bb0f855883b96ab6"
          },
          "1f09534f-cd94-4473-8eb8-8fc30ce3d843": {
            "applied_filters": [],
            "dataframe_info": {
              "default_index_used": false,
              "orig_num_cols": 1,
              "orig_num_rows": 183,
              "orig_size_bytes": 2928,
              "truncated_num_cols": 1,
              "truncated_num_rows": 183,
              "truncated_size_bytes": 2928,
              "truncated_string_columns": []
            },
            "display_id": "1f09534f-cd94-4473-8eb8-8fc30ce3d843",
            "dx_settings": {
              "ALLOW_NOTEABLE_ATTRS": true,
              "COLUMN_SAMPLING_METHOD": "outer",
              "DB_LOCATION": ":memory:",
              "DEV_MODE": false,
              "DISPLAY_MAX_COLUMNS": 100,
              "DISPLAY_MAX_ROWS": 50000,
              "DISPLAY_MODE": "simple",
              "ENABLE_ASSIGNMENT": true,
              "ENABLE_DATALINK": true,
              "FLATTEN_COLUMN_VALUES": true,
              "FLATTEN_INDEX_VALUES": false,
              "GENERATE_DEX_METADATA": false,
              "HTML_TABLE_SCHEMA": false,
              "LOG_LEVEL": 30,
              "MAX_RENDER_SIZE_BYTES": 104857600,
              "MAX_STRING_LENGTH": 250,
              "NUM_PAST_SAMPLES_TRACKED": 3,
              "RANDOM_STATE": 12648430,
              "RESET_INDEX_VALUES": false,
              "ROW_SAMPLING_METHOD": "random",
              "SAMPLING_FACTOR": 0.1,
              "SAMPLING_METHOD": "random",
              "STRINGIFY_COLUMN_VALUES": true,
              "STRINGIFY_INDEX_VALUES": false
            },
            "sample_history": [],
            "sampling_time": "2023-08-04T02:44:31.833884",
            "user_variable_name": null,
            "variable_name": "unk_dataframe_752b98956ae140cbb23762ac9c0693d9"
          },
          "85f8734a-c20a-4f7b-b04e-0001d19ca5a4": {
            "applied_filters": [],
            "dataframe_info": {
              "default_index_used": false,
              "orig_num_cols": 1,
              "orig_num_rows": 183,
              "orig_size_bytes": 2928,
              "truncated_num_cols": 1,
              "truncated_num_rows": 183,
              "truncated_size_bytes": 2928,
              "truncated_string_columns": []
            },
            "display_id": "85f8734a-c20a-4f7b-b04e-0001d19ca5a4",
            "dx_settings": {
              "ALLOW_NOTEABLE_ATTRS": true,
              "COLUMN_SAMPLING_METHOD": "outer",
              "DB_LOCATION": ":memory:",
              "DEV_MODE": false,
              "DISPLAY_MAX_COLUMNS": 100,
              "DISPLAY_MAX_ROWS": 50000,
              "DISPLAY_MODE": "simple",
              "ENABLE_ASSIGNMENT": true,
              "ENABLE_DATALINK": true,
              "FLATTEN_COLUMN_VALUES": true,
              "FLATTEN_INDEX_VALUES": false,
              "GENERATE_DEX_METADATA": false,
              "HTML_TABLE_SCHEMA": false,
              "LOG_LEVEL": 30,
              "MAX_RENDER_SIZE_BYTES": 104857600,
              "MAX_STRING_LENGTH": 250,
              "NUM_PAST_SAMPLES_TRACKED": 3,
              "RANDOM_STATE": 12648430,
              "RESET_INDEX_VALUES": false,
              "ROW_SAMPLING_METHOD": "random",
              "SAMPLING_FACTOR": 0.1,
              "SAMPLING_METHOD": "random",
              "STRINGIFY_COLUMN_VALUES": true,
              "STRINGIFY_INDEX_VALUES": false
            },
            "sample_history": [],
            "sampling_time": "2023-08-04T02:46:43.142487",
            "user_variable_name": null,
            "variable_name": "unk_dataframe_c90bb3c221a14a83bd0c18d9d48160c1"
          },
          "8987c48e-a8d1-4ff4-b569-9e01a1c0cf08": {
            "applied_filters": [],
            "dataframe_info": {
              "default_index_used": false,
              "orig_num_cols": 1,
              "orig_num_rows": 183,
              "orig_size_bytes": 2928,
              "truncated_num_cols": 1,
              "truncated_num_rows": 183,
              "truncated_size_bytes": 2928,
              "truncated_string_columns": []
            },
            "display_id": "8987c48e-a8d1-4ff4-b569-9e01a1c0cf08",
            "dx_settings": {
              "ALLOW_NOTEABLE_ATTRS": true,
              "COLUMN_SAMPLING_METHOD": "outer",
              "DB_LOCATION": ":memory:",
              "DEV_MODE": false,
              "DISPLAY_MAX_COLUMNS": 100,
              "DISPLAY_MAX_ROWS": 50000,
              "DISPLAY_MODE": "simple",
              "ENABLE_ASSIGNMENT": true,
              "ENABLE_DATALINK": true,
              "FLATTEN_COLUMN_VALUES": true,
              "FLATTEN_INDEX_VALUES": false,
              "GENERATE_DEX_METADATA": false,
              "HTML_TABLE_SCHEMA": false,
              "LOG_LEVEL": 30,
              "MAX_RENDER_SIZE_BYTES": 104857600,
              "MAX_STRING_LENGTH": 250,
              "NUM_PAST_SAMPLES_TRACKED": 3,
              "RANDOM_STATE": 12648430,
              "RESET_INDEX_VALUES": false,
              "ROW_SAMPLING_METHOD": "random",
              "SAMPLING_FACTOR": 0.1,
              "SAMPLING_METHOD": "random",
              "STRINGIFY_COLUMN_VALUES": true,
              "STRINGIFY_INDEX_VALUES": false
            },
            "sample_history": [],
            "sampling_time": "2023-07-25T17:27:10.008226",
            "user_variable_name": null,
            "variable_name": "unk_dataframe_3e88dfe2e8ee49f08ad12055198c99b4"
          },
          "8a2e6505-bd93-4d2c-bb87-8b124ac4f044": {
            "applied_filters": [],
            "dataframe_info": {
              "default_index_used": false,
              "orig_num_cols": 1,
              "orig_num_rows": 183,
              "orig_size_bytes": 2928,
              "truncated_num_cols": 1,
              "truncated_num_rows": 183,
              "truncated_size_bytes": 2928,
              "truncated_string_columns": []
            },
            "display_id": "8a2e6505-bd93-4d2c-bb87-8b124ac4f044",
            "dx_settings": {
              "ALLOW_NOTEABLE_ATTRS": true,
              "COLUMN_SAMPLING_METHOD": "outer",
              "DB_LOCATION": ":memory:",
              "DEV_MODE": false,
              "DISPLAY_MAX_COLUMNS": 100,
              "DISPLAY_MAX_ROWS": 50000,
              "DISPLAY_MODE": "simple",
              "ENABLE_ASSIGNMENT": true,
              "ENABLE_DATALINK": true,
              "FLATTEN_COLUMN_VALUES": true,
              "FLATTEN_INDEX_VALUES": false,
              "GENERATE_DEX_METADATA": false,
              "HTML_TABLE_SCHEMA": false,
              "LOG_LEVEL": 30,
              "MAX_RENDER_SIZE_BYTES": 104857600,
              "MAX_STRING_LENGTH": 250,
              "NUM_PAST_SAMPLES_TRACKED": 3,
              "RANDOM_STATE": 12648430,
              "RESET_INDEX_VALUES": false,
              "ROW_SAMPLING_METHOD": "random",
              "SAMPLING_FACTOR": 0.1,
              "SAMPLING_METHOD": "random",
              "STRINGIFY_COLUMN_VALUES": true,
              "STRINGIFY_INDEX_VALUES": false
            },
            "sample_history": [],
            "sampling_time": "2023-08-04T02:45:40.381882",
            "user_variable_name": null,
            "variable_name": "unk_dataframe_006df6300a464720b7f15657fe9b48be"
          },
          "d1a022c4-3413-4e96-8712-bc1465b4d114": {
            "applied_filters": [],
            "dataframe_info": {
              "default_index_used": false,
              "orig_num_cols": 1,
              "orig_num_rows": 183,
              "orig_size_bytes": 2928,
              "truncated_num_cols": 1,
              "truncated_num_rows": 183,
              "truncated_size_bytes": 2928,
              "truncated_string_columns": []
            },
            "display_id": "d1a022c4-3413-4e96-8712-bc1465b4d114",
            "dx_settings": {
              "ALLOW_NOTEABLE_ATTRS": true,
              "COLUMN_SAMPLING_METHOD": "outer",
              "DB_LOCATION": ":memory:",
              "DEV_MODE": false,
              "DISPLAY_MAX_COLUMNS": 100,
              "DISPLAY_MAX_ROWS": 50000,
              "DISPLAY_MODE": "simple",
              "ENABLE_ASSIGNMENT": true,
              "ENABLE_DATALINK": true,
              "FLATTEN_COLUMN_VALUES": true,
              "FLATTEN_INDEX_VALUES": false,
              "GENERATE_DEX_METADATA": false,
              "HTML_TABLE_SCHEMA": false,
              "LOG_LEVEL": 30,
              "MAX_RENDER_SIZE_BYTES": 104857600,
              "MAX_STRING_LENGTH": 250,
              "NUM_PAST_SAMPLES_TRACKED": 3,
              "RANDOM_STATE": 12648430,
              "RESET_INDEX_VALUES": false,
              "ROW_SAMPLING_METHOD": "random",
              "SAMPLING_FACTOR": 0.1,
              "SAMPLING_METHOD": "random",
              "STRINGIFY_COLUMN_VALUES": true,
              "STRINGIFY_INDEX_VALUES": false
            },
            "sample_history": [],
            "sampling_time": "2023-07-25T17:18:10.786333",
            "user_variable_name": null,
            "variable_name": "unk_dataframe_b4d21e50141748839657854214fae315"
          },
          "db33c5e5-fc6d-487a-afb0-e5e11f7d5280": {
            "applied_filters": [],
            "dataframe_info": {
              "default_index_used": false,
              "orig_num_cols": 1,
              "orig_num_rows": 183,
              "orig_size_bytes": 2928,
              "truncated_num_cols": 1,
              "truncated_num_rows": 183,
              "truncated_size_bytes": 2928,
              "truncated_string_columns": []
            },
            "display_id": "db33c5e5-fc6d-487a-afb0-e5e11f7d5280",
            "dx_settings": {
              "ALLOW_NOTEABLE_ATTRS": true,
              "COLUMN_SAMPLING_METHOD": "outer",
              "DB_LOCATION": ":memory:",
              "DEV_MODE": false,
              "DISPLAY_MAX_COLUMNS": 100,
              "DISPLAY_MAX_ROWS": 50000,
              "DISPLAY_MODE": "simple",
              "ENABLE_ASSIGNMENT": true,
              "ENABLE_DATALINK": true,
              "FLATTEN_COLUMN_VALUES": true,
              "FLATTEN_INDEX_VALUES": false,
              "GENERATE_DEX_METADATA": false,
              "HTML_TABLE_SCHEMA": false,
              "LOG_LEVEL": 30,
              "MAX_RENDER_SIZE_BYTES": 104857600,
              "MAX_STRING_LENGTH": 250,
              "NUM_PAST_SAMPLES_TRACKED": 3,
              "RANDOM_STATE": 12648430,
              "RESET_INDEX_VALUES": false,
              "ROW_SAMPLING_METHOD": "random",
              "SAMPLING_FACTOR": 0.1,
              "SAMPLING_METHOD": "random",
              "STRINGIFY_COLUMN_VALUES": true,
              "STRINGIFY_INDEX_VALUES": false
            },
            "sample_history": [],
            "sampling_time": "2023-08-04T02:43:24.144237",
            "user_variable_name": null,
            "variable_name": "unk_dataframe_43963f792a9541d39f06d661414d8824"
          },
          "e13abc32-9e65-4ee8-b1e3-b08156b95765": {
            "applied_filters": [],
            "dataframe_info": {
              "default_index_used": false,
              "orig_num_cols": 1,
              "orig_num_rows": 183,
              "orig_size_bytes": 2928,
              "truncated_num_cols": 1,
              "truncated_num_rows": 183,
              "truncated_size_bytes": 2928,
              "truncated_string_columns": []
            },
            "display_id": "e13abc32-9e65-4ee8-b1e3-b08156b95765",
            "dx_settings": {
              "ALLOW_NOTEABLE_ATTRS": true,
              "COLUMN_SAMPLING_METHOD": "outer",
              "DB_LOCATION": ":memory:",
              "DEV_MODE": false,
              "DISPLAY_MAX_COLUMNS": 100,
              "DISPLAY_MAX_ROWS": 50000,
              "DISPLAY_MODE": "simple",
              "ENABLE_ASSIGNMENT": true,
              "ENABLE_DATALINK": true,
              "FLATTEN_COLUMN_VALUES": true,
              "FLATTEN_INDEX_VALUES": false,
              "GENERATE_DEX_METADATA": false,
              "HTML_TABLE_SCHEMA": false,
              "LOG_LEVEL": 30,
              "MAX_RENDER_SIZE_BYTES": 104857600,
              "MAX_STRING_LENGTH": 250,
              "NUM_PAST_SAMPLES_TRACKED": 3,
              "RANDOM_STATE": 12648430,
              "RESET_INDEX_VALUES": false,
              "ROW_SAMPLING_METHOD": "random",
              "SAMPLING_FACTOR": 0.1,
              "SAMPLING_METHOD": "random",
              "STRINGIFY_COLUMN_VALUES": true,
              "STRINGIFY_INDEX_VALUES": false
            },
            "sample_history": [],
            "sampling_time": "2023-07-28T00:58:38.553083",
            "user_variable_name": null,
            "variable_name": "unk_dataframe_53c6633cefd14293bd700800bf85d549"
          }
        },
        "noteable": {
          "cell_type": "code",
          "output_collection_id": "9230feaf-d643-4e02-94c0-64fb0c321c94"
        }
      },
      "outputs": [
        {
          "data": {
            "text/plain": [
              "Afghanistan                           object\n",
              "Albania                               object\n",
              "Algeria                               object\n",
              "Angola                                object\n",
              "Antigua and Barbuda                    int64\n",
              "                                       ...  \n",
              "Venezuela (Bolivarian Republic of)    object\n",
              "Viet Nam                              object\n",
              "Yemen                                 object\n",
              "Zambia                                object\n",
              "Zimbabwe                              object\n",
              "Length: 183, dtype: object"
            ]
          },
          "execution_count": 24,
          "metadata": {},
          "output_type": "execute_result"
        }
      ],
      "source": [
        "# Get the data types of the columns\n",
        "population_data.dtypes"
      ]
    },
    {
      "cell_type": "markdown",
      "id": "13c53892-d8bb-4767-9a3f-d73510dba569",
      "metadata": {
        "noteable": {
          "cell_type": "markdown"
        }
      },
      "source": [
        "The data types of the columns are mostly 'object', which usually indicates that the data is stored as strings. However, some columns have the data type 'int64', indicating that these columns contain integer values. We might need to convert the 'object' columns to 'float64' to be able to perform numerical operations on them."
      ]
    },
    {
      "cell_type": "code",
      "execution_count": 25,
      "id": "315c344d-9a8f-4c7c-9fa3-43d97ceca876",
      "metadata": {
        "ExecuteTime": {
          "end_time": "2023-08-04T02:46:50.354157+00:00",
          "start_time": "2023-08-04T02:46:50.122364+00:00"
        },
        "datalink": {
          "40a3833b-f2ef-4be5-a093-515382c388f5": {
            "applied_filters": [],
            "dataframe_info": {
              "default_index_used": false,
              "orig_num_cols": 1,
              "orig_num_rows": 183,
              "orig_size_bytes": 2928,
              "truncated_num_cols": 1,
              "truncated_num_rows": 183,
              "truncated_size_bytes": 2928,
              "truncated_string_columns": []
            },
            "display_id": "40a3833b-f2ef-4be5-a093-515382c388f5",
            "dx_settings": {
              "ALLOW_NOTEABLE_ATTRS": true,
              "COLUMN_SAMPLING_METHOD": "outer",
              "DB_LOCATION": ":memory:",
              "DEV_MODE": false,
              "DISPLAY_MAX_COLUMNS": 100,
              "DISPLAY_MAX_ROWS": 50000,
              "DISPLAY_MODE": "simple",
              "ENABLE_ASSIGNMENT": true,
              "ENABLE_DATALINK": true,
              "FLATTEN_COLUMN_VALUES": true,
              "FLATTEN_INDEX_VALUES": false,
              "GENERATE_DEX_METADATA": false,
              "HTML_TABLE_SCHEMA": false,
              "LOG_LEVEL": 30,
              "MAX_RENDER_SIZE_BYTES": 104857600,
              "MAX_STRING_LENGTH": 250,
              "NUM_PAST_SAMPLES_TRACKED": 3,
              "RANDOM_STATE": 12648430,
              "RESET_INDEX_VALUES": false,
              "ROW_SAMPLING_METHOD": "random",
              "SAMPLING_FACTOR": 0.1,
              "SAMPLING_METHOD": "random",
              "STRINGIFY_COLUMN_VALUES": true,
              "STRINGIFY_INDEX_VALUES": false
            },
            "sample_history": [],
            "sampling_time": "2023-07-25T17:20:49.201250",
            "user_variable_name": null,
            "variable_name": "unk_dataframe_6291b2b874a44d9a81583de4a8c49e99"
          },
          "594031a5-7e52-47d2-b593-d26baf40620e": {
            "applied_filters": [],
            "dataframe_info": {
              "default_index_used": false,
              "orig_num_cols": 1,
              "orig_num_rows": 183,
              "orig_size_bytes": 2928,
              "truncated_num_cols": 1,
              "truncated_num_rows": 183,
              "truncated_size_bytes": 2928,
              "truncated_string_columns": []
            },
            "display_id": "594031a5-7e52-47d2-b593-d26baf40620e",
            "dx_settings": {
              "ALLOW_NOTEABLE_ATTRS": true,
              "COLUMN_SAMPLING_METHOD": "outer",
              "DB_LOCATION": ":memory:",
              "DEV_MODE": false,
              "DISPLAY_MAX_COLUMNS": 100,
              "DISPLAY_MAX_ROWS": 50000,
              "DISPLAY_MODE": "simple",
              "ENABLE_ASSIGNMENT": true,
              "ENABLE_DATALINK": true,
              "FLATTEN_COLUMN_VALUES": true,
              "FLATTEN_INDEX_VALUES": false,
              "GENERATE_DEX_METADATA": false,
              "HTML_TABLE_SCHEMA": false,
              "LOG_LEVEL": 30,
              "MAX_RENDER_SIZE_BYTES": 104857600,
              "MAX_STRING_LENGTH": 250,
              "NUM_PAST_SAMPLES_TRACKED": 3,
              "RANDOM_STATE": 12648430,
              "RESET_INDEX_VALUES": false,
              "ROW_SAMPLING_METHOD": "random",
              "SAMPLING_FACTOR": 0.1,
              "SAMPLING_METHOD": "random",
              "STRINGIFY_COLUMN_VALUES": true,
              "STRINGIFY_INDEX_VALUES": false
            },
            "sample_history": [],
            "sampling_time": "2023-07-27T18:29:08.161218",
            "user_variable_name": null,
            "variable_name": "unk_dataframe_096837d8e93d4ec2a430ec3c5a7a1724"
          },
          "80079ab4-b239-4ae5-8b59-abd40a44be8f": {
            "applied_filters": [],
            "dataframe_info": {
              "default_index_used": false,
              "orig_num_cols": 1,
              "orig_num_rows": 183,
              "orig_size_bytes": 2928,
              "truncated_num_cols": 1,
              "truncated_num_rows": 183,
              "truncated_size_bytes": 2928,
              "truncated_string_columns": []
            },
            "display_id": "80079ab4-b239-4ae5-8b59-abd40a44be8f",
            "dx_settings": {
              "ALLOW_NOTEABLE_ATTRS": true,
              "COLUMN_SAMPLING_METHOD": "outer",
              "DB_LOCATION": ":memory:",
              "DEV_MODE": false,
              "DISPLAY_MAX_COLUMNS": 100,
              "DISPLAY_MAX_ROWS": 50000,
              "DISPLAY_MODE": "simple",
              "ENABLE_ASSIGNMENT": true,
              "ENABLE_DATALINK": true,
              "FLATTEN_COLUMN_VALUES": true,
              "FLATTEN_INDEX_VALUES": false,
              "GENERATE_DEX_METADATA": false,
              "HTML_TABLE_SCHEMA": false,
              "LOG_LEVEL": 30,
              "MAX_RENDER_SIZE_BYTES": 104857600,
              "MAX_STRING_LENGTH": 250,
              "NUM_PAST_SAMPLES_TRACKED": 3,
              "RANDOM_STATE": 12648430,
              "RESET_INDEX_VALUES": false,
              "ROW_SAMPLING_METHOD": "random",
              "SAMPLING_FACTOR": 0.1,
              "SAMPLING_METHOD": "random",
              "STRINGIFY_COLUMN_VALUES": true,
              "STRINGIFY_INDEX_VALUES": false
            },
            "sample_history": [],
            "sampling_time": "2023-08-04T02:46:50.197023",
            "user_variable_name": null,
            "variable_name": "unk_dataframe_ac4987e1349c48c88f7df12c31c2f294"
          },
          "9d101fd6-92b7-4b85-96e7-232222e9ac9f": {
            "applied_filters": [],
            "dataframe_info": {
              "default_index_used": false,
              "orig_num_cols": 1,
              "orig_num_rows": 183,
              "orig_size_bytes": 2928,
              "truncated_num_cols": 1,
              "truncated_num_rows": 183,
              "truncated_size_bytes": 2928,
              "truncated_string_columns": []
            },
            "display_id": "9d101fd6-92b7-4b85-96e7-232222e9ac9f",
            "dx_settings": {
              "ALLOW_NOTEABLE_ATTRS": true,
              "COLUMN_SAMPLING_METHOD": "outer",
              "DB_LOCATION": ":memory:",
              "DEV_MODE": false,
              "DISPLAY_MAX_COLUMNS": 100,
              "DISPLAY_MAX_ROWS": 50000,
              "DISPLAY_MODE": "simple",
              "ENABLE_ASSIGNMENT": true,
              "ENABLE_DATALINK": true,
              "FLATTEN_COLUMN_VALUES": true,
              "FLATTEN_INDEX_VALUES": false,
              "GENERATE_DEX_METADATA": false,
              "HTML_TABLE_SCHEMA": false,
              "LOG_LEVEL": 30,
              "MAX_RENDER_SIZE_BYTES": 104857600,
              "MAX_STRING_LENGTH": 250,
              "NUM_PAST_SAMPLES_TRACKED": 3,
              "RANDOM_STATE": 12648430,
              "RESET_INDEX_VALUES": false,
              "ROW_SAMPLING_METHOD": "random",
              "SAMPLING_FACTOR": 0.1,
              "SAMPLING_METHOD": "random",
              "STRINGIFY_COLUMN_VALUES": true,
              "STRINGIFY_INDEX_VALUES": false
            },
            "sample_history": [],
            "sampling_time": "2023-08-03T20:32:07.150618",
            "user_variable_name": null,
            "variable_name": "unk_dataframe_8329d3eefd4b4f4bbc89c77c0d6480cc"
          },
          "a5ea488d-6c2b-49a4-b39d-9e150cf1afed": {
            "applied_filters": [],
            "dataframe_info": {
              "default_index_used": false,
              "orig_num_cols": 1,
              "orig_num_rows": 183,
              "orig_size_bytes": 2928,
              "truncated_num_cols": 1,
              "truncated_num_rows": 183,
              "truncated_size_bytes": 2928,
              "truncated_string_columns": []
            },
            "display_id": "a5ea488d-6c2b-49a4-b39d-9e150cf1afed",
            "dx_settings": {
              "ALLOW_NOTEABLE_ATTRS": true,
              "COLUMN_SAMPLING_METHOD": "outer",
              "DB_LOCATION": ":memory:",
              "DEV_MODE": false,
              "DISPLAY_MAX_COLUMNS": 100,
              "DISPLAY_MAX_ROWS": 50000,
              "DISPLAY_MODE": "simple",
              "ENABLE_ASSIGNMENT": true,
              "ENABLE_DATALINK": true,
              "FLATTEN_COLUMN_VALUES": true,
              "FLATTEN_INDEX_VALUES": false,
              "GENERATE_DEX_METADATA": false,
              "HTML_TABLE_SCHEMA": false,
              "LOG_LEVEL": 30,
              "MAX_RENDER_SIZE_BYTES": 104857600,
              "MAX_STRING_LENGTH": 250,
              "NUM_PAST_SAMPLES_TRACKED": 3,
              "RANDOM_STATE": 12648430,
              "RESET_INDEX_VALUES": false,
              "ROW_SAMPLING_METHOD": "random",
              "SAMPLING_FACTOR": 0.1,
              "SAMPLING_METHOD": "random",
              "STRINGIFY_COLUMN_VALUES": true,
              "STRINGIFY_INDEX_VALUES": false
            },
            "sample_history": [],
            "sampling_time": "2023-08-04T02:43:28.356203",
            "user_variable_name": null,
            "variable_name": "unk_dataframe_f4a16a66442d431db633be858e972e75"
          },
          "af949e49-e263-4aec-9331-7ed6b960b349": {
            "applied_filters": [],
            "dataframe_info": {
              "default_index_used": false,
              "orig_num_cols": 1,
              "orig_num_rows": 183,
              "orig_size_bytes": 2928,
              "truncated_num_cols": 1,
              "truncated_num_rows": 183,
              "truncated_size_bytes": 2928,
              "truncated_string_columns": []
            },
            "display_id": "af949e49-e263-4aec-9331-7ed6b960b349",
            "dx_settings": {
              "ALLOW_NOTEABLE_ATTRS": true,
              "COLUMN_SAMPLING_METHOD": "outer",
              "DB_LOCATION": ":memory:",
              "DEV_MODE": false,
              "DISPLAY_MAX_COLUMNS": 100,
              "DISPLAY_MAX_ROWS": 50000,
              "DISPLAY_MODE": "simple",
              "ENABLE_ASSIGNMENT": true,
              "ENABLE_DATALINK": true,
              "FLATTEN_COLUMN_VALUES": true,
              "FLATTEN_INDEX_VALUES": false,
              "GENERATE_DEX_METADATA": false,
              "HTML_TABLE_SCHEMA": false,
              "LOG_LEVEL": 30,
              "MAX_RENDER_SIZE_BYTES": 104857600,
              "MAX_STRING_LENGTH": 250,
              "NUM_PAST_SAMPLES_TRACKED": 3,
              "RANDOM_STATE": 12648430,
              "RESET_INDEX_VALUES": false,
              "ROW_SAMPLING_METHOD": "random",
              "SAMPLING_FACTOR": 0.1,
              "SAMPLING_METHOD": "random",
              "STRINGIFY_COLUMN_VALUES": true,
              "STRINGIFY_INDEX_VALUES": false
            },
            "sample_history": [],
            "sampling_time": "2023-08-03T17:01:06.701028",
            "user_variable_name": null,
            "variable_name": "unk_dataframe_5d750f3e0d3d44a8a4684a78b2e197de"
          },
          "b14d5429-bff8-4372-a0f6-9b3316de2ded": {
            "applied_filters": [],
            "dataframe_info": {
              "default_index_used": false,
              "orig_num_cols": 1,
              "orig_num_rows": 183,
              "orig_size_bytes": 2928,
              "truncated_num_cols": 1,
              "truncated_num_rows": 183,
              "truncated_size_bytes": 2928,
              "truncated_string_columns": []
            },
            "display_id": "b14d5429-bff8-4372-a0f6-9b3316de2ded",
            "dx_settings": {
              "ALLOW_NOTEABLE_ATTRS": true,
              "COLUMN_SAMPLING_METHOD": "outer",
              "DB_LOCATION": ":memory:",
              "DEV_MODE": false,
              "DISPLAY_MAX_COLUMNS": 100,
              "DISPLAY_MAX_ROWS": 50000,
              "DISPLAY_MODE": "simple",
              "ENABLE_ASSIGNMENT": true,
              "ENABLE_DATALINK": true,
              "FLATTEN_COLUMN_VALUES": true,
              "FLATTEN_INDEX_VALUES": false,
              "GENERATE_DEX_METADATA": false,
              "HTML_TABLE_SCHEMA": false,
              "LOG_LEVEL": 30,
              "MAX_RENDER_SIZE_BYTES": 104857600,
              "MAX_STRING_LENGTH": 250,
              "NUM_PAST_SAMPLES_TRACKED": 3,
              "RANDOM_STATE": 12648430,
              "RESET_INDEX_VALUES": false,
              "ROW_SAMPLING_METHOD": "random",
              "SAMPLING_FACTOR": 0.1,
              "SAMPLING_METHOD": "random",
              "STRINGIFY_COLUMN_VALUES": true,
              "STRINGIFY_INDEX_VALUES": false
            },
            "sample_history": [],
            "sampling_time": "2023-07-25T17:27:10.317557",
            "user_variable_name": null,
            "variable_name": "unk_dataframe_58f25f320a0b4a8a9965d0ceaba8bd9a"
          },
          "d2e2cc54-ac9a-4baf-bd12-a52ecd385b82": {
            "applied_filters": [],
            "dataframe_info": {
              "default_index_used": false,
              "orig_num_cols": 1,
              "orig_num_rows": 183,
              "orig_size_bytes": 2928,
              "truncated_num_cols": 1,
              "truncated_num_rows": 183,
              "truncated_size_bytes": 2928,
              "truncated_string_columns": []
            },
            "display_id": "d2e2cc54-ac9a-4baf-bd12-a52ecd385b82",
            "dx_settings": {
              "ALLOW_NOTEABLE_ATTRS": true,
              "COLUMN_SAMPLING_METHOD": "outer",
              "DB_LOCATION": ":memory:",
              "DEV_MODE": false,
              "DISPLAY_MAX_COLUMNS": 100,
              "DISPLAY_MAX_ROWS": 50000,
              "DISPLAY_MODE": "simple",
              "ENABLE_ASSIGNMENT": true,
              "ENABLE_DATALINK": true,
              "FLATTEN_COLUMN_VALUES": true,
              "FLATTEN_INDEX_VALUES": false,
              "GENERATE_DEX_METADATA": false,
              "HTML_TABLE_SCHEMA": false,
              "LOG_LEVEL": 30,
              "MAX_RENDER_SIZE_BYTES": 104857600,
              "MAX_STRING_LENGTH": 250,
              "NUM_PAST_SAMPLES_TRACKED": 3,
              "RANDOM_STATE": 12648430,
              "RESET_INDEX_VALUES": false,
              "ROW_SAMPLING_METHOD": "random",
              "SAMPLING_FACTOR": 0.1,
              "SAMPLING_METHOD": "random",
              "STRINGIFY_COLUMN_VALUES": true,
              "STRINGIFY_INDEX_VALUES": false
            },
            "sample_history": [],
            "sampling_time": "2023-07-28T00:58:38.799766",
            "user_variable_name": null,
            "variable_name": "unk_dataframe_59453fcabf864f31b968ce6d84ce0ad1"
          }
        },
        "noteable": {
          "cell_type": "code",
          "output_collection_id": "3ce26e73-4421-483f-9d93-f77e756e471e"
        }
      },
      "outputs": [
        {
          "data": {
            "text/plain": [
              "Afghanistan                           float64\n",
              "Albania                               float64\n",
              "Algeria                               float64\n",
              "Angola                                float64\n",
              "Antigua and Barbuda                   float64\n",
              "                                       ...   \n",
              "Venezuela (Bolivarian Republic of)    float64\n",
              "Viet Nam                              float64\n",
              "Yemen                                 float64\n",
              "Zambia                                float64\n",
              "Zimbabwe                              float64\n",
              "Length: 183, dtype: object"
            ]
          },
          "execution_count": 25,
          "metadata": {},
          "output_type": "execute_result"
        }
      ],
      "source": [
        "# Replace commas with nothing and convert all columns to float\n",
        "population_data = population_data.replace(',', '', regex=True).astype(float)\n",
        "\n",
        "# Check the data types of the columns again to confirm the change\n",
        "population_data.dtypes"
      ]
    },
    {
      "cell_type": "markdown",
      "id": "9778041c-8bf2-4e5f-8cc1-fb36f58d1702",
      "metadata": {
        "noteable": {
          "cell_type": "markdown"
        }
      },
      "source": [
        "All columns in the population data DataFrame have been converted to float. Now, we can perform numerical operations on these columns."
      ]
    },
    {
      "cell_type": "code",
      "execution_count": 26,
      "id": "20a77bb5-0e1d-4bd8-a41e-6a4cd8ce679c",
      "metadata": {
        "ExecuteTime": {
          "end_time": "2023-08-04T02:46:55.015037+00:00",
          "start_time": "2023-08-04T02:46:54.743901+00:00"
        },
        "datalink": {
          "00ced620-7dc8-49d0-b95f-1bfe45bbd346": {
            "applied_filters": [],
            "dataframe_info": {
              "default_index_used": true,
              "orig_num_cols": 10,
              "orig_num_rows": 5,
              "orig_size_bytes": 440,
              "truncated_num_cols": 10,
              "truncated_num_rows": 5,
              "truncated_size_bytes": 440,
              "truncated_string_columns": []
            },
            "display_id": "00ced620-7dc8-49d0-b95f-1bfe45bbd346",
            "dx_settings": {
              "ALLOW_NOTEABLE_ATTRS": true,
              "COLUMN_SAMPLING_METHOD": "outer",
              "DB_LOCATION": ":memory:",
              "DEV_MODE": false,
              "DISPLAY_MAX_COLUMNS": 100,
              "DISPLAY_MAX_ROWS": 50000,
              "DISPLAY_MODE": "simple",
              "ENABLE_ASSIGNMENT": true,
              "ENABLE_DATALINK": true,
              "FLATTEN_COLUMN_VALUES": true,
              "FLATTEN_INDEX_VALUES": false,
              "GENERATE_DEX_METADATA": false,
              "HTML_TABLE_SCHEMA": false,
              "LOG_LEVEL": 30,
              "MAX_RENDER_SIZE_BYTES": 104857600,
              "MAX_STRING_LENGTH": 250,
              "NUM_PAST_SAMPLES_TRACKED": 3,
              "RANDOM_STATE": 12648430,
              "RESET_INDEX_VALUES": false,
              "ROW_SAMPLING_METHOD": "random",
              "SAMPLING_FACTOR": 0.1,
              "SAMPLING_METHOD": "random",
              "STRINGIFY_COLUMN_VALUES": true,
              "STRINGIFY_INDEX_VALUES": false
            },
            "sample_history": [],
            "sampling_time": "2023-08-03T17:01:14.966348",
            "user_variable_name": null,
            "variable_name": "unk_dataframe_f8a30cdc755b4bbdb68195d109f495e7"
          },
          "3359eb4f-0edc-4076-a885-8b886779258f": {
            "applied_filters": [],
            "dataframe_info": {
              "default_index_used": true,
              "orig_num_cols": 10,
              "orig_num_rows": 5,
              "orig_size_bytes": 440,
              "truncated_num_cols": 10,
              "truncated_num_rows": 5,
              "truncated_size_bytes": 440,
              "truncated_string_columns": []
            },
            "display_id": "3359eb4f-0edc-4076-a885-8b886779258f",
            "dx_settings": {
              "ALLOW_NOTEABLE_ATTRS": true,
              "COLUMN_SAMPLING_METHOD": "outer",
              "DB_LOCATION": ":memory:",
              "DEV_MODE": false,
              "DISPLAY_MAX_COLUMNS": 100,
              "DISPLAY_MAX_ROWS": 50000,
              "DISPLAY_MODE": "simple",
              "ENABLE_ASSIGNMENT": true,
              "ENABLE_DATALINK": true,
              "FLATTEN_COLUMN_VALUES": true,
              "FLATTEN_INDEX_VALUES": false,
              "GENERATE_DEX_METADATA": false,
              "HTML_TABLE_SCHEMA": false,
              "LOG_LEVEL": 30,
              "MAX_RENDER_SIZE_BYTES": 104857600,
              "MAX_STRING_LENGTH": 250,
              "NUM_PAST_SAMPLES_TRACKED": 3,
              "RANDOM_STATE": 12648430,
              "RESET_INDEX_VALUES": false,
              "ROW_SAMPLING_METHOD": "random",
              "SAMPLING_FACTOR": 0.1,
              "SAMPLING_METHOD": "random",
              "STRINGIFY_COLUMN_VALUES": true,
              "STRINGIFY_INDEX_VALUES": false
            },
            "sample_history": [],
            "sampling_time": "2023-07-25T17:27:10.666246",
            "user_variable_name": null,
            "variable_name": "unk_dataframe_04e0d53132c4401d8e7341dee087a1cd"
          },
          "456fcd3c-24f0-479a-8f7c-89be623ecbc9": {
            "applied_filters": [],
            "dataframe_info": {
              "default_index_used": true,
              "orig_num_cols": 10,
              "orig_num_rows": 5,
              "orig_size_bytes": 440,
              "truncated_num_cols": 10,
              "truncated_num_rows": 5,
              "truncated_size_bytes": 440,
              "truncated_string_columns": []
            },
            "display_id": "456fcd3c-24f0-479a-8f7c-89be623ecbc9",
            "dx_settings": {
              "ALLOW_NOTEABLE_ATTRS": true,
              "COLUMN_SAMPLING_METHOD": "outer",
              "DB_LOCATION": ":memory:",
              "DEV_MODE": false,
              "DISPLAY_MAX_COLUMNS": 100,
              "DISPLAY_MAX_ROWS": 50000,
              "DISPLAY_MODE": "simple",
              "ENABLE_ASSIGNMENT": true,
              "ENABLE_DATALINK": true,
              "FLATTEN_COLUMN_VALUES": true,
              "FLATTEN_INDEX_VALUES": false,
              "GENERATE_DEX_METADATA": false,
              "HTML_TABLE_SCHEMA": false,
              "LOG_LEVEL": 30,
              "MAX_RENDER_SIZE_BYTES": 104857600,
              "MAX_STRING_LENGTH": 250,
              "NUM_PAST_SAMPLES_TRACKED": 3,
              "RANDOM_STATE": 12648430,
              "RESET_INDEX_VALUES": false,
              "ROW_SAMPLING_METHOD": "random",
              "SAMPLING_FACTOR": 0.1,
              "SAMPLING_METHOD": "random",
              "STRINGIFY_COLUMN_VALUES": true,
              "STRINGIFY_INDEX_VALUES": false
            },
            "sample_history": [],
            "sampling_time": "2023-08-04T02:46:54.856013",
            "user_variable_name": null,
            "variable_name": "unk_dataframe_97c864c21c994ff58c6549bea0ed7544"
          },
          "48702d8d-8532-4f17-a005-a90c50128ccc": {
            "applied_filters": [],
            "dataframe_info": {
              "default_index_used": true,
              "orig_num_cols": 10,
              "orig_num_rows": 5,
              "orig_size_bytes": 440,
              "truncated_num_cols": 10,
              "truncated_num_rows": 5,
              "truncated_size_bytes": 440,
              "truncated_string_columns": []
            },
            "display_id": "48702d8d-8532-4f17-a005-a90c50128ccc",
            "dx_settings": {
              "ALLOW_NOTEABLE_ATTRS": true,
              "COLUMN_SAMPLING_METHOD": "outer",
              "DB_LOCATION": ":memory:",
              "DEV_MODE": false,
              "DISPLAY_MAX_COLUMNS": 100,
              "DISPLAY_MAX_ROWS": 50000,
              "DISPLAY_MODE": "simple",
              "ENABLE_ASSIGNMENT": true,
              "ENABLE_DATALINK": true,
              "FLATTEN_COLUMN_VALUES": true,
              "FLATTEN_INDEX_VALUES": false,
              "GENERATE_DEX_METADATA": false,
              "HTML_TABLE_SCHEMA": false,
              "LOG_LEVEL": 30,
              "MAX_RENDER_SIZE_BYTES": 104857600,
              "MAX_STRING_LENGTH": 250,
              "NUM_PAST_SAMPLES_TRACKED": 3,
              "RANDOM_STATE": 12648430,
              "RESET_INDEX_VALUES": false,
              "ROW_SAMPLING_METHOD": "random",
              "SAMPLING_FACTOR": 0.1,
              "SAMPLING_METHOD": "random",
              "STRINGIFY_COLUMN_VALUES": true,
              "STRINGIFY_INDEX_VALUES": false
            },
            "sample_history": [],
            "sampling_time": "2023-07-27T18:29:08.434536",
            "user_variable_name": null,
            "variable_name": "unk_dataframe_9c5c51a342784a5cba802556ca309bf9"
          },
          "a08aecb6-4367-4e87-b56a-1b6e5d01d4e0": {
            "applied_filters": [],
            "dataframe_info": {
              "default_index_used": true,
              "orig_num_cols": 10,
              "orig_num_rows": 5,
              "orig_size_bytes": 440,
              "truncated_num_cols": 10,
              "truncated_num_rows": 5,
              "truncated_size_bytes": 440,
              "truncated_string_columns": []
            },
            "display_id": "a08aecb6-4367-4e87-b56a-1b6e5d01d4e0",
            "dx_settings": {
              "ALLOW_NOTEABLE_ATTRS": true,
              "COLUMN_SAMPLING_METHOD": "outer",
              "DB_LOCATION": ":memory:",
              "DEV_MODE": false,
              "DISPLAY_MAX_COLUMNS": 100,
              "DISPLAY_MAX_ROWS": 50000,
              "DISPLAY_MODE": "simple",
              "ENABLE_ASSIGNMENT": true,
              "ENABLE_DATALINK": true,
              "FLATTEN_COLUMN_VALUES": true,
              "FLATTEN_INDEX_VALUES": false,
              "GENERATE_DEX_METADATA": false,
              "HTML_TABLE_SCHEMA": false,
              "LOG_LEVEL": 30,
              "MAX_RENDER_SIZE_BYTES": 104857600,
              "MAX_STRING_LENGTH": 250,
              "NUM_PAST_SAMPLES_TRACKED": 3,
              "RANDOM_STATE": 12648430,
              "RESET_INDEX_VALUES": false,
              "ROW_SAMPLING_METHOD": "random",
              "SAMPLING_FACTOR": 0.1,
              "SAMPLING_METHOD": "random",
              "STRINGIFY_COLUMN_VALUES": true,
              "STRINGIFY_INDEX_VALUES": false
            },
            "sample_history": [],
            "sampling_time": "2023-08-04T02:44:00.730874",
            "user_variable_name": null,
            "variable_name": "unk_dataframe_18a719a18bfd463a8a9a8727fcd05552"
          },
          "d260c980-8fe6-453d-8c08-0a16e9650cb9": {
            "applied_filters": [],
            "dataframe_info": {
              "default_index_used": true,
              "orig_num_cols": 10,
              "orig_num_rows": 5,
              "orig_size_bytes": 440,
              "truncated_num_cols": 10,
              "truncated_num_rows": 5,
              "truncated_size_bytes": 440,
              "truncated_string_columns": []
            },
            "display_id": "d260c980-8fe6-453d-8c08-0a16e9650cb9",
            "dx_settings": {
              "ALLOW_NOTEABLE_ATTRS": true,
              "COLUMN_SAMPLING_METHOD": "outer",
              "DB_LOCATION": ":memory:",
              "DEV_MODE": false,
              "DISPLAY_MAX_COLUMNS": 100,
              "DISPLAY_MAX_ROWS": 50000,
              "DISPLAY_MODE": "simple",
              "ENABLE_ASSIGNMENT": true,
              "ENABLE_DATALINK": true,
              "FLATTEN_COLUMN_VALUES": true,
              "FLATTEN_INDEX_VALUES": false,
              "GENERATE_DEX_METADATA": false,
              "HTML_TABLE_SCHEMA": false,
              "LOG_LEVEL": 30,
              "MAX_RENDER_SIZE_BYTES": 104857600,
              "MAX_STRING_LENGTH": 250,
              "NUM_PAST_SAMPLES_TRACKED": 3,
              "RANDOM_STATE": 12648430,
              "RESET_INDEX_VALUES": false,
              "ROW_SAMPLING_METHOD": "random",
              "SAMPLING_FACTOR": 0.1,
              "SAMPLING_METHOD": "random",
              "STRINGIFY_COLUMN_VALUES": true,
              "STRINGIFY_INDEX_VALUES": false
            },
            "sample_history": [],
            "sampling_time": "2023-08-03T20:32:07.433066",
            "user_variable_name": null,
            "variable_name": "unk_dataframe_68fed1d0686444dd88112d768d7faa76"
          },
          "d4ccbfa1-b9b4-4276-ae0a-b5f1ee13da22": {
            "applied_filters": [],
            "dataframe_info": {
              "default_index_used": true,
              "orig_num_cols": 10,
              "orig_num_rows": 5,
              "orig_size_bytes": 440,
              "truncated_num_cols": 10,
              "truncated_num_rows": 5,
              "truncated_size_bytes": 440,
              "truncated_string_columns": []
            },
            "display_id": "d4ccbfa1-b9b4-4276-ae0a-b5f1ee13da22",
            "dx_settings": {
              "ALLOW_NOTEABLE_ATTRS": true,
              "COLUMN_SAMPLING_METHOD": "outer",
              "DB_LOCATION": ":memory:",
              "DEV_MODE": false,
              "DISPLAY_MAX_COLUMNS": 100,
              "DISPLAY_MAX_ROWS": 50000,
              "DISPLAY_MODE": "simple",
              "ENABLE_ASSIGNMENT": true,
              "ENABLE_DATALINK": true,
              "FLATTEN_COLUMN_VALUES": true,
              "FLATTEN_INDEX_VALUES": false,
              "GENERATE_DEX_METADATA": false,
              "HTML_TABLE_SCHEMA": false,
              "LOG_LEVEL": 30,
              "MAX_RENDER_SIZE_BYTES": 104857600,
              "MAX_STRING_LENGTH": 250,
              "NUM_PAST_SAMPLES_TRACKED": 3,
              "RANDOM_STATE": 12648430,
              "RESET_INDEX_VALUES": false,
              "ROW_SAMPLING_METHOD": "random",
              "SAMPLING_FACTOR": 0.1,
              "SAMPLING_METHOD": "random",
              "STRINGIFY_COLUMN_VALUES": true,
              "STRINGIFY_INDEX_VALUES": false
            },
            "sample_history": [],
            "sampling_time": "2023-07-28T00:58:39.138421",
            "user_variable_name": null,
            "variable_name": "unk_dataframe_400370f7b7a141af921931d693878920"
          },
          "f3de7e27-2bf3-4afe-9e49-889c47b895d4": {
            "applied_filters": [],
            "dataframe_info": {
              "default_index_used": true,
              "orig_num_cols": 10,
              "orig_num_rows": 5,
              "orig_size_bytes": 440,
              "truncated_num_cols": 10,
              "truncated_num_rows": 5,
              "truncated_size_bytes": 440,
              "truncated_string_columns": []
            },
            "display_id": "f3de7e27-2bf3-4afe-9e49-889c47b895d4",
            "dx_settings": {
              "ALLOW_NOTEABLE_ATTRS": true,
              "COLUMN_SAMPLING_METHOD": "outer",
              "DB_LOCATION": ":memory:",
              "DEV_MODE": false,
              "DISPLAY_MAX_COLUMNS": 100,
              "DISPLAY_MAX_ROWS": 50000,
              "DISPLAY_MODE": "simple",
              "ENABLE_ASSIGNMENT": true,
              "ENABLE_DATALINK": true,
              "FLATTEN_COLUMN_VALUES": true,
              "FLATTEN_INDEX_VALUES": false,
              "GENERATE_DEX_METADATA": false,
              "HTML_TABLE_SCHEMA": false,
              "LOG_LEVEL": 30,
              "MAX_RENDER_SIZE_BYTES": 104857600,
              "MAX_STRING_LENGTH": 250,
              "NUM_PAST_SAMPLES_TRACKED": 3,
              "RANDOM_STATE": 12648430,
              "RESET_INDEX_VALUES": false,
              "ROW_SAMPLING_METHOD": "random",
              "SAMPLING_FACTOR": 0.1,
              "SAMPLING_METHOD": "random",
              "STRINGIFY_COLUMN_VALUES": true,
              "STRINGIFY_INDEX_VALUES": false
            },
            "sample_history": [],
            "sampling_time": "2023-08-04T02:43:33.451075",
            "user_variable_name": null,
            "variable_name": "unk_dataframe_36e29db2bef14a71b252f5d569a6e184"
          }
        },
        "dx": {
          "dashboard": {
            "multiViews": []
          },
          "fieldMetadata": {
            "CauseDetail": {
              "columnPosition": 7
            },
            "Continent": {
              "columnPosition": 10
            },
            "Country": {
              "columnPosition": 8
            },
            "Deaths": {
              "columnPosition": 9
            },
            "Disease_AccidentType": {
              "columnPosition": 5
            },
            "GHE code": {
              "columnPosition": 3
            },
            "GeneralCause": {
              "columnPosition": 4
            },
            "Population": {
              "columnPosition": 11,
              "sort": "asc"
            },
            "Sex": {
              "columnPosition": 2
            },
            "SpecificCondition": {
              "columnPosition": 6
            },
            "index": {
              "columnPosition": 1
            }
          },
          "updated": 1690306077111,
          "views": [
            {
              "annotationRules": [],
              "chart": {},
              "chartMode": "grid",
              "confoRules": [],
              "decoration": {
                "footer": "",
                "subtitle": "",
                "title": "Table"
              },
              "facets": [],
              "filterSettings": {
                "SHOW_FILTER_PANEL": true,
                "filters": []
              },
              "id": "first-view",
              "isDefault": true,
              "type": "public",
              "userID": ""
            },
            {
              "annotationRules": [],
              "chart": {},
              "chartMode": "grid",
              "confoRules": [],
              "decoration": {
                "footer": "",
                "subtitle": "",
                "title": "Table"
              },
              "facets": [],
              "filterSettings": {
                "SHOW_FILTER_PANEL": true,
                "filters": []
              },
              "id": "first-view",
              "isDefault": true,
              "isTransitory": true,
              "type": "public",
              "userID": ""
            }
          ]
        },
        "noteable": {
          "cell_type": "code",
          "output_collection_id": "80d20c5b-6fba-4cc6-9e37-110f02221c9f"
        }
      },
      "outputs": [
        {
          "data": {
            "text/html": [
              "<div>\n",
              "<style scoped>\n",
              "    .dataframe tbody tr th:only-of-type {\n",
              "        vertical-align: middle;\n",
              "    }\n",
              "\n",
              "    .dataframe tbody tr th {\n",
              "        vertical-align: top;\n",
              "    }\n",
              "\n",
              "    .dataframe thead th {\n",
              "        text-align: right;\n",
              "    }\n",
              "</style>\n",
              "<table border=\"1\" class=\"dataframe\">\n",
              "  <thead>\n",
              "    <tr style=\"text-align: right;\">\n",
              "      <th></th>\n",
              "      <th>Sex</th>\n",
              "      <th>GHE code</th>\n",
              "      <th>GeneralCause</th>\n",
              "      <th>Disease_AccidentType</th>\n",
              "      <th>SpecificCondition</th>\n",
              "      <th>CauseDetail</th>\n",
              "      <th>Country</th>\n",
              "      <th>Deaths</th>\n",
              "      <th>Continent</th>\n",
              "      <th>Population</th>\n",
              "    </tr>\n",
              "  </thead>\n",
              "  <tbody>\n",
              "    <tr>\n",
              "      <th>0</th>\n",
              "      <td>Males</td>\n",
              "      <td>30</td>\n",
              "      <td>Communicable, maternal, perinatal and nutritio...</td>\n",
              "      <td>Infectious and parasitic diseases</td>\n",
              "      <td>Tuberculosis</td>\n",
              "      <td>Unknown</td>\n",
              "      <td>Afghanistan</td>\n",
              "      <td>4.5</td>\n",
              "      <td>AS</td>\n",
              "      <td>38042.0</td>\n",
              "    </tr>\n",
              "    <tr>\n",
              "      <th>1</th>\n",
              "      <td>Males</td>\n",
              "      <td>50</td>\n",
              "      <td>Communicable, maternal, perinatal and nutritio...</td>\n",
              "      <td>Infectious and parasitic diseases</td>\n",
              "      <td>STDs excluding HIV</td>\n",
              "      <td>Syphilis</td>\n",
              "      <td>Afghanistan</td>\n",
              "      <td>0.1</td>\n",
              "      <td>AS</td>\n",
              "      <td>38042.0</td>\n",
              "    </tr>\n",
              "    <tr>\n",
              "      <th>2</th>\n",
              "      <td>Males</td>\n",
              "      <td>60</td>\n",
              "      <td>Communicable, maternal, perinatal and nutritio...</td>\n",
              "      <td>Infectious and parasitic diseases</td>\n",
              "      <td>STDs excluding HIV</td>\n",
              "      <td>Chlamydia</td>\n",
              "      <td>Afghanistan</td>\n",
              "      <td>0.0</td>\n",
              "      <td>AS</td>\n",
              "      <td>38042.0</td>\n",
              "    </tr>\n",
              "    <tr>\n",
              "      <th>3</th>\n",
              "      <td>Males</td>\n",
              "      <td>70</td>\n",
              "      <td>Communicable, maternal, perinatal and nutritio...</td>\n",
              "      <td>Infectious and parasitic diseases</td>\n",
              "      <td>STDs excluding HIV</td>\n",
              "      <td>Gonorrhoea</td>\n",
              "      <td>Afghanistan</td>\n",
              "      <td>0.0</td>\n",
              "      <td>AS</td>\n",
              "      <td>38042.0</td>\n",
              "    </tr>\n",
              "    <tr>\n",
              "      <th>4</th>\n",
              "      <td>Males</td>\n",
              "      <td>80</td>\n",
              "      <td>Communicable, maternal, perinatal and nutritio...</td>\n",
              "      <td>Infectious and parasitic diseases</td>\n",
              "      <td>STDs excluding HIV</td>\n",
              "      <td>Trichomoniasis</td>\n",
              "      <td>Afghanistan</td>\n",
              "      <td>0.0</td>\n",
              "      <td>AS</td>\n",
              "      <td>38042.0</td>\n",
              "    </tr>\n",
              "  </tbody>\n",
              "</table>\n",
              "</div>"
            ],
            "text/plain": [
              "     Sex  GHE code                                       GeneralCause  \\\n",
              "0  Males        30  Communicable, maternal, perinatal and nutritio...   \n",
              "1  Males        50  Communicable, maternal, perinatal and nutritio...   \n",
              "2  Males        60  Communicable, maternal, perinatal and nutritio...   \n",
              "3  Males        70  Communicable, maternal, perinatal and nutritio...   \n",
              "4  Males        80  Communicable, maternal, perinatal and nutritio...   \n",
              "\n",
              "                Disease_AccidentType   SpecificCondition     CauseDetail  \\\n",
              "0  Infectious and parasitic diseases        Tuberculosis         Unknown   \n",
              "1  Infectious and parasitic diseases  STDs excluding HIV        Syphilis   \n",
              "2  Infectious and parasitic diseases  STDs excluding HIV       Chlamydia   \n",
              "3  Infectious and parasitic diseases  STDs excluding HIV      Gonorrhoea   \n",
              "4  Infectious and parasitic diseases  STDs excluding HIV  Trichomoniasis   \n",
              "\n",
              "       Country  Deaths Continent  Population  \n",
              "0  Afghanistan     4.5        AS     38042.0  \n",
              "1  Afghanistan     0.1        AS     38042.0  \n",
              "2  Afghanistan     0.0        AS     38042.0  \n",
              "3  Afghanistan     0.0        AS     38042.0  \n",
              "4  Afghanistan     0.0        AS     38042.0  "
            ]
          },
          "execution_count": 26,
          "metadata": {},
          "output_type": "execute_result"
        }
      ],
      "source": [
        "# Transpose the population data DataFrame\n",
        "population_data_transposed = population_data.T\n",
        "\n",
        "# Reset the index of the DataFrame\n",
        "population_data_transposed.reset_index(inplace=True)\n",
        "\n",
        "# Rename the columns\n",
        "population_data_transposed.columns = ['Country', 'Population']\n",
        "\n",
        "# Merge the reshaped_data and population_data_transposed DataFrames\n",
        "merged_data = pd.merge(reshaped_data, population_data_transposed, on='Country', how='left')\n",
        "\n",
        "# Display the first few rows of the merged DataFrame\n",
        "merged_data.head()"
      ]
    },
    {
      "cell_type": "code",
      "execution_count": 27,
      "id": "51b79f1b-537e-45f8-bebe-a6f977ed5a53",
      "metadata": {
        "ExecuteTime": {
          "end_time": "2023-08-04T02:46:59.323887+00:00",
          "start_time": "2023-08-04T02:46:59.088853+00:00"
        },
        "jupyter": {
          "outputs_hidden": false,
          "source_hidden": false
        },
        "noteable": {
          "cell_type": "code",
          "output_collection_id": "b3d70d26-8583-420f-a655-a1d8c6f300f2"
        }
      },
      "outputs": [
        {
          "name": "stdout",
          "output_type": "stream",
          "text": [
            "<class 'pandas.core.frame.DataFrame'>\n",
            "Int64Index: 62220 entries, 0 to 62219\n",
            "Data columns (total 10 columns):\n",
            " #   Column                Non-Null Count  Dtype  \n",
            "---  ------                --------------  -----  \n",
            " 0   Sex                   62220 non-null  object \n",
            " 1   GHE code              62220 non-null  int64  \n",
            " 2   GeneralCause          62220 non-null  object \n",
            " 3   Disease_AccidentType  62220 non-null  object \n",
            " 4   SpecificCondition     62220 non-null  object \n",
            " 5   CauseDetail           62220 non-null  object \n",
            " 6   Country               62220 non-null  object \n",
            " 7   Deaths                62220 non-null  float64\n",
            " 8   Continent             62220 non-null  object \n",
            " 9   Population            61880 non-null  float64\n",
            "dtypes: float64(2), int64(1), object(7)\n",
            "memory usage: 5.2+ MB\n"
          ]
        }
      ],
      "source": [
        "merged_data.info()"
      ]
    },
    {
      "cell_type": "markdown",
      "id": "bbb199ad-139c-4b5a-8eea-fe92833515cf",
      "metadata": {
        "noteable": {
          "cell_type": "markdown"
        }
      },
      "source": [
        "The 'Population' column in the merged DataFrame has 61,880 entries."
      ]
    },
    {
      "cell_type": "markdown",
      "id": "f1da5413-8a51-4338-a745-3bb0b42d69e9",
      "metadata": {
        "noteable": {
          "cell_type": "markdown"
        }
      },
      "source": [
        "To normalize the data by the population of each country and get the death rate, we could create a new column in your DataFrame that represents the death rate. This can be calculated by dividing the number of deaths by the population and then multiplying by a normalization factor."
      ]
    },
    {
      "cell_type": "code",
      "execution_count": 28,
      "id": "248b330e-eb63-4c2b-b278-f363e3ba8fb8",
      "metadata": {
        "ExecuteTime": {
          "end_time": "2023-08-04T02:47:04.921297+00:00",
          "start_time": "2023-08-04T02:47:04.670102+00:00"
        },
        "datalink": {
          "19beeb55-f4b8-4432-88ad-4d2f3bee9579": {
            "applied_filters": [],
            "dataframe_info": {
              "default_index_used": true,
              "orig_num_cols": 11,
              "orig_num_rows": 5,
              "orig_size_bytes": 480,
              "truncated_num_cols": 11,
              "truncated_num_rows": 5,
              "truncated_size_bytes": 480,
              "truncated_string_columns": []
            },
            "display_id": "19beeb55-f4b8-4432-88ad-4d2f3bee9579",
            "dx_settings": {
              "ALLOW_NOTEABLE_ATTRS": true,
              "COLUMN_SAMPLING_METHOD": "outer",
              "DB_LOCATION": ":memory:",
              "DEV_MODE": false,
              "DISPLAY_MAX_COLUMNS": 100,
              "DISPLAY_MAX_ROWS": 50000,
              "DISPLAY_MODE": "simple",
              "ENABLE_ASSIGNMENT": true,
              "ENABLE_DATALINK": true,
              "FLATTEN_COLUMN_VALUES": true,
              "FLATTEN_INDEX_VALUES": false,
              "GENERATE_DEX_METADATA": false,
              "HTML_TABLE_SCHEMA": false,
              "LOG_LEVEL": 30,
              "MAX_RENDER_SIZE_BYTES": 104857600,
              "MAX_STRING_LENGTH": 250,
              "NUM_PAST_SAMPLES_TRACKED": 3,
              "RANDOM_STATE": 12648430,
              "RESET_INDEX_VALUES": false,
              "ROW_SAMPLING_METHOD": "random",
              "SAMPLING_FACTOR": 0.1,
              "SAMPLING_METHOD": "random",
              "STRINGIFY_COLUMN_VALUES": true,
              "STRINGIFY_INDEX_VALUES": false
            },
            "sample_history": [],
            "sampling_time": "2023-08-03T20:32:07.957126",
            "user_variable_name": null,
            "variable_name": "unk_dataframe_c015ce765e344c478594c355b8585272"
          },
          "4b24361f-77a3-46b5-a061-fc3c3333e00a": {
            "applied_filters": [],
            "dataframe_info": {
              "default_index_used": true,
              "orig_num_cols": 11,
              "orig_num_rows": 5,
              "orig_size_bytes": 480,
              "truncated_num_cols": 11,
              "truncated_num_rows": 5,
              "truncated_size_bytes": 480,
              "truncated_string_columns": []
            },
            "display_id": "4b24361f-77a3-46b5-a061-fc3c3333e00a",
            "dx_settings": {
              "ALLOW_NOTEABLE_ATTRS": true,
              "COLUMN_SAMPLING_METHOD": "outer",
              "DB_LOCATION": ":memory:",
              "DEV_MODE": false,
              "DISPLAY_MAX_COLUMNS": 100,
              "DISPLAY_MAX_ROWS": 50000,
              "DISPLAY_MODE": "simple",
              "ENABLE_ASSIGNMENT": true,
              "ENABLE_DATALINK": true,
              "FLATTEN_COLUMN_VALUES": true,
              "FLATTEN_INDEX_VALUES": false,
              "GENERATE_DEX_METADATA": false,
              "HTML_TABLE_SCHEMA": false,
              "LOG_LEVEL": 30,
              "MAX_RENDER_SIZE_BYTES": 104857600,
              "MAX_STRING_LENGTH": 250,
              "NUM_PAST_SAMPLES_TRACKED": 3,
              "RANDOM_STATE": 12648430,
              "RESET_INDEX_VALUES": false,
              "ROW_SAMPLING_METHOD": "random",
              "SAMPLING_FACTOR": 0.1,
              "SAMPLING_METHOD": "random",
              "STRINGIFY_COLUMN_VALUES": true,
              "STRINGIFY_INDEX_VALUES": false
            },
            "sample_history": [],
            "sampling_time": "2023-07-27T18:29:08.969380",
            "user_variable_name": null,
            "variable_name": "unk_dataframe_436a7d285cf34bfa82b8a62cf4e83fe3"
          },
          "7114ec1d-5766-498e-a97b-4a98903e83a5": {
            "applied_filters": [],
            "dataframe_info": {
              "default_index_used": true,
              "orig_num_cols": 11,
              "orig_num_rows": 5,
              "orig_size_bytes": 480,
              "truncated_num_cols": 11,
              "truncated_num_rows": 5,
              "truncated_size_bytes": 480,
              "truncated_string_columns": []
            },
            "display_id": "7114ec1d-5766-498e-a97b-4a98903e83a5",
            "dx_settings": {
              "ALLOW_NOTEABLE_ATTRS": true,
              "COLUMN_SAMPLING_METHOD": "outer",
              "DB_LOCATION": ":memory:",
              "DEV_MODE": false,
              "DISPLAY_MAX_COLUMNS": 100,
              "DISPLAY_MAX_ROWS": 50000,
              "DISPLAY_MODE": "simple",
              "ENABLE_ASSIGNMENT": true,
              "ENABLE_DATALINK": true,
              "FLATTEN_COLUMN_VALUES": true,
              "FLATTEN_INDEX_VALUES": false,
              "GENERATE_DEX_METADATA": false,
              "HTML_TABLE_SCHEMA": false,
              "LOG_LEVEL": 30,
              "MAX_RENDER_SIZE_BYTES": 104857600,
              "MAX_STRING_LENGTH": 250,
              "NUM_PAST_SAMPLES_TRACKED": 3,
              "RANDOM_STATE": 12648430,
              "RESET_INDEX_VALUES": false,
              "ROW_SAMPLING_METHOD": "random",
              "SAMPLING_FACTOR": 0.1,
              "SAMPLING_METHOD": "random",
              "STRINGIFY_COLUMN_VALUES": true,
              "STRINGIFY_INDEX_VALUES": false
            },
            "sample_history": [],
            "sampling_time": "2023-08-03T17:01:44.317107",
            "user_variable_name": null,
            "variable_name": "unk_dataframe_942dd4022dc14a8c949d2547a1136827"
          },
          "9485c69f-1210-4599-b83a-89173a0f65fe": {
            "applied_filters": [],
            "dataframe_info": {
              "default_index_used": true,
              "orig_num_cols": 11,
              "orig_num_rows": 5,
              "orig_size_bytes": 480,
              "truncated_num_cols": 11,
              "truncated_num_rows": 5,
              "truncated_size_bytes": 480,
              "truncated_string_columns": []
            },
            "display_id": "9485c69f-1210-4599-b83a-89173a0f65fe",
            "dx_settings": {
              "ALLOW_NOTEABLE_ATTRS": true,
              "COLUMN_SAMPLING_METHOD": "outer",
              "DB_LOCATION": ":memory:",
              "DEV_MODE": false,
              "DISPLAY_MAX_COLUMNS": 100,
              "DISPLAY_MAX_ROWS": 50000,
              "DISPLAY_MODE": "simple",
              "ENABLE_ASSIGNMENT": true,
              "ENABLE_DATALINK": true,
              "FLATTEN_COLUMN_VALUES": true,
              "FLATTEN_INDEX_VALUES": false,
              "GENERATE_DEX_METADATA": false,
              "HTML_TABLE_SCHEMA": false,
              "LOG_LEVEL": 30,
              "MAX_RENDER_SIZE_BYTES": 104857600,
              "MAX_STRING_LENGTH": 250,
              "NUM_PAST_SAMPLES_TRACKED": 3,
              "RANDOM_STATE": 12648430,
              "RESET_INDEX_VALUES": false,
              "ROW_SAMPLING_METHOD": "random",
              "SAMPLING_FACTOR": 0.1,
              "SAMPLING_METHOD": "random",
              "STRINGIFY_COLUMN_VALUES": true,
              "STRINGIFY_INDEX_VALUES": false
            },
            "sample_history": [],
            "sampling_time": "2023-08-04T02:47:04.763256",
            "user_variable_name": null,
            "variable_name": "unk_dataframe_6343cf499bc14991a2969fea6503ad83"
          },
          "ae151c3d-b8d7-491a-b681-528f3a1984ef": {
            "applied_filters": [],
            "dataframe_info": {
              "default_index_used": true,
              "orig_num_cols": 11,
              "orig_num_rows": 5,
              "orig_size_bytes": 480,
              "truncated_num_cols": 11,
              "truncated_num_rows": 5,
              "truncated_size_bytes": 480,
              "truncated_string_columns": []
            },
            "display_id": "ae151c3d-b8d7-491a-b681-528f3a1984ef",
            "dx_settings": {
              "ALLOW_NOTEABLE_ATTRS": true,
              "COLUMN_SAMPLING_METHOD": "outer",
              "DB_LOCATION": ":memory:",
              "DEV_MODE": false,
              "DISPLAY_MAX_COLUMNS": 100,
              "DISPLAY_MAX_ROWS": 50000,
              "DISPLAY_MODE": "simple",
              "ENABLE_ASSIGNMENT": true,
              "ENABLE_DATALINK": true,
              "FLATTEN_COLUMN_VALUES": true,
              "FLATTEN_INDEX_VALUES": false,
              "GENERATE_DEX_METADATA": false,
              "HTML_TABLE_SCHEMA": false,
              "LOG_LEVEL": 30,
              "MAX_RENDER_SIZE_BYTES": 104857600,
              "MAX_STRING_LENGTH": 250,
              "NUM_PAST_SAMPLES_TRACKED": 3,
              "RANDOM_STATE": 12648430,
              "RESET_INDEX_VALUES": false,
              "ROW_SAMPLING_METHOD": "random",
              "SAMPLING_FACTOR": 0.1,
              "SAMPLING_METHOD": "random",
              "STRINGIFY_COLUMN_VALUES": true,
              "STRINGIFY_INDEX_VALUES": false
            },
            "sample_history": [],
            "sampling_time": "2023-07-25T17:42:45.876545",
            "user_variable_name": null,
            "variable_name": "unk_dataframe_43d150cdb9ee435e94b65fe4f06dd293"
          },
          "d39d5266-fbc6-4ec8-93ae-f0289cfd9626": {
            "applied_filters": [],
            "dataframe_info": {
              "default_index_used": true,
              "orig_num_cols": 11,
              "orig_num_rows": 5,
              "orig_size_bytes": 480,
              "truncated_num_cols": 11,
              "truncated_num_rows": 5,
              "truncated_size_bytes": 480,
              "truncated_string_columns": []
            },
            "display_id": "d39d5266-fbc6-4ec8-93ae-f0289cfd9626",
            "dx_settings": {
              "ALLOW_NOTEABLE_ATTRS": true,
              "COLUMN_SAMPLING_METHOD": "outer",
              "DB_LOCATION": ":memory:",
              "DEV_MODE": false,
              "DISPLAY_MAX_COLUMNS": 100,
              "DISPLAY_MAX_ROWS": 50000,
              "DISPLAY_MODE": "simple",
              "ENABLE_ASSIGNMENT": true,
              "ENABLE_DATALINK": true,
              "FLATTEN_COLUMN_VALUES": true,
              "FLATTEN_INDEX_VALUES": false,
              "GENERATE_DEX_METADATA": false,
              "HTML_TABLE_SCHEMA": false,
              "LOG_LEVEL": 30,
              "MAX_RENDER_SIZE_BYTES": 104857600,
              "MAX_STRING_LENGTH": 250,
              "NUM_PAST_SAMPLES_TRACKED": 3,
              "RANDOM_STATE": 12648430,
              "RESET_INDEX_VALUES": false,
              "ROW_SAMPLING_METHOD": "random",
              "SAMPLING_FACTOR": 0.1,
              "SAMPLING_METHOD": "random",
              "STRINGIFY_COLUMN_VALUES": true,
              "STRINGIFY_INDEX_VALUES": false
            },
            "sample_history": [],
            "sampling_time": "2023-07-28T00:58:39.708825",
            "user_variable_name": null,
            "variable_name": "unk_dataframe_79a1e92ab33c439b981ab94af6765ea5"
          }
        },
        "noteable": {
          "cell_type": "code",
          "output_collection_id": "66ac5b2b-df76-4057-871a-8af1b2f6e23d"
        }
      },
      "outputs": [
        {
          "data": {
            "text/html": [
              "<div>\n",
              "<style scoped>\n",
              "    .dataframe tbody tr th:only-of-type {\n",
              "        vertical-align: middle;\n",
              "    }\n",
              "\n",
              "    .dataframe tbody tr th {\n",
              "        vertical-align: top;\n",
              "    }\n",
              "\n",
              "    .dataframe thead th {\n",
              "        text-align: right;\n",
              "    }\n",
              "</style>\n",
              "<table border=\"1\" class=\"dataframe\">\n",
              "  <thead>\n",
              "    <tr style=\"text-align: right;\">\n",
              "      <th></th>\n",
              "      <th>Sex</th>\n",
              "      <th>GHE code</th>\n",
              "      <th>GeneralCause</th>\n",
              "      <th>Disease_AccidentType</th>\n",
              "      <th>SpecificCondition</th>\n",
              "      <th>CauseDetail</th>\n",
              "      <th>Country</th>\n",
              "      <th>Deaths</th>\n",
              "      <th>Continent</th>\n",
              "      <th>Population</th>\n",
              "      <th>DeathRatePerThousand</th>\n",
              "    </tr>\n",
              "  </thead>\n",
              "  <tbody>\n",
              "    <tr>\n",
              "      <th>0</th>\n",
              "      <td>Males</td>\n",
              "      <td>30</td>\n",
              "      <td>Communicable, maternal, perinatal and nutritio...</td>\n",
              "      <td>Infectious and parasitic diseases</td>\n",
              "      <td>Tuberculosis</td>\n",
              "      <td>Unknown</td>\n",
              "      <td>Afghanistan</td>\n",
              "      <td>4.5</td>\n",
              "      <td>AS</td>\n",
              "      <td>38042.0</td>\n",
              "      <td>0.118290</td>\n",
              "    </tr>\n",
              "    <tr>\n",
              "      <th>1</th>\n",
              "      <td>Males</td>\n",
              "      <td>50</td>\n",
              "      <td>Communicable, maternal, perinatal and nutritio...</td>\n",
              "      <td>Infectious and parasitic diseases</td>\n",
              "      <td>STDs excluding HIV</td>\n",
              "      <td>Syphilis</td>\n",
              "      <td>Afghanistan</td>\n",
              "      <td>0.1</td>\n",
              "      <td>AS</td>\n",
              "      <td>38042.0</td>\n",
              "      <td>0.002629</td>\n",
              "    </tr>\n",
              "    <tr>\n",
              "      <th>2</th>\n",
              "      <td>Males</td>\n",
              "      <td>60</td>\n",
              "      <td>Communicable, maternal, perinatal and nutritio...</td>\n",
              "      <td>Infectious and parasitic diseases</td>\n",
              "      <td>STDs excluding HIV</td>\n",
              "      <td>Chlamydia</td>\n",
              "      <td>Afghanistan</td>\n",
              "      <td>0.0</td>\n",
              "      <td>AS</td>\n",
              "      <td>38042.0</td>\n",
              "      <td>0.000000</td>\n",
              "    </tr>\n",
              "    <tr>\n",
              "      <th>3</th>\n",
              "      <td>Males</td>\n",
              "      <td>70</td>\n",
              "      <td>Communicable, maternal, perinatal and nutritio...</td>\n",
              "      <td>Infectious and parasitic diseases</td>\n",
              "      <td>STDs excluding HIV</td>\n",
              "      <td>Gonorrhoea</td>\n",
              "      <td>Afghanistan</td>\n",
              "      <td>0.0</td>\n",
              "      <td>AS</td>\n",
              "      <td>38042.0</td>\n",
              "      <td>0.000000</td>\n",
              "    </tr>\n",
              "    <tr>\n",
              "      <th>4</th>\n",
              "      <td>Males</td>\n",
              "      <td>80</td>\n",
              "      <td>Communicable, maternal, perinatal and nutritio...</td>\n",
              "      <td>Infectious and parasitic diseases</td>\n",
              "      <td>STDs excluding HIV</td>\n",
              "      <td>Trichomoniasis</td>\n",
              "      <td>Afghanistan</td>\n",
              "      <td>0.0</td>\n",
              "      <td>AS</td>\n",
              "      <td>38042.0</td>\n",
              "      <td>0.000000</td>\n",
              "    </tr>\n",
              "  </tbody>\n",
              "</table>\n",
              "</div>"
            ],
            "text/plain": [
              "     Sex  GHE code                                       GeneralCause  \\\n",
              "0  Males        30  Communicable, maternal, perinatal and nutritio...   \n",
              "1  Males        50  Communicable, maternal, perinatal and nutritio...   \n",
              "2  Males        60  Communicable, maternal, perinatal and nutritio...   \n",
              "3  Males        70  Communicable, maternal, perinatal and nutritio...   \n",
              "4  Males        80  Communicable, maternal, perinatal and nutritio...   \n",
              "\n",
              "                Disease_AccidentType   SpecificCondition     CauseDetail  \\\n",
              "0  Infectious and parasitic diseases        Tuberculosis         Unknown   \n",
              "1  Infectious and parasitic diseases  STDs excluding HIV        Syphilis   \n",
              "2  Infectious and parasitic diseases  STDs excluding HIV       Chlamydia   \n",
              "3  Infectious and parasitic diseases  STDs excluding HIV      Gonorrhoea   \n",
              "4  Infectious and parasitic diseases  STDs excluding HIV  Trichomoniasis   \n",
              "\n",
              "       Country  Deaths Continent  Population  DeathRatePerThousand  \n",
              "0  Afghanistan     4.5        AS     38042.0              0.118290  \n",
              "1  Afghanistan     0.1        AS     38042.0              0.002629  \n",
              "2  Afghanistan     0.0        AS     38042.0              0.000000  \n",
              "3  Afghanistan     0.0        AS     38042.0              0.000000  \n",
              "4  Afghanistan     0.0        AS     38042.0              0.000000  "
            ]
          },
          "execution_count": 28,
          "metadata": {},
          "output_type": "execute_result"
        }
      ],
      "source": [
        "# Calculate the death rate per thousand individuals\n",
        "merged_data['DeathRatePerThousand'] = (merged_data['Deaths'] / merged_data['Population']) * 1000\n",
        "\n",
        "# Display the first few rows of the DataFrame\n",
        "merged_data.head()"
      ]
    },
    {
      "cell_type": "markdown",
      "id": "e9ea801a-ae30-4413-812d-221dea0a689d",
      "metadata": {
        "noteable": {
          "cell_type": "markdown"
        }
      },
      "source": [
        "Per Thousand (Normalization Factor = 1,000): This would give you the death rate per thousand individuals. This is a common normalization factor used in demographic statistics."
      ]
    },
    {
      "cell_type": "code",
      "execution_count": 29,
      "id": "8616c929-0c11-4092-b7e6-541415528424",
      "metadata": {
        "ExecuteTime": {
          "end_time": "2023-08-03T20:32:08.750336+00:00",
          "start_time": "2023-08-03T20:32:08.123382+00:00"
        },
        "noteable": {
          "cell_type": "code",
          "output_collection_id": "aacf8dde-86c9-4842-8778-5208c7497b0c"
        }
      },
      "outputs": [],
      "source": [
        "# Convert the DataFrame to a CSV file\n",
        "merged_data.to_csv('DataCleanDeaths.csv', index=False)"
      ]
    },
    {
      "cell_type": "markdown",
      "id": "00b04a9e-4031-44d4-8a2f-ba78f3514280",
      "metadata": {
        "noteable": {
          "cell_type": "markdown"
        }
      },
      "source": [
        "Data Clean and Exploratory analysis ready"
      ]
    },
    {
      "cell_type": "markdown",
      "id": "eeb8c25c",
      "metadata": {},
      "source": [
        "\n",
        "# Data Analysis Conclusion\n",
        "\n",
        "# KPI\n",
        "\n",
        "The analysis of the global mortality data for the year 2019 provided several key insights into the patterns and distribution of deaths across different countries, diseases, and demographic groups. Some of the main findings include:\n",
        "\n",
        "- Distribution of Deaths: The data revealed a wide variation in the number of deaths across different countries and continents. The highest number of deaths were observed in Asia, followed by Africa and Europe.\n",
        "  \n",
        "- Causes of Death: Different categories of diseases and accidents were analyzed, showing that non-communicable diseases (NCDs) were the leading cause of death globally.\n",
        "\n",
        "- Specific Conditions: Within the broader categories, specific conditions such as cardiovascular diseases, respiratory infections, and cancers were found to be prominent causes of death.\n",
        "\n",
        "- Gender Differences: The analysis also highlighted differences in mortality rates between males and females for certain conditions.\n",
        "\n",
        "- More KPI are comming in the Data Dashboard in Tableau\n",
        "\n",
        "# Interpretation of Results\n",
        "The findings provide a comprehensive view of the global mortality landscape, emphasizing the importance of addressing non-communicable diseases and understanding regional variations. The disparities in death rates across countries may reflect differences in healthcare systems, lifestyle factors, and socio-economic conditions.\n",
        "\n",
        "# Comparison with 2020\n",
        "The analysis focused on the year 2019, prior to the global COVID-19 pandemic. It would be valuable to compare the prominence of NCDs in 2019 with the mortality data for 2020, when a transmissible virus caused a significant number of deaths worldwide. Such a comparison could provide insights into the impact of the pandemic on global mortality patterns and highlight the continued importance of addressing both communicable and non-communicable diseases.\n",
        "\n",
        "# Limitations\n",
        "The analysis faced certain limitations, including missing values in the population data for some countries and the challenge of handling a wide range of specific conditions. Additionally, the data only represents a single year, limiting the ability to analyze trends over time.\n",
        "\n",
        "# Recommendations and Actionable Insights\n",
        "Based on the analysis, the following recommendations are made:\n",
        "\n",
        "- Focus on NCDs: Governments and healthcare organizations should prioritize interventions targeting non-communicable diseases, as they constitute the leading cause of death.\n",
        "- Regional Strategies: Tailored strategies should be developed to address the specific causes of death prevalent in different regions and countries.\n",
        "- Gender-Sensitive Approaches: Consideration of gender differences in mortality rates may inform more effective prevention and treatment strategies.\n",
        "\n",
        "# Future Work\n",
        "Further research could explore trends over multiple years, analyze age-specific mortality rates, and investigate the impact of various socio-economic factors on mortality. Collaboration with healthcare experts could also enhance the interpretation of the findings.\n",
        "\n"
      ]
    },
    {
      "cell_type": "markdown",
      "id": "f4ef08d9",
      "metadata": {},
      "source": [
        "______________________________________"
      ]
    },
    {
      "cell_type": "markdown",
      "id": "19b4f6bc-51c3-4d26-9964-725a0adf3445",
      "metadata": {
        "noteable": {
          "cell_type": "markdown"
        }
      },
      "source": [
        "\n",
        "\n",
        "## The Supervised Learning  model\n",
        "\n",
        "## Logistic Regression\t\n",
        "\n",
        "Logistic Regression can be adapted for multiclass classification using techniques such as one-vs-all or one-vs-one.\t\n",
        "\n",
        "Can be used to predict the 'SpecificCondition' based on the features. It's a simple and fast model.\tA probability that the given input point belongs to a certain class."
      ]
    },
    {
      "cell_type": "markdown",
      "id": "a586147c-b6de-488b-abe1-e1e4076b6e94",
      "metadata": {
        "noteable": {
          "cell_type": "markdown"
        }
      },
      "source": [
        "## Data Preprocessing\n",
        "\n",
        "Before we can apply Logistic Regression, we need to preprocess the data. This includes encoding categorical variables (like 'Sex', 'GeneralCause', 'Disease_AccidentType', 'Country', and 'Continent') into numerical values, and scaling numerical variables (like 'GHE code', 'Deaths', and 'Population')."
      ]
    },
    {
      "cell_type": "code",
      "execution_count": null,
      "id": "d364d137-2258-416d-b468-f349fd5b4267",
      "metadata": {
        "ExecuteTime": {
          "end_time": "2023-08-03T20:32:09.135173+00:00",
          "start_time": "2023-08-03T20:32:08.760085+00:00"
        },
        "datalink": {
          "0b98ea2b-963a-4aab-90ed-6c4b156b50d6": {
            "applied_filters": [],
            "dataframe_info": {
              "default_index_used": true,
              "orig_num_cols": 11,
              "orig_num_rows": 5,
              "orig_size_bytes": 480,
              "truncated_num_cols": 11,
              "truncated_num_rows": 5,
              "truncated_size_bytes": 480,
              "truncated_string_columns": []
            },
            "display_id": "0b98ea2b-963a-4aab-90ed-6c4b156b50d6",
            "dx_settings": {
              "ALLOW_NOTEABLE_ATTRS": true,
              "COLUMN_SAMPLING_METHOD": "outer",
              "DB_LOCATION": ":memory:",
              "DEV_MODE": false,
              "DISPLAY_MAX_COLUMNS": 100,
              "DISPLAY_MAX_ROWS": 50000,
              "DISPLAY_MODE": "simple",
              "ENABLE_ASSIGNMENT": true,
              "ENABLE_DATALINK": true,
              "FLATTEN_COLUMN_VALUES": true,
              "FLATTEN_INDEX_VALUES": false,
              "GENERATE_DEX_METADATA": false,
              "HTML_TABLE_SCHEMA": false,
              "LOG_LEVEL": 30,
              "MAX_RENDER_SIZE_BYTES": 104857600,
              "MAX_STRING_LENGTH": 250,
              "NUM_PAST_SAMPLES_TRACKED": 3,
              "RANDOM_STATE": 12648430,
              "RESET_INDEX_VALUES": false,
              "ROW_SAMPLING_METHOD": "random",
              "SAMPLING_FACTOR": 0.1,
              "SAMPLING_METHOD": "random",
              "STRINGIFY_COLUMN_VALUES": true,
              "STRINGIFY_INDEX_VALUES": false
            },
            "sample_history": [],
            "sampling_time": "2023-07-28T00:58:40.846568",
            "user_variable_name": null,
            "variable_name": "unk_dataframe_c7a2aec25a44467eb449ebfc1929d262"
          },
          "416e1043-a04c-459f-bc22-0949fe5cb320": {
            "applied_filters": [],
            "dataframe_info": {
              "default_index_used": true,
              "orig_num_cols": 11,
              "orig_num_rows": 5,
              "orig_size_bytes": 480,
              "truncated_num_cols": 11,
              "truncated_num_rows": 5,
              "truncated_size_bytes": 480,
              "truncated_string_columns": []
            },
            "display_id": "416e1043-a04c-459f-bc22-0949fe5cb320",
            "dx_settings": {
              "ALLOW_NOTEABLE_ATTRS": true,
              "COLUMN_SAMPLING_METHOD": "outer",
              "DB_LOCATION": ":memory:",
              "DEV_MODE": false,
              "DISPLAY_MAX_COLUMNS": 100,
              "DISPLAY_MAX_ROWS": 50000,
              "DISPLAY_MODE": "simple",
              "ENABLE_ASSIGNMENT": true,
              "ENABLE_DATALINK": true,
              "FLATTEN_COLUMN_VALUES": true,
              "FLATTEN_INDEX_VALUES": false,
              "GENERATE_DEX_METADATA": false,
              "HTML_TABLE_SCHEMA": false,
              "LOG_LEVEL": 30,
              "MAX_RENDER_SIZE_BYTES": 104857600,
              "MAX_STRING_LENGTH": 250,
              "NUM_PAST_SAMPLES_TRACKED": 3,
              "RANDOM_STATE": 12648430,
              "RESET_INDEX_VALUES": false,
              "ROW_SAMPLING_METHOD": "random",
              "SAMPLING_FACTOR": 0.1,
              "SAMPLING_METHOD": "random",
              "STRINGIFY_COLUMN_VALUES": true,
              "STRINGIFY_INDEX_VALUES": false
            },
            "sample_history": [],
            "sampling_time": "2023-07-28T01:05:29.287762",
            "user_variable_name": null,
            "variable_name": "unk_dataframe_b88b6361bfef4e0c9eb2aeb1d6c1387a"
          },
          "71f6a7ef-ae04-4601-b6a5-e4b1e9865a27": {
            "applied_filters": [],
            "dataframe_info": {
              "default_index_used": true,
              "orig_num_cols": 11,
              "orig_num_rows": 5,
              "orig_size_bytes": 480,
              "truncated_num_cols": 11,
              "truncated_num_rows": 5,
              "truncated_size_bytes": 480,
              "truncated_string_columns": []
            },
            "display_id": "71f6a7ef-ae04-4601-b6a5-e4b1e9865a27",
            "dx_settings": {
              "ALLOW_NOTEABLE_ATTRS": true,
              "COLUMN_SAMPLING_METHOD": "outer",
              "DB_LOCATION": ":memory:",
              "DEV_MODE": false,
              "DISPLAY_MAX_COLUMNS": 100,
              "DISPLAY_MAX_ROWS": 50000,
              "DISPLAY_MODE": "simple",
              "ENABLE_ASSIGNMENT": true,
              "ENABLE_DATALINK": true,
              "FLATTEN_COLUMN_VALUES": true,
              "FLATTEN_INDEX_VALUES": false,
              "GENERATE_DEX_METADATA": false,
              "HTML_TABLE_SCHEMA": false,
              "LOG_LEVEL": 30,
              "MAX_RENDER_SIZE_BYTES": 104857600,
              "MAX_STRING_LENGTH": 250,
              "NUM_PAST_SAMPLES_TRACKED": 3,
              "RANDOM_STATE": 12648430,
              "RESET_INDEX_VALUES": false,
              "ROW_SAMPLING_METHOD": "random",
              "SAMPLING_FACTOR": 0.1,
              "SAMPLING_METHOD": "random",
              "STRINGIFY_COLUMN_VALUES": true,
              "STRINGIFY_INDEX_VALUES": false
            },
            "sample_history": [],
            "sampling_time": "2023-08-03T17:02:32.644778",
            "user_variable_name": null,
            "variable_name": "unk_dataframe_3eaf197e23984ad2b462c7d9f4fd2bd0"
          },
          "89a0bccf-6c4f-4358-913b-bf40c455f23d": {
            "applied_filters": [],
            "dataframe_info": {
              "default_index_used": true,
              "orig_num_cols": 11,
              "orig_num_rows": 5,
              "orig_size_bytes": 480,
              "truncated_num_cols": 11,
              "truncated_num_rows": 5,
              "truncated_size_bytes": 480,
              "truncated_string_columns": []
            },
            "display_id": "89a0bccf-6c4f-4358-913b-bf40c455f23d",
            "dx_settings": {
              "ALLOW_NOTEABLE_ATTRS": true,
              "COLUMN_SAMPLING_METHOD": "outer",
              "DB_LOCATION": ":memory:",
              "DEV_MODE": false,
              "DISPLAY_MAX_COLUMNS": 100,
              "DISPLAY_MAX_ROWS": 50000,
              "DISPLAY_MODE": "simple",
              "ENABLE_ASSIGNMENT": true,
              "ENABLE_DATALINK": true,
              "FLATTEN_COLUMN_VALUES": true,
              "FLATTEN_INDEX_VALUES": false,
              "GENERATE_DEX_METADATA": false,
              "HTML_TABLE_SCHEMA": false,
              "LOG_LEVEL": 30,
              "MAX_RENDER_SIZE_BYTES": 104857600,
              "MAX_STRING_LENGTH": 250,
              "NUM_PAST_SAMPLES_TRACKED": 3,
              "RANDOM_STATE": 12648430,
              "RESET_INDEX_VALUES": false,
              "ROW_SAMPLING_METHOD": "random",
              "SAMPLING_FACTOR": 0.1,
              "SAMPLING_METHOD": "random",
              "STRINGIFY_COLUMN_VALUES": true,
              "STRINGIFY_INDEX_VALUES": false
            },
            "sample_history": [],
            "sampling_time": "2023-07-27T18:51:36.162663",
            "user_variable_name": null,
            "variable_name": "unk_dataframe_249b87a7f82e4591a0ec14ccd3961b41"
          },
          "d9588888-d3b1-48e7-b052-d10280fcb9ec": {
            "applied_filters": [],
            "dataframe_info": {
              "default_index_used": true,
              "orig_num_cols": 11,
              "orig_num_rows": 5,
              "orig_size_bytes": 480,
              "truncated_num_cols": 11,
              "truncated_num_rows": 5,
              "truncated_size_bytes": 480,
              "truncated_string_columns": []
            },
            "display_id": "d9588888-d3b1-48e7-b052-d10280fcb9ec",
            "dx_settings": {
              "ALLOW_NOTEABLE_ATTRS": true,
              "COLUMN_SAMPLING_METHOD": "outer",
              "DB_LOCATION": ":memory:",
              "DEV_MODE": false,
              "DISPLAY_MAX_COLUMNS": 100,
              "DISPLAY_MAX_ROWS": 50000,
              "DISPLAY_MODE": "simple",
              "ENABLE_ASSIGNMENT": true,
              "ENABLE_DATALINK": true,
              "FLATTEN_COLUMN_VALUES": true,
              "FLATTEN_INDEX_VALUES": false,
              "GENERATE_DEX_METADATA": false,
              "HTML_TABLE_SCHEMA": false,
              "LOG_LEVEL": 30,
              "MAX_RENDER_SIZE_BYTES": 104857600,
              "MAX_STRING_LENGTH": 250,
              "NUM_PAST_SAMPLES_TRACKED": 3,
              "RANDOM_STATE": 12648430,
              "RESET_INDEX_VALUES": false,
              "ROW_SAMPLING_METHOD": "random",
              "SAMPLING_FACTOR": 0.1,
              "SAMPLING_METHOD": "random",
              "STRINGIFY_COLUMN_VALUES": true,
              "STRINGIFY_INDEX_VALUES": false
            },
            "sample_history": [],
            "sampling_time": "2023-08-03T20:32:08.974644",
            "user_variable_name": null,
            "variable_name": "unk_dataframe_6e2fb40edd5f43b58ebbbf84e20607ee"
          },
          "ee4f0b41-ef83-40b9-b602-7306eb7a8653": {
            "applied_filters": [],
            "dataframe_info": {
              "default_index_used": true,
              "orig_num_cols": 11,
              "orig_num_rows": 5,
              "orig_size_bytes": 480,
              "truncated_num_cols": 11,
              "truncated_num_rows": 5,
              "truncated_size_bytes": 480,
              "truncated_string_columns": []
            },
            "display_id": "ee4f0b41-ef83-40b9-b602-7306eb7a8653",
            "dx_settings": {
              "ALLOW_NOTEABLE_ATTRS": true,
              "COLUMN_SAMPLING_METHOD": "outer",
              "DB_LOCATION": ":memory:",
              "DEV_MODE": false,
              "DISPLAY_MAX_COLUMNS": 100,
              "DISPLAY_MAX_ROWS": 50000,
              "DISPLAY_MODE": "simple",
              "ENABLE_ASSIGNMENT": true,
              "ENABLE_DATALINK": true,
              "FLATTEN_COLUMN_VALUES": true,
              "FLATTEN_INDEX_VALUES": false,
              "GENERATE_DEX_METADATA": false,
              "HTML_TABLE_SCHEMA": false,
              "LOG_LEVEL": 30,
              "MAX_RENDER_SIZE_BYTES": 104857600,
              "MAX_STRING_LENGTH": 250,
              "NUM_PAST_SAMPLES_TRACKED": 3,
              "RANDOM_STATE": 12648430,
              "RESET_INDEX_VALUES": false,
              "ROW_SAMPLING_METHOD": "random",
              "SAMPLING_FACTOR": 0.1,
              "SAMPLING_METHOD": "random",
              "STRINGIFY_COLUMN_VALUES": true,
              "STRINGIFY_INDEX_VALUES": false
            },
            "sample_history": [],
            "sampling_time": "2023-08-03T17:07:56.284581",
            "user_variable_name": null,
            "variable_name": "unk_dataframe_4b16c6960c4f450099e868633ef4fd3c"
          }
        },
        "noteable": {
          "cell_type": "code",
          "output_collection_id": "b028a350-09ec-48c9-960c-a6df83213fd8"
        }
      },
      "outputs": [],
      "source": [
        "# Import necessary libraries\n",
        "from sklearn.preprocessing import LabelEncoder, StandardScaler\n",
        "\n",
        "# Create a copy of the DataFrame to avoid modifying the original data\n",
        "data_preprocessed = merged_data.copy()\n",
        "\n",
        "# Initialize LabelEncoder\n",
        "le = LabelEncoder()\n",
        "\n",
        "# List of categorical columns to encode\n",
        "categorical_cols = ['Sex', 'GeneralCause', 'Disease_AccidentType', 'Country', 'Continent']\n",
        "\n",
        "# Encode categorical columns\n",
        "for col in categorical_cols:\n",
        "    data_preprocessed[col] = le.fit_transform(data_preprocessed[col])\n",
        "\n",
        "# Initialize StandardScaler\n",
        "scaler = StandardScaler()\n",
        "\n",
        "# List of numerical columns to scale\n",
        "numerical_cols = ['GHE code', 'Deaths', 'Population']\n",
        "\n",
        "# Scale numerical columns\n",
        "for col in numerical_cols:\n",
        "    data_preprocessed[col] = scaler.fit_transform(data_preprocessed[[col]])\n",
        "\n",
        "data_preprocessed.head()"
      ]
    },
    {
      "cell_type": "markdown",
      "id": "bf6756d8-885a-475a-98fb-6f533f1c764e",
      "metadata": {
        "noteable": {
          "cell_type": "markdown"
        }
      },
      "source": [
        "## Split the Data\n",
        "\n",
        "Split the data into a training set and a test set. The training set is used to train the model, and the test set is used to evaluate its performance."
      ]
    },
    {
      "cell_type": "code",
      "execution_count": null,
      "id": "81e0a543-86aa-47aa-b14d-e579db713b50",
      "metadata": {
        "ExecuteTime": {
          "end_time": "2023-08-03T20:32:09.370237+00:00",
          "start_time": "2023-08-03T20:32:09.178205+00:00"
        },
        "noteable": {
          "cell_type": "code",
          "output_collection_id": "1dc07210-dbb0-4877-9b1b-1cbe196bc502"
        }
      },
      "outputs": [],
      "source": [
        "# Import necessary library\n",
        "from sklearn.model_selection import train_test_split\n",
        "\n",
        "# Define the feature set and the target variable\n",
        "X = data_preprocessed.drop(['SpecificCondition', 'CauseDetail'], axis=1)\n",
        "y = data_preprocessed['SpecificCondition']\n",
        "\n",
        "# Split the data into a training set and a test set\n",
        "X_train, X_test, y_train, y_test = train_test_split(X, y, test_size=0.2, random_state=42)\n",
        "\n",
        "X_train.shape, X_test.shape"
      ]
    },
    {
      "cell_type": "markdown",
      "id": "521c96a1-35d5-4ccb-b8fd-e94594db8612",
      "metadata": {
        "noteable": {
          "cell_type": "markdown"
        }
      },
      "source": [
        "There are 266 missing values in the 'Population' column of the training data.\n",
        "\n",
        "Given this information, We are going to proceed with dropping these rows."
      ]
    },
    {
      "cell_type": "code",
      "execution_count": null,
      "id": "a9d15fd7-0d4c-4aca-864c-a52b0fcab90b",
      "metadata": {
        "ExecuteTime": {
          "end_time": "2023-08-03T20:32:09.565282+00:00",
          "start_time": "2023-08-03T20:32:09.380139+00:00"
        },
        "noteable": {
          "cell_type": "code",
          "output_collection_id": "87e9f3b4-53ce-4618-a5d0-d073036c5ccb"
        }
      },
      "outputs": [],
      "source": [
        "# Check the number of missing values in the 'Population' column\n",
        "X_train['Population'].isnull().sum()"
      ]
    },
    {
      "cell_type": "code",
      "execution_count": null,
      "id": "25804e98-5cf5-4896-b250-e324a426c4ec",
      "metadata": {
        "ExecuteTime": {
          "end_time": "2023-08-03T20:32:09.968773+00:00",
          "start_time": "2023-08-03T20:32:09.798586+00:00"
        },
        "noteable": {
          "cell_type": "code",
          "output_collection_id": "f3d49022-9d8f-4697-9169-5c48a6383625"
        }
      },
      "outputs": [],
      "source": [
        "# Drop rows with missing values in the 'Population' column\n",
        "X_train = X_train.dropna(subset=['Population'])\n",
        "y_train = y_train[X_train.index]\n",
        "\n",
        "# Check the number of missing values in the 'Population' column again\n",
        "X_train['Population'].isnull().sum()"
      ]
    },
    {
      "cell_type": "markdown",
      "id": "3033759d-3a78-4d6c-b070-b15096a4016c",
      "metadata": {
        "noteable": {
          "cell_type": "markdown"
        }
      },
      "source": [
        "## Train the Model\n",
        "Training data to train the Logistic Regression model"
      ]
    },
    {
      "cell_type": "code",
      "execution_count": null,
      "id": "db170b84-e9b4-477f-b9ae-1de13ccb2617",
      "metadata": {
        "ExecuteTime": {
          "end_time": "2023-08-03T20:33:56.918640+00:00",
          "start_time": "2023-08-03T20:32:09.985452+00:00"
        },
        "noteable": {
          "cell_type": "code",
          "output_collection_id": "d135a67a-458a-4e2c-abf6-9c1cb31ec56c"
        }
      },
      "outputs": [],
      "source": [
        "from sklearn.linear_model import LogisticRegression\n",
        "logreg = LogisticRegression()\n",
        "# Retrain the model\n",
        "logreg.fit(X_train, y_train)"
      ]
    },
    {
      "cell_type": "markdown",
      "id": "be5c3056-1e21-482a-8418-7719e0190797",
      "metadata": {
        "noteable": {
          "cell_type": "markdown"
        }
      },
      "source": [
        "It seems like there are still some missing values in the 'Population' column of our test data, which is causing an error when we try to make predictions with the Logistic Regression model. As we did with the training data, we need to handle these missing values in the test data as well."
      ]
    },
    {
      "cell_type": "code",
      "execution_count": null,
      "id": "a59a23c7-2a08-499e-81d8-fa6ed6847a5c",
      "metadata": {
        "ExecuteTime": {
          "end_time": "2023-08-03T20:33:57.449275+00:00",
          "start_time": "2023-08-03T20:33:57.282912+00:00"
        },
        "noteable": {
          "cell_type": "code",
          "output_collection_id": "ab6078d3-c5b1-4d14-ab82-6115b370af41"
        }
      },
      "outputs": [],
      "source": [
        "# Drop rows with missing values in the 'Population' column from the test data\n",
        "X_test = X_test.dropna(subset=['Population'])\n",
        "y_test = y_test[X_test.index]\n",
        "\n",
        "# Check the number of missing values in the 'Population' column of the test data again\n",
        "X_test['Population'].isnull().sum()"
      ]
    },
    {
      "cell_type": "code",
      "execution_count": null,
      "id": "9e64a876-5a13-4264-b08c-704b42de8e3e",
      "metadata": {
        "ExecuteTime": {
          "end_time": "2023-08-03T20:33:58.119281+00:00",
          "start_time": "2023-08-03T20:33:57.475353+00:00"
        },
        "noteable": {
          "cell_type": "code",
          "output_collection_id": "de0f814f-6c6f-414e-9679-90b07713476f"
        }
      },
      "outputs": [],
      "source": [
        "# Make predictions on the updated test data\n",
        "y_pred = logreg.predict(X_test)\n",
        "\n",
        "# Display the first few predictions\n",
        "y_pred[:5]"
      ]
    },
    {
      "cell_type": "markdown",
      "id": "bc7974eb-9d35-413f-bdb0-27bcfe6e605a",
      "metadata": {
        "noteable": {
          "cell_type": "markdown"
        }
      },
      "source": [
        "## Evaluate the Logistic Regression Model\n",
        "\n",
        "Accuracy: This is the simplest and most intuitive metric. It's the proportion of correct predictions out of total predictions. However, it can be misleading if the classes are imbalanced."
      ]
    },
    {
      "cell_type": "code",
      "execution_count": null,
      "id": "63899b53-1b1b-4d3c-8d21-dc4ef71427b1",
      "metadata": {
        "ExecuteTime": {
          "end_time": "2023-08-03T20:33:58.328762+00:00",
          "start_time": "2023-08-03T20:33:58.128612+00:00"
        },
        "noteable": {
          "cell_type": "code",
          "output_collection_id": "ae41f913-d18e-48f3-b4bb-38b944f00621"
        }
      },
      "outputs": [],
      "source": [
        "# Import necessary library\n",
        "from sklearn.metrics import accuracy_score\n",
        "\n",
        "# Calculate the accuracy of the model\n",
        "accuracy = accuracy_score(y_test, y_pred)\n",
        "\n",
        "# Print the accuracy\n",
        "accuracy"
      ]
    },
    {
      "cell_type": "markdown",
      "id": "500b14d1-1395-4535-a89c-b659a4f2a2e2",
      "metadata": {
        "noteable": {
          "cell_type": "markdown"
        }
      },
      "source": [
        "The accuracy of the Logistic Regression model on the test data is approximately 0.1625, or 16.25%.\n",
        "\n",
        "This means that the model correctly predicted the 'SpecificCondition' in about 16.25% of cases in the test data.\n",
        "\n",
        "While this might seem low, it's important to remember that this is a multiclass classification problem with a large number of classes (specific conditions), and some of these classes might be very rare. In such cases, even a seemingly low accuracy can be quite good.\n",
        "\n"
      ]
    },
    {
      "cell_type": "markdown",
      "id": "f9a651eb-aa35-47f0-9b6a-71fed88e6c61",
      "metadata": {
        "noteable": {
          "cell_type": "markdown"
        }
      },
      "source": [
        "Precision, Recall, and F1 Score: These are metrics that consider both the true positives and the false positives (precision), and the true positives and the false negatives (recall). The F1 score is the harmonic mean of precision and recall, and it tries to balance the two."
      ]
    },
    {
      "cell_type": "code",
      "execution_count": null,
      "id": "bc06c4e5-9efc-4594-a81e-b0bcf883179f",
      "metadata": {
        "ExecuteTime": {
          "end_time": "2023-08-03T20:33:58.793767+00:00",
          "start_time": "2023-08-03T20:33:58.338888+00:00"
        },
        "noteable": {
          "cell_type": "code",
          "output_collection_id": "1aaf7d4a-8b91-4698-9ca1-bfb73fd2a211"
        }
      },
      "outputs": [],
      "source": [
        "# Import necessary libraries\n",
        "from sklearn.metrics import precision_score, recall_score, f1_score\n",
        "\n",
        "# Calculate precision, recall, and F1 score\n",
        "precision = precision_score(y_test, y_pred, average='weighted')\n",
        "recall = recall_score(y_test, y_pred, average='weighted')\n",
        "f1 = f1_score(y_test, y_pred, average='weighted')\n",
        "\n",
        "# Print precision, recall, and F1 score\n",
        "precision, recall, f1"
      ]
    },
    {
      "cell_type": "markdown",
      "id": "8d296122-9f58-4da9-b4cd-e3bfc5edd17f",
      "metadata": {
        "noteable": {
          "cell_type": "markdown"
        }
      },
      "source": [
        "The precision, recall, and F1 score of the Logistic Regression model on the test data are approximately 0.0615, 0.1625, and 0.0754, respectively.\n",
        "\n",
        "- **Precision**: This is the proportion of true positive predictions (i.e., the model correctly predicted the specific condition) out of all positive predictions the model made. A precision of 0.0615 means that about 6.15% of the conditions the model predicted were correct.\n",
        "\n",
        "- **Recall**: This is the proportion of true positive predictions out of all actual positive instances. A recall of 0.1625 means that the model correctly predicted the specific condition for about 16.25% of all instances.\n",
        "\n",
        "- **F1 Score**: This is the harmonic mean of precision and recall, and it tries to balance the two. An F1 score of 0.0754 suggests that the model is not performing very well in terms of both precision and recall.\n",
        "\n",
        "These results suggest that the Logistic Regression model is having difficulty accurately predicting the specific condition based on the given features. This could be due to a variety of factors, such as the complexity and high dimensionality of the data, the imbalance in the classes, or the inherent limitations of the Logistic Regression model itself.\n",
        "\n",
        "It might be beneficial to try other machine learning models, use feature selection or extraction techniques to reduce the dimensionality of the data, or gather more data if possible."
      ]
    },
    {
      "cell_type": "markdown",
      "id": "94fe89c0-f542-45e9-9ae0-1e298977a841",
      "metadata": {
        "noteable": {
          "cell_type": "markdown"
        }
      },
      "source": [
        "GridSearchCV\n",
        "\n",
        "Is a method that performs hyperparameter tuning in an exhaustive manner. It builds a model for every combination of hyperparameters specified and records the performance of each model. At the end of the process, it returns the hyperparameters that resulted in the best performing model."
      ]
    },
    {
      "cell_type": "code",
      "execution_count": null,
      "id": "360b3735-69cf-4923-95f7-a635083b7737",
      "metadata": {
        "ExecuteTime": {
          "end_time": "2023-08-03T20:37:07.284166+00:00",
          "start_time": "2023-08-03T20:33:58.803188+00:00"
        },
        "noteable": {
          "cell_type": "code",
          "output_collection_id": "fe163acd-b64d-40d8-9411-e5762af908e3"
        }
      },
      "outputs": [],
      "source": [
        "# Import necessary libraries\n",
        "from sklearn.model_selection import GridSearchCV\n",
        "\n",
        "# Define the hyperparameters to tune\n",
        "param_grid = {\n",
        "    'C': [0.1, 1, 10, 100],\n",
        "    'penalty': ['l1', 'l2'],\n",
        "    'solver': ['liblinear', 'saga']\n",
        "}\n",
        "\n",
        "# Create a GridSearchCV object\n",
        "grid = GridSearchCV(LogisticRegression(), param_grid, cv=3, scoring='accuracy')\n",
        "\n",
        "# Fit the model to the training data and find the best hyperparameters\n",
        "grid.fit(X_train, y_train)"
      ]
    },
    {
      "cell_type": "code",
      "execution_count": null,
      "id": "34cb14f1-8121-4a01-a981-4ce85c484333",
      "metadata": {
        "ExecuteTime": {
          "end_time": "2023-08-03T19:14:50.238441+00:00",
          "start_time": "2023-08-03T19:14:49.518943+00:00"
        },
        "noteable": {
          "cell_type": "code",
          "output_collection_id": "4d6398ec-46ec-4d65-8dcc-58b5fa32742b"
        }
      },
      "outputs": [],
      "source": [
        "# Make predictions on the test data using the best model from GridSearchCV\n",
        "y_pred_best = grid.best_estimator_.predict(X_test)\n",
        "\n",
        "# Calculate precision, recall, and F1 score for the best model\n",
        "precision_best = precision_score(y_test, y_pred_best, average='weighted')\n",
        "recall_best = recall_score(y_test, y_pred_best, average='weighted')\n",
        "f1_best = f1_score(y_test, y_pred_best, average='weighted')\n",
        "\n",
        "# Print precision, recall, and F1 score for the best model\n",
        "precision_best, recall_best, f1_best"
      ]
    },
    {
      "cell_type": "markdown",
      "id": "b5dbe425-c597-4c0f-9864-54a516c371df",
      "metadata": {
        "noteable": {
          "cell_type": "markdown"
        }
      },
      "source": [
        "The precision, recall, and F1 score of the best Logistic Regression model (as determined by GridSearchCV) on the test data are approximately 0.331, 0.418, and 0.326, respectively.\n",
        "\n",
        "- **Precision**: This is the proportion of true positive predictions (i.e., the model correctly predicted the specific condition) out of all positive predictions the model made. A precision of 0.331 means that about 33.1% of the conditions the model predicted were correct.\n",
        "\n",
        "- **Recall**: This is the proportion of true positive predictions out of all actual positive instances. A recall of 0.418 means that the model correctly predicted the specific condition for about 41.8% of all instances.\n",
        "\n",
        "- **F1 Score**: This is the harmonic mean of precision and recall, and it tries to balance the two. An F1 score of 0.326 suggests that the model is performing moderately well in terms of both precision and recall.\n",
        "\n",
        "These results are significantly better than the ones obtained before hyperparameter tuning. This shows the importance of hyperparameter tuning in machine learning. By searching over a range of hyperparameters, GridSearchCV was able to find a set of hyperparameters that improved the model's performance on the test data.\n",
        "\n",
        "However, there's still room for improvement. Further steps could include trying different machine learning models, using more advanced feature selection or extraction techniques, or gathering more data if possible."
      ]
    },
    {
      "cell_type": "markdown",
      "id": "2220d121-0aed-43ea-854b-b0a1cff8713b",
      "metadata": {
        "noteable": {
          "cell_type": "markdown"
        }
      },
      "source": [
        "## Random Forests\n",
        "\n",
        "Random Forests are an ensemble method that combines multiple Decision Trees to make a final prediction. They are typically more accurate than individual Decision Trees, but they are also more complex and less interpretable."
      ]
    },
    {
      "cell_type": "markdown",
      "id": "b1b9a0a7-4134-42af-8e15-ab4c3d6ebba5",
      "metadata": {
        "noteable": {
          "cell_type": "markdown"
        }
      },
      "source": [
        "## Data Preprocessing\n",
        "\n",
        "Before feeding the data into the model, we need to ensure that it's in the right format. Random Forests can handle both numerical and categorical data, but the categorical data should be encoded. For the categorical features ('Sex', 'GeneralCause', 'Disease_AccidentType', 'Country', 'Continent'), you can use one-hot encoding or label encoding. For the numerical features ('Deaths', 'Population'), you might want to scale them, especially if they have very different scales."
      ]
    },
    {
      "cell_type": "code",
      "execution_count": null,
      "id": "964cf2ad-dde4-4497-9287-acab99514b8c",
      "metadata": {
        "ExecuteTime": {
          "end_time": "2023-08-04T02:47:58.372320+00:00",
          "start_time": "2023-08-04T02:47:58.125106+00:00"
        },
        "noteable": {
          "cell_type": "code",
          "output_collection_id": "3fc82684-e9a8-4b5b-b45f-ff8f509f25ea"
        }
      },
      "outputs": [],
      "source": [
        "# Remove rows with missing values\n",
        "merged_data = merged_data.dropna()\n",
        "\n",
        "# Check the shape of the DataFrame after removing missing values\n",
        "merged_data.shape"
      ]
    },
    {
      "cell_type": "markdown",
      "id": "c0c87f70-5554-40b5-b291-1544cc54e230",
      "metadata": {
        "noteable": {
          "cell_type": "markdown"
        }
      },
      "source": [
        "We have removed the rows with missing values from the DataFrame. Now, the DataFrame merged_data has 61880 rows and 11 columns.\n",
        "\n",
        "We will proceed with the data preprocessing steps for the Random Forest model. This includes encoding the categorical features and scaling the numerical features."
      ]
    },
    {
      "cell_type": "code",
      "execution_count": null,
      "id": "a5f85860-a7c0-4d61-b629-3e21d9ffc849",
      "metadata": {
        "ExecuteTime": {
          "end_time": "2023-08-04T02:48:04.093596+00:00",
          "start_time": "2023-08-04T02:48:03.678218+00:00"
        },
        "noteable": {
          "cell_type": "code",
          "output_collection_id": "beb7e96e-ef66-4fdc-a554-1c914b56975d"
        }
      },
      "outputs": [],
      "source": [
        "# Import necessary libraries\n",
        "from sklearn.preprocessing import OneHotEncoder, StandardScaler\n",
        "from sklearn.compose import ColumnTransformer\n",
        "\n",
        "# Define the features to be one-hot encoded and scaled\n",
        "categorical_features = ['Sex', 'GeneralCause', 'Disease_AccidentType', 'Country', 'Continent']\n",
        "numerical_features = ['Deaths', 'Population']\n",
        "\n",
        "# Initialize the ColumnTransformer\n",
        "preprocessor = ColumnTransformer(\n",
        "    transformers=[\n",
        "        ('onehot', OneHotEncoder(), categorical_features),\n",
        "        ('scale', StandardScaler(), numerical_features)\n",
        "    ]\n",
        ")\n",
        "\n",
        "# Fit and transform the data\n",
        "X = preprocessor.fit_transform(merged_data.drop(['SpecificCondition', 'CauseDetail'], axis=1))\n",
        "y = merged_data['SpecificCondition']"
      ]
    },
    {
      "cell_type": "markdown",
      "id": "95926b3a-2b69-4852-b926-b9c029b7699f",
      "metadata": {
        "noteable": {
          "cell_type": "markdown"
        }
      },
      "source": [
        "We have preprocessed the data by one-hot encoding the categorical features and scaling the numerical features. The preprocessed data is now stored in X, and the target variable 'SpecificCondition' is stored in y.\n",
        "\n",
        "Next, we will split the data into a training set and a test set. This will allow us to train our model on the training data and then evaluate its performance on the unseen test data."
      ]
    },
    {
      "cell_type": "markdown",
      "id": "e3527dde-2af6-48ee-a167-ff1bf46635a2",
      "metadata": {
        "noteable": {
          "cell_type": "markdown"
        }
      },
      "source": [
        "## Split the Data\n",
        "\n",
        "Split the data into a training set and a test set. This will allow you to evaluate the performance of the model on unseen data.\n",
        "\n"
      ]
    },
    {
      "cell_type": "code",
      "execution_count": null,
      "id": "a1d0fc1a-8ba6-4eda-ab8d-a2573c7c5e8f",
      "metadata": {
        "ExecuteTime": {
          "end_time": "2023-08-04T02:48:13.163513+00:00",
          "start_time": "2023-08-04T02:48:12.978494+00:00"
        },
        "noteable": {
          "cell_type": "code",
          "output_collection_id": "dd72af6b-1dda-4891-bb9b-83371e21e407"
        }
      },
      "outputs": [],
      "source": [
        "# Import necessary library\n",
        "from sklearn.model_selection import train_test_split\n",
        "\n",
        "# Split the data into a training set and a test set\n",
        "X_train, X_test, y_train, y_test = train_test_split(X, y, test_size=0.2, random_state=42)\n",
        "\n",
        "# Check the shapes of the training and test sets\n",
        "X_train.shape, X_test.shape"
      ]
    },
    {
      "cell_type": "markdown",
      "id": "1f766bc9-9bdf-46a6-bc6b-d452892629b7",
      "metadata": {
        "noteable": {
          "cell_type": "markdown"
        }
      },
      "source": [
        "We have split the data into a training set and a test set. The training set contains 49504 samples, and the test set contains 12376 samples. Each sample has 219 features, which is the result of one-hot encoding the categorical features."
      ]
    },
    {
      "cell_type": "markdown",
      "id": "8bb7cc25-7413-4d1e-a286-d008eee80c80",
      "metadata": {
        "noteable": {
          "cell_type": "markdown"
        }
      },
      "source": [
        "## Train the Model\n",
        "\n",
        "Use the training data to train the Random Forest model. \n",
        "\n"
      ]
    },
    {
      "cell_type": "code",
      "execution_count": null,
      "id": "38f77b72-9e1f-4719-814d-a4c819c8d671",
      "metadata": {
        "ExecuteTime": {
          "end_time": "2023-08-04T02:50:46.643279+00:00",
          "start_time": "2023-08-04T02:48:54.025939+00:00"
        },
        "noteable": {
          "cell_type": "code",
          "output_collection_id": "baf72ddc-897e-4cc9-8c78-f793bcffef9a"
        }
      },
      "outputs": [],
      "source": [
        "# Import necessary library\n",
        "from sklearn.ensemble import RandomForestClassifier\n",
        "\n",
        "# Initialize the RandomForestClassifier\n",
        "rf = RandomForestClassifier(random_state=42)\n",
        "\n",
        "# Train the model\n",
        "rf.fit(X_train, y_train)"
      ]
    },
    {
      "cell_type": "markdown",
      "id": "dfeef1ca-ac6b-4de8-a050-2b9ea199254e",
      "metadata": {
        "noteable": {
          "cell_type": "markdown"
        }
      },
      "source": [
        "The Random Forest model is currently being trained on the training data"
      ]
    },
    {
      "cell_type": "code",
      "execution_count": null,
      "id": "d12af438-92f8-4476-bbf0-f8625db17ec4",
      "metadata": {
        "ExecuteTime": {
          "end_time": "2023-08-04T02:53:35.954584+00:00",
          "start_time": "2023-08-04T02:53:34.534649+00:00"
        },
        "noteable": {
          "cell_type": "code",
          "output_collection_id": "364cfec5-833f-42c1-9c6e-d773a20866a5"
        }
      },
      "outputs": [],
      "source": [
        "# Make predictions on the test data\n",
        "y_pred = rf.predict(X_test)\n",
        "\n",
        "# Display the first few predictions\n",
        "y_pred[:5]"
      ]
    },
    {
      "cell_type": "markdown",
      "id": "452093a7-27f4-41b9-ba75-9465c5d9f2db",
      "metadata": {
        "noteable": {
          "cell_type": "markdown"
        }
      },
      "source": [
        "We used the trained Random Forest model to make predictions on the test data. The predictions are now stored in y_pred.\n",
        "\n",
        "The first five predictions are: 'Congenital heart anomalies', 'Parasitic and vector diseases', 'Stroke', 'Kidney diseases', and 'Other musculoskeletal disorders'. These are the specific conditions that the model predicts for the first five samples in the test data."
      ]
    },
    {
      "cell_type": "markdown",
      "id": "ce5ef5b2-ec5a-44be-9464-efd8131e37de",
      "metadata": {
        "noteable": {
          "cell_type": "markdown"
        }
      },
      "source": [
        "## Evaluate the Model\n",
        "\n",
        "Use the test data to evaluate the performance of the model. We can calculate metrics such as accuracy, precision, recall, and F1 score.\n",
        "\n"
      ]
    },
    {
      "cell_type": "code",
      "execution_count": null,
      "id": "a9443798-a2ba-401d-886b-4debfa469d26",
      "metadata": {
        "ExecuteTime": {
          "end_time": "2023-08-04T02:55:58.053218+00:00",
          "start_time": "2023-08-04T02:55:57.880245+00:00"
        },
        "noteable": {
          "cell_type": "code",
          "output_collection_id": "97ddf5a3-3acd-4a47-97ac-f8645add7356"
        }
      },
      "outputs": [],
      "source": [
        "# Import necessary library\n",
        "from sklearn.metrics import accuracy_score\n",
        "\n",
        "# Calculate the accuracy of the model\n",
        "accuracy = accuracy_score(y_test, y_pred)\n",
        "\n",
        "# Print the accuracy\n",
        "accuracy"
      ]
    },
    {
      "cell_type": "markdown",
      "id": "7554315f-ec7d-441f-a9b4-c7a2742117b8",
      "metadata": {
        "noteable": {
          "cell_type": "markdown"
        }
      },
      "source": [
        "The accuracy of the Random Forest model on the test data is approximately 0.221, or 22.1%. This means that the model correctly predicts the specific condition in about 22.1% of cases in the test data.\n",
        "\n",
        "While this accuracy is higher than the accuracy of the Logistic Regression model (16.2%), it's still relatively low. This could be due to the complexity of the task (predicting the specific condition of death is a multi-class classification problem with many classes), the quality and representativeness of the data, or the limitations of the model itself."
      ]
    },
    {
      "cell_type": "markdown",
      "id": "a4f1e62a-5c9f-4cc4-b350-179611ae7aa4",
      "metadata": {
        "noteable": {
          "cell_type": "markdown"
        }
      },
      "source": [
        "## Report Model Parameters"
      ]
    },
    {
      "cell_type": "code",
      "execution_count": null,
      "id": "a8c7bd03-89d3-43ad-981a-849960bdb27c",
      "metadata": {
        "ExecuteTime": {
          "end_time": "2023-08-04T02:57:05.820734+00:00",
          "start_time": "2023-08-04T02:57:05.224978+00:00"
        },
        "noteable": {
          "cell_type": "code",
          "output_collection_id": "322440aa-0664-4154-9d0b-101c3018a257"
        }
      },
      "outputs": [],
      "source": [
        "# Import necessary libraries\n",
        "from sklearn.metrics import confusion_matrix, classification_report\n",
        "\n",
        "# Calculate and print the confusion matrix\n",
        "cm = confusion_matrix(y_test, y_pred)\n",
        "print('Confusion Matrix:')\n",
        "print(cm)\n",
        "\n",
        "# Calculate and print the classification report\n",
        "cr = classification_report(y_test, y_pred)\n",
        "print('\\nClassification Report:')\n",
        "print(cr)"
      ]
    },
    {
      "cell_type": "markdown",
      "id": "e1aa9531-58f6-4e0b-8a6f-9952ce4192d1",
      "metadata": {
        "noteable": {
          "cell_type": "markdown"
        }
      },
      "source": [
        "The confusion matrix and classification report provide a detailed evaluation of the model's performance.\n",
        "\n",
        "The confusion matrix shows the number of true positive, true negative, false positive, and false negative predictions for each class. Each row of the matrix represents the instances in a predicted class, while each column represents the instances in an actual class. The diagonal elements represent the number of points for which the predicted label is equal to the true label, while off-diagonal elements are those that are mislabeled by the classifier. The higher the diagonal values of the confusion matrix, the better, indicating many correct predictions.\n",
        "\n",
        "The classification report provides key metrics including precision, recall, f1-score, and support for each class.\n",
        "\n",
        "Precision is the ability of the classifier not to label a positive sample as negative. It is the ratio of true positives (tp) to the sum of true positives and false positives (tp + fp).\n",
        "Recall (also known as sensitivity) is the ability of the classifier to find all the positive samples. It is the ratio of true positives to the sum of true positives and false negatives (tp + fn).\n",
        "The F1 score is a weighted harmonic mean of precision and recall. The best possible F1 score is 1.0 and the worst is 0.0. F1 scores are lower than accuracy measures as they embed precision and recall into their computation.\n",
        "Support is the number of actual occurrences of the class in the specified dataset.\n",
        "\n",
        "\n",
        "From the results, it appears that the model's performance varies significantly across different classes. Some classes have relatively high precision, recall, and F1 scores, while others have scores close to zero. This could be due to the imbalance in the dataset, where some classes have many more samples than others."
      ]
    },
    {
      "cell_type": "markdown",
      "id": "5b262398-2ff4-4e52-984b-02eea6aa2c29",
      "metadata": {
        "noteable": {
          "cell_type": "markdown"
        }
      },
      "source": [
        "## Report Conclusion of Machine Learning Model"
      ]
    },
    {
      "cell_type": "markdown",
      "id": "21fa13de-bc55-426c-82ff-59a47ed8ef1d",
      "metadata": {
        "noteable": {
          "cell_type": "markdown"
        }
      },
      "source": [
        "**Logistic Regretion** :\n",
        "\n",
        "The precision, recall, and F1 score of the best Logistic Regression model (as determined by GridSearchCV) on the test data are approximately 0.331, 0.418, and 0.326, respectively.\n",
        "\n",
        "- Precision: This is the proportion of true positive predictions (i.e., the model correctly predicted the specific condition) out of all positive predictions the model made. A precision of 0.331 means that about 33.1% of the conditions the model predicted were correct.\n",
        "\n",
        "- Recall: This is the proportion of true positive predictions out of all actual positive instances. A recall of 0.418 means that the model correctly predicted the specific condition for about 41.8% of all instances.\n",
        "\n",
        "- F1 Score: This is the harmonic mean of precision and recall, and it tries to balance the two. An F1 score of 0.326 suggests that the model is performing moderately well in terms of both precision and recall.\n",
        "\n",
        "These results are significantly better than the ones obtained before hyperparameter tuning. This shows the importance of hyperparameter tuning in machine learning. By searching over a range of hyperparameters, GridSearchCV was able to find a set of hyperparameters that improved the model's performance on the test data.\n",
        "\n",
        "However, there's still room for improvement\n",
        "\n",
        "\n",
        "**Random Forests** : \n",
        "\n",
        "The accuracy of the Random Forest model on the test data is approximately 0.221, or 22.1%. This means that the model correctly predicts the specific condition in about 22.1% of cases in the test data.\n",
        "\n",
        "While this accuracy is higher than the accuracy of the Logistic Regression model (16.2%), it's still relatively low. This could be due to the complexity of the task (predicting the specific condition of death is a multi-class classification problem with many classes), the quality and representativeness of the data, or the limitations of the model itself.\n",
        "\n",
        "\n",
        "\n",
        "\n",
        "In the next steps, we might want to consider strategies for dealing with class imbalance, such as oversampling the minority class, undersampling the majority class, or using a combination of both. Additionally, you could explore other models or tuning the hyperparameters of the current model to improve performance."
      ]
    }
  ],
  "metadata": {
    "kernel_info": {
      "name": "python3"
    },
    "kernelspec": {
      "display_name": "Python 3.9",
      "language": "python",
      "name": "python3"
    },
    "language_info": {
      "codemirror_mode": {
        "name": "ipython",
        "version": 3
      },
      "file_extension": ".py",
      "mimetype": "text/x-python",
      "name": "python",
      "nbconvert_exporter": "python",
      "pygments_lexer": "ipython3",
      "version": "3.10.10"
    },
    "noteable": {
      "last_transaction_id": "639f82ac-ea77-49df-ade7-b4fa587eda41"
    },
    "noteable-chatgpt": {
      "create_notebook": {
        "openai_conversation_id": "32421588-65a6-50ea-a159-1032aded86be",
        "openai_ephemeral_user_id": "d83962e5-3c15-502f-9482-541c6598bf35",
        "openai_subdivision1_iso_code": "MX-BCN"
      }
    },
    "selected_hardware_size": "small"
  },
  "nbformat": 4,
  "nbformat_minor": 5
}
